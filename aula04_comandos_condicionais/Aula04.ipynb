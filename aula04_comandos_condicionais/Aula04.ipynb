{
 "cells": [
  {
   "cell_type": "markdown",
   "metadata": {},
   "source": [
    "# AULA 04 #"
   ]
  },
  {
   "cell_type": "markdown",
   "metadata": {},
   "source": [
    "### 4.1: Comandos condicionais ###\n",
    "\n",
    "Um comando condicional é aquele que permite decitir, a partir do resultado de uma operação relacional ou lógica se um determinado bloco de comandos deve ou não ser executado.\n",
    "\n",
    "Lembrando que um bloco de comandos é um conjunto de instruções agrupadas. Em Python, um bloco de comandos é identado dentro de um comando anterior seguido de dois pontos.\n",
    "\n",
    "Por padrão a identação é feita com 2 espaços em branco antes de cada comando que deve estar no bloco.\n",
    "\n",
    "#### 4.1.1: Comandos *if* e *else* ####\n",
    "\n",
    "Em python, os principais comandos são\n",
    "\n",
    "$if$: se (verifica se uma senteça é verdadeira e se for, realiza os comandos do bloco).\n",
    "\n",
    "$else$: se não / caso contrário (caso as condições anteriores não sejam satisfeitas, executa os comandos do\n",
    "      seu bloco.\n",
    "\n",
    "{MODELO}\n",
    "\n",
    "if <expressão relacional ou lógica> :\n",
    "\n",
    "    comandos executados se a expressão é verdadeira.\n",
    "\n",
    "\n",
    "else :\n",
    "\n",
    "    comandos executados se a expressão é falsa."
   ]
  },
  {
   "cell_type": "code",
   "execution_count": 3,
   "metadata": {},
   "outputs": [
    {
     "name": "stdout",
     "output_type": "stream",
     "text": [
      "Digite um número inteiro: 20\n",
      "20 é um número par.\n",
      "==FIM==\n"
     ]
    }
   ],
   "source": [
    "#EXEMPLO 04.1: Programa que identifica se um número é par ou ímpar\n",
    "\n",
    "n=int(input('Digite um número inteiro: '))\n",
    "\n",
    "if n%2==0:\n",
    "\n",
    "    print('{} é um número par.'.format(n))\n",
    "\n",
    "else:\n",
    "\n",
    "    print('{} é um número ímpar'.format(n))\n",
    "\n",
    "#O comando abaixo é executado em qqr um dos casos.\n",
    "print('==FIM==')"
   ]
  },
  {
   "cell_type": "code",
   "execution_count": 4,
   "metadata": {},
   "outputs": [
    {
     "name": "stdout",
     "output_type": "stream",
     "text": [
      "Digite um número: 10\n",
      "Digite um número: 5\n",
      "Digite um número: 15\n",
      "5.0, 10.0, 15.0\n"
     ]
    }
   ],
   "source": [
    "#EXEMPLO 04.2: Escreva um programa que lê três números distintos e os imprime em ordem crescente.\n",
    "\n",
    "n1=float(input('Digite um número: '))\n",
    "n2=float(input('Digite um número: '))\n",
    "n3=float(input('Digite um número: '))\n",
    "\n",
    "if n1<=n2 and n1<=n3:\n",
    "\n",
    "    if n2<=n3:\n",
    "        print('{}, {}, {}'.format(n1, n2, n3))\n",
    "    else:\n",
    "        print('{}, {}, {}'.format(n1, n3, n2))\n",
    "\n",
    "if n2<n1 and n2<=n3:\n",
    "\n",
    "    if n1<=n3:\n",
    "        print('{}, {}, {}'.format(n2, n1, n3))\n",
    "    else:\n",
    "        print('{}, {}, {}'.format(n2, n3, n1))\n",
    "\n",
    "if n3<n1 and n3<n2:\n",
    "\n",
    "    if n1<=n2:\n",
    "        print('{}, {}, {}'.format(n3, n1, n2))\n",
    "    else:\n",
    "        print('{}, {}, {}'.format(n3, n2, n1))"
   ]
  },
  {
   "cell_type": "markdown",
   "metadata": {},
   "source": [
    "#### 4.1.1: Comandos *if-else* e *else-if* ####\n",
    "\n",
    "Como o Python executa os comandos por linhas, ao utilizarmos uma série de \"ifs\", como no ex008, mesmo a primeira opção sendo verdadeira, o programa executará e verificará as outras linhas.\n",
    "\n",
    "Quando dois times empatam no Brasileirão, há criterios de desempate que seguem uma certa ordenação: o número de vitórias, saldo de gols, gols feitos, etc. Se um desses critérios é satisfeito, os outros não precisam ser analisdos.\n",
    "\n",
    "Suponha por exemplo que o time 1 e o time 2 estejam empatados. O time 1 tem mais vitórias que o time 2, mas o saldo de gols do time 2 é maior que o do time 1. Caso fizéssemos um programa somente com ifs, na verificação da primeira condição (vitórias ele daria a vitória para o time 1, mas, ao verificar a segunda condição, ele daria a vitória ao time 2."
   ]
  },
  {
   "cell_type": "code",
   "execution_count": 5,
   "metadata": {},
   "outputs": [
    {
     "name": "stdout",
     "output_type": "stream",
     "text": [
      "Digite um número: 10\n",
      "Digite um número: 50\n",
      "Digite um número: 9\n",
      "9.0, 10.0, 50.0\n"
     ]
    }
   ],
   "source": [
    "#EXEMPLO 04.3: Refazer o exemplo 04.2 com if-else e else-if\n",
    "\n",
    "n1=float(input('Digite um número: '))\n",
    "n2=float(input('Digite um número: '))\n",
    "n3=float(input('Digite um número: '))\n",
    "\n",
    "if n1<=n2 and n1<=n3:\n",
    "\n",
    "    if n2<=n3:\n",
    "        print('{}, {}, {}'.format(n1, n2, n3))\n",
    "    else:\n",
    "        print('{}, {}, {}'.format(n1, n3, n2))\n",
    "\n",
    "else:\n",
    "    if n2<n1 and n2<=n3:\n",
    "\n",
    "        if n1<=n3:\n",
    "            print('{}, {}, {}'.format(n2, n1, n3))\n",
    "        else:\n",
    "            print('{}, {}, {}'.format(n2, n3, n1))\n",
    "\n",
    "    else:\n",
    "        if n3<n1 and n3<n2:\n",
    "\n",
    "            if n1<=n2:\n",
    "                print('{}, {}, {}'.format(n3, n1, n2))\n",
    "            else:\n",
    "                print('{}, {}, {}'.format(n3, n2, n1))"
   ]
  },
  {
   "cell_type": "markdown",
   "metadata": {},
   "source": [
    "Ao invés de digitarmos:\n",
    "\n",
    "(...)\n",
    "else:\n",
    "\n",
    "    if <condição>:\n",
    "    ...\n",
    "\n",
    "\n",
    "Podemos digitar:\n",
    "\n",
    "\n",
    "(...)\n",
    "elif <condição>:\n",
    "\n",
    "    ...\n",
    "\n",
    "(...)\n",
    "\n",
    "elif <condição>:\n",
    "\n",
    "    ...\n",
    "        \n",
    "else:\n",
    "\n",
    "\n",
    "#ESTE ULTIMO ELSE PARA UMA CONDIÇÃO QUE NÃO SEJA RESPEITADA POR NENHUMA DAS ANTERIORES."
   ]
  }
 ],
 "metadata": {
  "kernelspec": {
   "display_name": "Python 3",
   "language": "python",
   "name": "python3"
  },
  "language_info": {
   "codemirror_mode": {
    "name": "ipython",
    "version": 3
   },
   "file_extension": ".py",
   "mimetype": "text/x-python",
   "name": "python",
   "nbconvert_exporter": "python",
   "pygments_lexer": "ipython3",
   "version": "3.7.2"
  }
 },
 "nbformat": 4,
 "nbformat_minor": 2
}
