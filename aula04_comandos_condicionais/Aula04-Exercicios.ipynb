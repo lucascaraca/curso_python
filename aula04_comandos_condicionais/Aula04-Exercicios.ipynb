{
 "cells": [
  {
   "cell_type": "markdown",
   "metadata": {},
   "source": [
    "006.: Escrever um programa que lê um número inteiro do teclado e imprime \"SIM\" se o número for par e maior do que 10, ou for ímpar e menor que 50. Caso contrário o programa deve imprimir \"NAO\"."
   ]
  },
  {
   "cell_type": "code",
   "execution_count": 1,
   "metadata": {},
   "outputs": [
    {
     "name": "stdout",
     "output_type": "stream",
     "text": [
      "Digite um número inteiro: 90\n",
      "SIM\n"
     ]
    }
   ],
   "source": [
    "n=int(input('Digite um número inteiro: '))\n",
    "\n",
    "if ((n%2==0 and n>10) or (n%2!=0 and n<50)):\n",
    "\n",
    "    print('SIM')\n",
    "\n",
    "else:\n",
    "    print('NAO')"
   ]
  },
  {
   "cell_type": "markdown",
   "metadata": {},
   "source": [
    "007.: Escrever um programa que lê três números e imprime o maior deles."
   ]
  },
  {
   "cell_type": "code",
   "execution_count": 2,
   "metadata": {},
   "outputs": [
    {
     "name": "stdout",
     "output_type": "stream",
     "text": [
      "Digite o primeiro número: 90\n",
      "Digite o segundo número: 10\n",
      "Digite o terceiro número: 3\n",
      "90.0 é o maior número.\n"
     ]
    }
   ],
   "source": [
    "n1=float(input('Digite o primeiro número: '))\n",
    "n2=float(input('Digite o segundo número: '))\n",
    "n3=float(input('Digite o terceiro número: '))\n",
    "\n",
    "if n1>=n2 and n1>=n3:\n",
    "\n",
    "    print('{} é o maior número.'.format(n1))\n",
    "\n",
    "if n2>n1 and n2>=n3:\n",
    "\n",
    "    print('{} é o maior número'.format(n2))\n",
    "\n",
    "if n3>n1 and n3>n1:\n",
    "\n",
    "    print('{} é o maior número.'.format(n3))"
   ]
  },
  {
   "cell_type": "markdown",
   "metadata": {},
   "source": [
    "008.: Escreva um programa que lê três números distintos e os imprime em ordem crescente."
   ]
  },
  {
   "cell_type": "code",
   "execution_count": 3,
   "metadata": {},
   "outputs": [
    {
     "name": "stdout",
     "output_type": "stream",
     "text": [
      "Digite um número: 8\n",
      "Digite um número: 5\n",
      "Digite um número: 10\n",
      "5.0, 8.0, 10.0\n"
     ]
    }
   ],
   "source": [
    "n1=float(input('Digite um número: '))\n",
    "n2=float(input('Digite um número: '))\n",
    "n3=float(input('Digite um número: '))\n",
    "\n",
    "if n1<=n2 and n1<=n3:\n",
    "\n",
    "    if n2<=n3:\n",
    "        print('{}, {}, {}'.format(n1, n2, n3))\n",
    "    else:\n",
    "        print('{}, {}, {}'.format(n1, n3, n2))\n",
    "\n",
    "if n2<n1 and n2<=n3:\n",
    "\n",
    "    if n1<=n3:\n",
    "        print('{}, {}, {}'.format(n2, n1, n3))\n",
    "    else:\n",
    "        print('{}, {}, {}'.format(n2, n3, n1))\n",
    "\n",
    "if n3<n1 and n3<n2:\n",
    "\n",
    "    if n1<=n2:\n",
    "        print('{}, {}, {}'.format(n3, n1, n2))\n",
    "    else:\n",
    "        print('{}, {}, {}'.format(n3, n2, n1))"
   ]
  },
  {
   "cell_type": "markdown",
   "metadata": {},
   "source": [
    "009.: Refazer o ex008 utilizando ELIF."
   ]
  },
  {
   "cell_type": "code",
   "execution_count": 4,
   "metadata": {},
   "outputs": [
    {
     "name": "stdout",
     "output_type": "stream",
     "text": [
      "Digite um número: 90\n",
      "Digite um número: 10\n",
      "Digite um número: 5\n",
      "5.0, 10.0, 90.0\n"
     ]
    }
   ],
   "source": [
    "n1=float(input('Digite um número: '))\n",
    "n2=float(input('Digite um número: '))\n",
    "n3=float(input('Digite um número: '))\n",
    "\n",
    "if n1<=n2 and n1<=n3:\n",
    "\n",
    "    if n2<=n3:\n",
    "        print('{}, {}, {}'.format(n1, n2, n3))\n",
    "    else:\n",
    "        print('{}, {}, {}'.format(n1, n3, n2))\n",
    "\n",
    "elif n2<n1 and n2<=n3:\n",
    "\n",
    "    if n1<=n3:\n",
    "        print('{}, {}, {}'.format(n2, n1, n3))\n",
    "    else:\n",
    "        print('{}, {}, {}'.format(n2, n3, n1))\n",
    "\n",
    "elif n3<n1 and n3<n2:\n",
    "\n",
    "    if n1<=n2:\n",
    "        print('{}, {}, {}'.format(n3, n1, n2))\n",
    "    else:\n",
    "        print('{}, {}, {}'.format(n3, n2, n1))"
   ]
  },
  {
   "cell_type": "markdown",
   "metadata": {},
   "source": [
    "010.: Quando ações são vendidas ou compradas por meio de um corretor, a comissão do corretor é muitas vezes calculada usando uma escala que depende do valor das ações negociadas. Escreva um programa que calcule o valor da comissão a partir do valor da transação informado pelo usuário, sabendo-se que o corretor cobra os valores indicados abaixo e que a comissão mínima é de R$ 39,00:\n",
    "\n",
    "Até RS2.500,00, comissão de RS30+1,7%\n",
    "\n",
    "RS2.500,01 até RS6.250,00, comissão de RS56 + 0,66%\n",
    "\n",
    "RS6.250,01 até RS20.000,00, comissão de RS76 + 0,34%\n",
    "\n",
    "RS20.000,01 até RS50.000,00, comissão de RS100 + 0,22%\n",
    "\n",
    "RS50.000,01 até RS500.000,00, comissão de RS155 + 0,11%\n",
    "\n",
    "Mais que RS 500.000,00, comissão de RS255 + 0,09%"
   ]
  },
  {
   "cell_type": "code",
   "execution_count": 5,
   "metadata": {},
   "outputs": [
    {
     "name": "stdout",
     "output_type": "stream",
     "text": [
      "Entre com o valor em reais das ações negociadas: R$ 8000\n",
      "O valor da comissão é de R$ 103.2\n"
     ]
    }
   ],
   "source": [
    "v=float(input('Entre com o valor em reais das ações negociadas: R$ '))\n",
    "\n",
    "if (v<=529.41):\n",
    "    print('O valor da comissão é de R$ 39.00')\n",
    "\n",
    "elif (v>529.41 and v<=2500):\n",
    "    v=0.017*v\n",
    "    print('O valor da comissão é de R$ {}'.format(v + 30))\n",
    "\n",
    "elif (v>2500 and v<=6250):\n",
    "    v=0.0066*v+56\n",
    "    print('O valor da comissão é de R$ {}'.format(v))\n",
    "\n",
    "elif (v>6250 and v<=20000):\n",
    "    v=0.0034*v+76\n",
    "    print('O valor da comissão é de R$ {}'.format(v))\n",
    "\n",
    "elif (v>20000 and v<=50000):\n",
    "    v=0.0022*v+100\n",
    "    print('O valor da comissão é de R$ {}'.format(v))\n",
    "\n",
    "elif (v>50000 and v<=500000):\n",
    "    v=0.0011*v+155\n",
    "    print('O valor da comissão é de R$ {}'.format(v))\n",
    "\n",
    "else:\n",
    "    v=0.0009*v+255\n",
    "    print('O valor da comissão é de R$ {}'.format(v))\n"
   ]
  }
 ],
 "metadata": {
  "kernelspec": {
   "display_name": "Python 3",
   "language": "python",
   "name": "python3"
  },
  "language_info": {
   "codemirror_mode": {
    "name": "ipython",
    "version": 3
   },
   "file_extension": ".py",
   "mimetype": "text/x-python",
   "name": "python",
   "nbconvert_exporter": "python",
   "pygments_lexer": "ipython3",
   "version": "3.7.2"
  }
 },
 "nbformat": 4,
 "nbformat_minor": 2
}
