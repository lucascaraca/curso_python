{
 "cells": [
  {
   "cell_type": "markdown",
   "metadata": {},
   "source": [
    "# AULA 21: Recursão #"
   ]
  },
  {
   "cell_type": "markdown",
   "metadata": {},
   "source": [
    "## 21.1: Indução Matemática ##"
   ]
  },
  {
   "cell_type": "markdown",
   "metadata": {},
   "source": [
    "Seja ***T*** uma proposição matemática que desejamos provar para todos os valores naturais *n*. Ao invés de sair testando os valores um a um. Para isso, fazemos 3 passos:\n",
    "\n",
    "1. Passo base: provamos que a proposição T é valida para um número n, como por exemplo n=1;\n",
    "\n",
    "2. Passo de Hipótese de Indução: assumimos que T é valido para um n=k-1 qualquer;\n",
    "\n",
    "3. Passo de indução: a partir dos passos 1 e 2 provamos que T é valido para n=k."
   ]
  },
  {
   "cell_type": "markdown",
   "metadata": {},
   "source": [
    "## 21.2: O método da recursão ##"
   ]
  },
  {
   "cell_type": "markdown",
   "metadata": {},
   "source": [
    "O método da recursão se baseia no princípio da indução matemática, que funciona da seguinte forma:\n",
    "    1. Encontramos soluções para casos bases;\n",
    "    2. Propomos soluções para casos gerais a partir dos casos bases (ou casos de instâncias menores)."
   ]
  },
  {
   "cell_type": "markdown",
   "metadata": {},
   "source": [
    "### 21.2.1: Fatorial ###"
   ]
  },
  {
   "cell_type": "markdown",
   "metadata": {},
   "source": [
    "Calculando o fatorial de um número n (n!) através do método da recursão.\n",
    "\n",
    "    1. Passo base: se n é igual a 1, então o fatorial é 1. Ou 1!=1.\n",
    "    \n",
    "    2. Passo de hipótese: se n=(k-1), o fatorial de n será (k-1)!\n",
    "    \n",
    "    3. Passo indutivo: para n=k, temos que n! = k! = k*(k-1)!\n",
    "    \n",
    "Ou seja, se n>1 podemos expressar n! por n*(n-1)! (isso vem da própria definição do fatorial)."
   ]
  },
  {
   "cell_type": "code",
   "execution_count": 5,
   "metadata": {},
   "outputs": [
    {
     "name": "stdout",
     "output_type": "stream",
     "text": [
      "24\n"
     ]
    }
   ],
   "source": [
    "#EXEMPLO 21.1: Fatorial de um número.\n",
    "\n",
    "def fatorial(n):\n",
    "    #caso n<=1, a função retorna 1\n",
    "    if(n<=1):\n",
    "        return 1\n",
    "    \n",
    "    #caso contrário...\n",
    "    else:\n",
    "        x=n-1 #definimos uma variável x=n-1\n",
    "        r=fatorial(x) #calculamos o valor do fatorial de n-1\n",
    "        return(n*r)\n",
    "    \n",
    "print(fatorial(4))"
   ]
  },
  {
   "cell_type": "markdown",
   "metadata": {},
   "source": [
    "Para resolver o problema acima, chamamos a própria função dentro dela mesma - chamamos essas funções de ***funções recursivas***."
   ]
  },
  {
   "cell_type": "code",
   "execution_count": 4,
   "metadata": {},
   "outputs": [
    {
     "name": "stdout",
     "output_type": "stream",
     "text": [
      "120\n"
     ]
    }
   ],
   "source": [
    "#EXEMPLO 21.2: Fatorial de um número.\n",
    "\n",
    "def fatorial2(n):\n",
    "    \n",
    "    if(n<=1):\n",
    "        return 1\n",
    "    \n",
    "    else:\n",
    "        return n*fatorial2(n-1)\n",
    "    \n",
    "print(fatorial2(5))"
   ]
  },
  {
   "attachments": {},
   "cell_type": "markdown",
   "metadata": {},
   "source": [
    "### 21.2.2: Recursão e Memória"
   ]
  },
  {
   "cell_type": "markdown",
   "metadata": {},
   "source": [
    "A memória de um sistema computacional é dividida em alguns segmentos:\n",
    "\n",
    "    **Espaço Estático**: contém as variáveis globais e o código do programa;\n",
    "    **Heap**: para alocação dinâmica de memória;\n",
    "    **Pilha**: para execução de funções. \n",
    "\n",
    "Na pilha ocorre o seguinte:\n",
    "\n",
    "    1. Cada vez que a função é invocada, suas variáveis locais são armazenadas no topo da pilha;\n",
    "    \n",
    "    2. Assim que sua execução termina, suas variáveis locais são removidas da pilha.\n",
    "    \n",
    "A figura abaixo ilustra o que acontece na pilha nas invocações da função para o cálculo do fatorial de 4 do exemplo 21.1."
   ]
  },
  {
   "attachments": {
    "aula21_memoria.png": {
     "image/png": "[encoded data removed]"
    }
   },
   "cell_type": "markdown",
   "metadata": {},
   "source": [
    "![aula21_memoria.png](attachment:aula21_memoria.png)"
   ]
  },
  {
   "attachments": {},
   "cell_type": "markdown",
   "metadata": {},
   "source": [
    "    def fatorial(n):\n",
    "    #caso n<=1, a função retorna 1\n",
    "    if(n<=1):\n",
    "        return 1\n",
    "    \n",
    "    #caso contrário...\n",
    "    else:\n",
    "        x=n-1 #definimos uma variável x=n-1\n",
    "        r=fatorial(x) #calculamos o valor do fatorial de n-1\n",
    "        return(n*r)\n",
    "\n",
    "Em cada chamada da função fatorial, novas variáveis locais de mesmo nome (n, x, r) são criadas, podendo coexistirem num dado momento.\n",
    "\n",
    "Porém, em um dado instante o nome das variáveis (n, x, r) referem-se à variável local ao corpo da função que está sendo executada naquele instante."
   ]
  },
  {
   "cell_type": "markdown",
   "metadata": {},
   "source": [
    "## 21.3: Recursão vs Iteração ##"
   ]
  },
  {
   "cell_type": "markdown",
   "metadata": {},
   "source": [
    "Soluções recursivas são mais concisas que as iterativas, sendo que essas últimas tem sua memória limitada. Porém a cópia dos parâmetros a cada chamada recursiva é um custo adicional."
   ]
  },
  {
   "cell_type": "code",
   "execution_count": 6,
   "metadata": {},
   "outputs": [
    {
     "name": "stdout",
     "output_type": "stream",
     "text": [
      "24\n"
     ]
    }
   ],
   "source": [
    "#EXEMPLO 21.3: Fatorial Iterativo\n",
    "\n",
    "def fatorial3(n):\n",
    "    r=1\n",
    "    for i in range(1, n+1):\n",
    "        r=r*i\n",
    "        \n",
    "    return r\n",
    "\n",
    "print(fatorial3(4))"
   ]
  },
  {
   "cell_type": "code",
   "execution_count": 9,
   "metadata": {},
   "outputs": [
    {
     "name": "stdout",
     "output_type": "stream",
     "text": [
      "20\n"
     ]
    }
   ],
   "source": [
    "#EXEMPLO 21.4: Soma dos elementos de uma lista\n",
    "\n",
    "################################################################################################################################\n",
    "def main():\n",
    "    vet=[4, 3, 6, 2, 5]\n",
    "    sumL=sumList(vet, len(vet)-1)\n",
    "    print(sumL)\n",
    "\n",
    "################################################################################################################################\n",
    "def sumList(v, n):\n",
    "    if(n==0):\n",
    "        return v[0]\n",
    "    \n",
    "    else:\n",
    "        return v[n] + sumList(v, n-1)\n",
    "    \n",
    "################################################################################################################################\n",
    "main()"
   ]
  },
  {
   "attachments": {
    "aula21_memoria_exemplo_somaVet.png": {
     "image/png": "[encoded data removed]"
    }
   },
   "cell_type": "markdown",
   "metadata": {},
   "source": [
    "![aula21_memoria_exemplo_somaVet.png](attachment:aula21_memoria_exemplo_somaVet.png)"
   ]
  },
  {
   "cell_type": "code",
   "execution_count": null,
   "metadata": {},
   "outputs": [],
   "source": []
  }
 ],
 "metadata": {
  "kernelspec": {
   "display_name": "Python 3",
   "language": "python",
   "name": "python3"
  },
  "language_info": {
   "codemirror_mode": {
    "name": "ipython",
    "version": 3
   },
   "file_extension": ".py",
   "mimetype": "text/x-python",
   "name": "python",
   "nbconvert_exporter": "python",
   "pygments_lexer": "ipython3",
   "version": "3.7.2"
  }
 },
 "nbformat": 4,
 "nbformat_minor": 2
}
