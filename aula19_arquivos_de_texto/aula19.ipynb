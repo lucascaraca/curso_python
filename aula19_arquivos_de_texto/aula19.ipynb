{
 "cells": [
  {
   "cell_type": "markdown",
   "metadata": {},
   "source": [
    "# AULA 19: Arquivos #"
   ]
  },
  {
   "cell_type": "markdown",
   "metadata": {},
   "source": [
    "## 19.1: Tipos de Memória ##"
   ]
  },
  {
   "cell_type": "markdown",
   "metadata": {},
   "source": [
    "Na maioria dos computadores há dois tipos de memória:\n",
    "\n",
    "1. Memória RAM (Random Access Memory): é a memória principal do computador; para funcionar ela requer alimentação constante de energia para preservar as informações nela; é nela que os programas executam - por isso, quando acaba a energia, os programas são encerrados tendo as informações perdidas.\n",
    "\n",
    "\n",
    "2. Hard Disk/SSDs: é a memória secundaria do computador; ela não requer alimentação de energia para funcionar; é nela que são armazenadas as informações persistentes - é nela que os arquivos são salvos; essa memória é mais lenta que a RAM, porém é mais barata e possui uma maior capacidade de armazenamento;"
   ]
  },
  {
   "cell_type": "markdown",
   "metadata": {},
   "source": [
    "## 19.2: Nomes e extensões ##"
   ]
  },
  {
   "cell_type": "markdown",
   "metadata": {},
   "source": [
    "Todo arquivo salvo na memória secundária do computador é identificado por um nome, que pode conter uma *extensão* do arquivo dando assim uma indicação do conteúdo do arquivo: se é um texto (txt), um código fonde em Python (py) ou um arquivo em pdf, por exemplo.\n",
    "\n",
    "Para os programas no geral, há dois tipos de arquivos:\n",
    "\n",
    "1. Arquivos de Texto: são aqueles que armazenam os caracteres visiveis na tela ou que podem ser modificados por um editor de textos. Como exemplos temos um código fonte em python, um documento de texto simples e páginas em HTML;\n",
    "\n",
    "\n",
    "2. Arquivos Binários: são uma sequência de bits sujeita às convenções do programa que o gerou, não sendo legíveis diretamente. Como exemplos temos os arquivos executáveis, os arquivos compactados e os documentos do Word."
   ]
  },
  {
   "cell_type": "markdown",
   "metadata": {},
   "source": [
    "## 19.3: Diretórios ##"
   ]
  },
  {
   "cell_type": "markdown",
   "metadata": {},
   "source": [
    "É um local (ou uma pasta) onde os arquivos ou outras pastas podem ser armazenados na memória secundária do computador. A partir desse local podemos acessar e modificar os arquivos.\n",
    "\n",
    "Para realizar o acesso a um arquivo, utilizamos o que chamamos de *caminho*, que é o equivalente a um endereço de onde o arquivo está localizado no HD. "
   ]
  },
  {
   "cell_type": "markdown",
   "metadata": {},
   "source": [
    "## 19.4: Arquivos de texto ##"
   ]
  },
  {
   "cell_type": "markdown",
   "metadata": {},
   "source": [
    "### 19.4.1: Abrindo um arquivo ###"
   ]
  },
  {
   "cell_type": "markdown",
   "metadata": {},
   "source": [
    "Para trabalhar com um arquivo de texto em Python devemos associar este arquivo a uma variável.\n",
    "\n",
    "Para fazer isso utilizamos o comando ***open*** da seguinte maneira:\n",
    "\n",
    "< arqVar > = open(\"<arqName / arqPath>\", \"< mode >\")\n",
    "\n",
    "O primeiro parâmetro do comando indica qual arquivo será aberto (através de seu caminho) e o segundo a maneira como será aberto.\n",
    "\n",
    "O segundo parâmetro (< mode >) pode ser: r (para lermos o arquivo), r+ (para lermos e escrevermos no arquivo), w (para escrevermos no arquivo), a (append - para adicionarmos algo ao arquivo).\n",
    "\n",
    "Como o arquivo pode não existir (ou não estar localizado no caminho indicado) é recomendável que sempre que utilizarmos o comando open, o coloquemos dentro de blocos ***try-except***"
   ]
  },
  {
   "cell_type": "code",
   "execution_count": 3,
   "metadata": {},
   "outputs": [
    {
     "name": "stdout",
     "output_type": "stream",
     "text": [
      "Arquivo text.txt aberto com sucesso\n",
      "Arquivo \"naoExiste.txt\" não localizado no caminho especificado.\n"
     ]
    }
   ],
   "source": [
    "#EXEMPLO 19.1: Abrindo um arquivo de texto para leitura\n",
    "\n",
    "try:\n",
    "    arq = open(\"test.txt\", \"r\")\n",
    "    print(\"Arquivo text.txt aberto com sucesso\")\n",
    "    \n",
    "    arq2 = open(\"naoExiste.txt\", \"r\")\n",
    "    \n",
    "except:\n",
    "    print(\"Arquivo \\\"naoExiste.txt\\\" não localizado no caminho especificado.\")"
   ]
  },
  {
   "cell_type": "markdown",
   "metadata": {},
   "source": [
    "### 19.4.2: Lendo os dados de um arquivo ###"
   ]
  },
  {
   "cell_type": "markdown",
   "metadata": {},
   "source": [
    "Lemos um arquivo através do método ***read***, que funciona da seguinte maneira:\n",
    "\n",
    "< arqVar >.read(): retorna uma string com o arquivo inteiro\n",
    "\n",
    "< arqVar >.read(< num_bytes >): retorna uma string com os **próximos** *num_bytes* do arquivo."
   ]
  },
  {
   "cell_type": "code",
   "execution_count": 34,
   "metadata": {},
   "outputs": [
    {
     "name": "stdout",
     "output_type": "stream",
     "text": [
      "Lemos um arquivo através do método rea\n",
      "Arquivo aberto com sucesso\n",
      "arq = <_io.TextIOWrapper name='test.txt' mode='r' encoding='cp1252'>\n",
      "\n",
      "arq.read(50):\n",
      "arquivo de teste\n",
      "\n",
      "eu sou burro pra caralho! e esto\n",
      "\n",
      "\n",
      "\n",
      "arq.read():\n",
      "u perdendo tempo todos os dias fazendo merda!\n"
     ]
    }
   ],
   "source": [
    "#EXEMPLO 19.2: Lendo um arquivo\n",
    "print(\"Lemos um arquivo através do método read\")\n",
    "\n",
    "try:\n",
    "    arq = open(\"test.txt\", \"r\")\n",
    "    print(\"Arquivo aberto com sucesso\")\n",
    "    print(\"arq =\", arq)\n",
    "    print()\n",
    "    \n",
    "    print(\"arq.read(50):\")\n",
    "    conteudo = arq.read(50)\n",
    "    print(conteudo)\n",
    "    print('\\n'*2)\n",
    "    \n",
    "    print(\"arq.read():\")\n",
    "    conteudo = arq.read()\n",
    "    print(conteudo)\n",
    "    arq.close()\n",
    "    \n",
    "except FileNotFoundError:\n",
    "    print(\"Arquivo inexistente ou não localizado no caminho especificado.\")"
   ]
  },
  {
   "cell_type": "markdown",
   "metadata": {},
   "source": [
    "#################################################################\n",
    "Assim que um arquivo é aberto, um ***indicador de posição*** no arquivo é criado, recebendo a posição do início do arquivo.\n",
    "\n",
    "Para cada dado lido do arquivo, este indicador é incrementado automaticamente para o próximo dado não lido.\n",
    "\n",
    "Quando este indicador chega ao fim do arquivo, ele recebe uma string vazia!\n",
    "\n",
    "Para fechar um arquivo usamos o método ***close***, cuja importância se dá para garantir que dados serão escritos no arquivo e para liberar recursos que serão alocados para manter a associação da variável com o arquivo."
   ]
  },
  {
   "cell_type": "code",
   "execution_count": 35,
   "metadata": {},
   "outputs": [
    {
     "name": "stdout",
     "output_type": "stream",
     "text": [
      "Indicador de posição do arquivo\n",
      "\n",
      "Arquivo aberto com sucesso\n",
      "arq = <_io.TextIOWrapper name='test.txt' mode='r' encoding='cp1252'>\n",
      "\n",
      "arquivo de teste\n",
      "\n",
      "eu sou burro pra caralho! e estou perdendo tempo todos os dias fazendo merda!"
     ]
    }
   ],
   "source": [
    "#EXEMPLO 19.3: Indicador de posição do arquivo\n",
    "\n",
    "print(\"Indicador de posição do arquivo\")\n",
    "print()\n",
    "\n",
    "try:\n",
    "    arq = open(\"test.txt\", \"r\")\n",
    "    print(\"Arquivo aberto com sucesso\")\n",
    "    print(\"arq =\", arq)\n",
    "    print()\n",
    "    \n",
    "    while True:\n",
    "        s=arq.read(1) \n",
    "        print(s, end=\"\")\n",
    "        \n",
    "        if(s==\"\"):\n",
    "            break\n",
    "            \n",
    "    arq.close()\n",
    "        \n",
    "except FileNotFoundError:\n",
    "    print(\"Arquivo inexistente ou não localizado no caminho especificado.\")"
   ]
  },
  {
   "cell_type": "markdown",
   "metadata": {},
   "source": [
    "#################################################################\n",
    "Podemos também ler uma linha por vez através do método ***readline***, que devolve uma linha do arquivo em formato de string."
   ]
  },
  {
   "cell_type": "code",
   "execution_count": 37,
   "metadata": {},
   "outputs": [
    {
     "name": "stdout",
     "output_type": "stream",
     "text": [
      "readline()\n",
      "\n",
      "Arquivo aberto com sucesso\n",
      "arq = <_io.TextIOWrapper name='test.txt' mode='r' encoding='cp1252'>\n",
      "\n",
      "arquivo de teste\n",
      "\n",
      "eu sou burro pra caralho! e estou perdendo tempo todos os dias fazendo merda!"
     ]
    }
   ],
   "source": [
    "#EXEMPLO 19.4: Readline\n",
    "\n",
    "print(\"readline()\")\n",
    "print()\n",
    "\n",
    "try:\n",
    "    arq = open(\"test.txt\", \"r\")\n",
    "    print(\"Arquivo aberto com sucesso\")\n",
    "    print(\"arq =\", arq)\n",
    "    print()\n",
    "    \n",
    "    while True:\n",
    "        s=arq.readline() \n",
    "        print(s, end=\"\")\n",
    "        \n",
    "        if(s==\"\"):\n",
    "            break\n",
    "            \n",
    "    arq.close()\n",
    "        \n",
    "except FileNotFoundError:\n",
    "    print(\"Arquivo inexistente ou não localizado no caminho especificado.\")"
   ]
  },
  {
   "cell_type": "markdown",
   "metadata": {},
   "source": [
    "#################################################################\n",
    "Lembrando mais uma vez que ao ler um caractere ou linha o indicador de posição do arquivo se move para o próximo caracter ou linha!!!\n",
    "\n",
    "Para retornar ao início do arquivo com o indicador, podemos fechá-lo e abrí-lo de novo ou então utilizando o método ***seek***, que funciona da seguinte maneira:\n",
    "\n",
    "< arqVar >.seek(< offset >, < fromWhat >)\n",
    "\n",
    "offset = quantos bytes se mover a partir do valor inicial fromWhat;\n",
    "\n",
    "fromWhat = 1 (início do arquivo), 2 (posição atual do arquivo) ou 3 (final do arquivo)."
   ]
  },
  {
   "cell_type": "code",
   "execution_count": 39,
   "metadata": {},
   "outputs": [
    {
     "name": "stdout",
     "output_type": "stream",
     "text": [
      "Método Seek\n",
      "\n",
      "Arquivo aberto com sucesso\n",
      "arq = <_io.TextIOWrapper name='test.txt' mode='r' encoding='cp1252'>\n",
      "\n",
      "arquivo de teste\n",
      "\n",
      "eu sou burro pra caralho! e estou perdendo tempo todos os dias fazendo merda!\n",
      "\n",
      "\n",
      "arq.seek(0, 0)\n",
      "\n",
      "\n",
      "arquivo de teste\n",
      "\n",
      "eu sou burro pra caralho! e estou perdendo tempo todos os dias fazendo merda!"
     ]
    }
   ],
   "source": [
    "#EXEMPLO 19.5: Método Seek\n",
    "\n",
    "print(\"Método Seek\")\n",
    "print()\n",
    "\n",
    "try:\n",
    "    arq = open(\"test.txt\", \"r\")\n",
    "    print(\"Arquivo aberto com sucesso\")\n",
    "    print(\"arq =\", arq)\n",
    "    print()\n",
    "    \n",
    "    while True:\n",
    "        s=arq.readline() \n",
    "        print(s, end=\"\")\n",
    "        \n",
    "        if(s==\"\"):\n",
    "            break\n",
    "            \n",
    "    print('\\n'*2)\n",
    "    arq.seek(0, 0)\n",
    "    print(\"arq.seek(0, 0)\") #mover indicador de posição 0 bytes a partir do inicio\n",
    "    print('\\n')\n",
    "    while True:\n",
    "        s=arq.readline() \n",
    "        print(s, end=\"\")\n",
    "        \n",
    "        if(s==\"\"):\n",
    "            break\n",
    "    \n",
    "    arq.close()\n",
    "    \n",
    "except FileNotFoundError:\n",
    "    print(\"Arquivo inexistente ou não localizado no caminho especificado.\")"
   ]
  },
  {
   "cell_type": "markdown",
   "metadata": {},
   "source": [
    "### 19.4.3: Escrevendo dados em um arquivo de texto ###"
   ]
  },
  {
   "cell_type": "markdown",
   "metadata": {},
   "source": [
    "Para escrevermos em um arquivo, ele deve ser aberto utilizando os modos ***w***, ***a*** ou ***r+***.\n",
    "\n",
    "***w***: sobreescreve todo o arquivo, apagando todo o conteúdo anterior - caso o arquivo não exista, um novo arquivo é criado.\n",
    "\n",
    "***a***: o indicador ficará na posição final do arquivo - os dados serão adicionados no fim do arquivo;\n",
    "\n",
    "\n",
    "***r+***: o indicador ficará no início do arquivo - os dados serão escritos sobre os dados anteriores. Gera um erro caso o arquivo não exista.\n",
    "\n",
    "Para escrevermos no arquivo utilizamos o método ***write*** da seguinte maneira:\n",
    "\n",
    "< arqVar >.write(< string >)"
   ]
  },
  {
   "cell_type": "code",
   "execution_count": 54,
   "metadata": {},
   "outputs": [
    {
     "name": "stdout",
     "output_type": "stream",
     "text": [
      "SOBREESCREVENDO O INICIO DO ARQUIVO\n",
      "\n",
      "\n",
      "Arquivo Inicial:\n",
      "\n",
      "arquivo de teste\n",
      "\n",
      "eu sou burro pra caralho! e estou perdendo tempo todos os dias fazendo merda!\n",
      "\n",
      "\n",
      "\n",
      "Arquivo Pós-Alteração:\n",
      "\n",
      "OTARIO ALTEREI ESSA PORRAu burro pra caralho! e estou perdendo tempo todos os dias fazendo merda!\n"
     ]
    }
   ],
   "source": [
    "#EXEMPLO 19.6: Sobreescrevendo um arquivo\n",
    "print(\"SOBREESCREVENDO O INICIO DO ARQUIVO\")\n",
    "print('\\n')\n",
    "\n",
    "try:\n",
    "    arq = open(\"test2.txt\", \"r\")\n",
    "    c = arq.read()\n",
    "    print(\"Arquivo Inicial:\")\n",
    "    print()\n",
    "    print(c)\n",
    "    print('\\n'*2)\n",
    "    arq.close()\n",
    "    \n",
    "    arq = open(\"test2.txt\", \"r+\")\n",
    "    arq.write(\"OTARIO ALTEREI ESSA PORRA\")\n",
    "    arq.seek(0, 0)\n",
    "    c=arq.read()\n",
    "    print(\"Arquivo Pós-Alteração:\")\n",
    "    print()\n",
    "    print(c)\n",
    "    \n",
    "    arq.close()\n",
    "    \n",
    "except FileNotFoundError:\n",
    "    print(\"Arquivo inexistente no caminho especificado.\")"
   ]
  },
  {
   "cell_type": "code",
   "execution_count": 57,
   "metadata": {},
   "outputs": [
    {
     "name": "stdout",
     "output_type": "stream",
     "text": [
      "ADICIONANDO TEXTO AO FINAL DO ARQUIVO\n",
      "\n",
      "\n",
      "Arquivo Inicial:\n",
      "\n",
      "arquivo de teste\n",
      "\n",
      "eu sou burro pra caralho! e estou perdendo tempo todos os dias fazendo merda!\n",
      "\n",
      "\n",
      "\n",
      "Arquivo Pós-Alteração:\n",
      "\n",
      "arquivo de teste\n",
      "\n",
      "eu sou burro pra caralho! e estou perdendo tempo todos os dias fazendo merda!OTARIO ALTEREI O FINAL DESSA PORRA\n"
     ]
    }
   ],
   "source": [
    "#EXEMPLO 19.7: Incluindo texto no final do arquivo\n",
    "print(\"ADICIONANDO TEXTO AO FINAL DO ARQUIVO\")\n",
    "print('\\n')\n",
    "\n",
    "try:\n",
    "    arq = open(\"test4.txt\", \"r\")\n",
    "    c = arq.read()\n",
    "    print(\"Arquivo Inicial:\")\n",
    "    print()\n",
    "    print(c)\n",
    "    print('\\n'*2)\n",
    "    arq.close()\n",
    "    \n",
    "    arq = open(\"test4.txt\", \"a\")\n",
    "    arq.write(\"OTARIO ALTEREI O FINAL DESSA PORRA\")\n",
    "    arq.close()\n",
    "    \n",
    "    arq = open(\"test4.txt\", \"r\")\n",
    "    c=arq.read()\n",
    "    print(\"Arquivo Pós-Alteração:\")\n",
    "    print()\n",
    "    print(c)\n",
    "    \n",
    "    arq.close()\n",
    "    \n",
    "except FileNotFoundError:\n",
    "    print(\"Arquivo inexistente no caminho especificado.\")"
   ]
  },
  {
   "cell_type": "code",
   "execution_count": 58,
   "metadata": {
    "scrolled": true
   },
   "outputs": [
    {
     "name": "stdout",
     "output_type": "stream",
     "text": [
      "SOBREPONDO ARQUIVO\n",
      "\n",
      "\n",
      "Arquivo Inicial:\n",
      "\n",
      "arquivo de teste\n",
      "\n",
      "eu sou burro pra caralho! e estou perdendo tempo todos os dias fazendo merda!\n",
      "\n",
      "\n",
      "\n",
      "Arquivo Pós-Alteração:\n",
      "\n",
      "PERDEU PLAYBOY\n"
     ]
    }
   ],
   "source": [
    "#EXEMPLO 19.8: Criando um novo arquivo\n",
    "print(\"SOBREPONDO ARQUIVO\")\n",
    "print('\\n')\n",
    "\n",
    "try:\n",
    "    arq = open(\"test5.txt\", \"r\")\n",
    "    c = arq.read()\n",
    "    print(\"Arquivo Inicial:\")\n",
    "    print()\n",
    "    print(c)\n",
    "    print('\\n'*2)\n",
    "    arq.close()\n",
    "    \n",
    "    arq = open(\"test5.txt\", \"w\")\n",
    "    arq.write(\"PERDEU PLAYBOY\")\n",
    "    arq.close()\n",
    "    \n",
    "    arq = open(\"test5.txt\", \"r\")\n",
    "    c=arq.read()\n",
    "    print(\"Arquivo Pós-Alteração:\")\n",
    "    print()\n",
    "    print(c)\n",
    "    \n",
    "    arq.close()\n",
    "    \n",
    "except FileNotFoundError:\n",
    "    print(\"Arquivo inexistente no caminho especificado.\")"
   ]
  },
  {
   "cell_type": "markdown",
   "metadata": {},
   "source": [
    "### 19.4.4: Alterando um texto ###"
   ]
  },
  {
   "cell_type": "markdown",
   "metadata": {},
   "source": [
    "Como uma string é imutável, devemos primeiro transformá-la em uma lista para fazermos as alterações necessárias. Depois disso, a transformamos de volta em string para escrever o arquivo novamente."
   ]
  },
  {
   "cell_type": "code",
   "execution_count": 67,
   "metadata": {},
   "outputs": [
    {
     "name": "stdout",
     "output_type": "stream",
     "text": [
      "a = abc\n",
      "\n",
      "a = list(a) = ['a', 'b', 'c']\n",
      "\n",
      "a = \"\".join(a) = abc\n"
     ]
    }
   ],
   "source": [
    "#EXEMPLO 19.9: REVISÃO - Conversão string-lista-string\n",
    "\n",
    "a='abc'\n",
    "print('a =', a)\n",
    "print()\n",
    "\n",
    "a = list(a) #converte uma string em lista\n",
    "print('a = list(a) =', a)\n",
    "print()\n",
    "\n",
    "a = \"\".join(a) #converte uma lista em string\n",
    "print(r'a = \"\".join(a) =', a)"
   ]
  },
  {
   "cell_type": "code",
   "execution_count": 69,
   "metadata": {},
   "outputs": [],
   "source": [
    "#EXEMPLO 19.10: Substituindo 'a' por 'A' em um arquivo\n",
    "\n",
    "try:\n",
    "    #abre o arquivo\n",
    "    arq=open(\"test6.txt\", \"r+\")\n",
    "    \n",
    "    #le o arquivo\n",
    "    t=arq.read()\n",
    "    \n",
    "    #transforma o arquivo em uma lista\n",
    "    t=list(t)\n",
    "    \n",
    "    for i in range(len(t)):\n",
    "        if(t[i]=='a'):\n",
    "            t[i]='A'\n",
    "            \n",
    "    arq.seek(0, 0)\n",
    "    t=\"\".join(t)\n",
    "    arq.write(t) #sobrepoe o arquivo\n",
    "    arq.close()\n",
    "    \n",
    "except FileNotFoundError:\n",
    "    print(\"Arquivo inexistente no caminho especificado.\")"
   ]
  },
  {
   "cell_type": "code",
   "execution_count": null,
   "metadata": {},
   "outputs": [],
   "source": []
  }
 ],
 "metadata": {
  "kernelspec": {
   "display_name": "Python 3",
   "language": "python",
   "name": "python3"
  },
  "language_info": {
   "codemirror_mode": {
    "name": "ipython",
    "version": 3
   },
   "file_extension": ".py",
   "mimetype": "text/x-python",
   "name": "python",
   "nbconvert_exporter": "python",
   "pygments_lexer": "ipython3",
   "version": "3.7.2"
  }
 },
 "nbformat": 4,
 "nbformat_minor": 2
}
