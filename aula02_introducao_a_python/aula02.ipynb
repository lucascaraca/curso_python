{
 "cells": [
  {
   "cell_type": "markdown",
   "metadata": {},
   "source": [
    "# AULA 02: Introdução à Programação em Python #"
   ]
  },
  {
   "cell_type": "markdown",
   "metadata": {},
   "source": [
    "## 2.1: Estrutura Básica de um Programa em Python ##"
   ]
  },
  {
   "cell_type": "markdown",
   "metadata": {},
   "source": [
    "Um programa em Python é uma sequência de definições e comandos que serão executados pelo interpretador. A estrutura de um programa é a seguinte:\n",
    "\n",
    "\n",
    "    Comando1\n",
    "    Comando2\n",
    "    ...\n",
    "    Comando N\n",
    "    \n",
    "\n",
    "O programa ***deve*** ter um comando por linha (pode ter mais de um comando por linha, caso sejam separados por ***;***) e os comandos serão executados UM a UM, na ordem em que aparecem (de cima para baixo)."
   ]
  },
  {
   "cell_type": "code",
   "execution_count": 1,
   "metadata": {},
   "outputs": [
    {
     "name": "stdout",
     "output_type": "stream",
     "text": [
      "eai parça\n",
      "qual a boa meu considerado?\n"
     ]
    }
   ],
   "source": [
    "#EXEMPLO 2.1: Imprimindo frases\n",
    "\n",
    "print(\"eai parça\")\n",
    "print(\"qual a boa meu considerado?\")"
   ]
  },
  {
   "cell_type": "code",
   "execution_count": 2,
   "metadata": {},
   "outputs": [
    {
     "ename": "SyntaxError",
     "evalue": "invalid syntax (<ipython-input-2-9f760febbb30>, line 3)",
     "output_type": "error",
     "traceback": [
      "\u001b[1;36m  File \u001b[1;32m\"<ipython-input-2-9f760febbb30>\"\u001b[1;36m, line \u001b[1;32m3\u001b[0m\n\u001b[1;33m    print(\"eai parça\") print(\"qual a boa meu considerado?\")\u001b[0m\n\u001b[1;37m                           ^\u001b[0m\n\u001b[1;31mSyntaxError\u001b[0m\u001b[1;31m:\u001b[0m invalid syntax\n"
     ]
    }
   ],
   "source": [
    "#EXEMPLO 2.2: Erro devido a sintaxe \n",
    "\n",
    "print(\"eai parça\") print(\"qual a boa meu considerado?\")"
   ]
  },
  {
   "cell_type": "code",
   "execution_count": 3,
   "metadata": {},
   "outputs": [
    {
     "name": "stdout",
     "output_type": "stream",
     "text": [
      "eai parça\n",
      "qual a boa meu considerado?\n"
     ]
    }
   ],
   "source": [
    "#EXEMPLO 2.3: Estrutura com ;\n",
    "print(\"eai parça\"); print(\"qual a boa meu considerado?\")"
   ]
  },
  {
   "cell_type": "markdown",
   "metadata": {},
   "source": [
    "## 2.2: Objetos ##"
   ]
  },
  {
   "cell_type": "markdown",
   "metadata": {},
   "source": [
    "Os comandos de um programa servem para manipular informações e dados. \n",
    "Os dados em Python são chamados de ***objetos*** e esses possuem um certo ***tipo***, que especificam as operações que são permitidas sobre eles."
   ]
  },
  {
   "cell_type": "markdown",
   "metadata": {},
   "source": [
    "### 2.2.1: Tipos de objetos ###"
   ]
  },
  {
   "cell_type": "markdown",
   "metadata": {},
   "source": [
    "Existem muitos tipos de objetos. Abaixos alguns deles estão listados:\n",
    "\n",
    ". ***int***: números inteiros. Exemplos: -7, 4, 0, 2;\n",
    "\n",
    ". ***float***: ponto flutuante/números reais. Exemplos: 4.5, 5.7890, pi, 6.0;\n",
    "\n",
    ". ***bool***: booleano (objeto binário um ou outro): *True* ou *False* / 1 ou 0;\n",
    "\n",
    ". ***str***: string - palavras, frases. São escritas entre aspas simples ou duplas. Exemplos: \"Olá\", \"7.5\", 'tudo bem?', ',', '').\n",
    "\n",
    "Para descobrirmos o tipo de um objeto, podemos usar o ***type*** da seguinte maneira:\n",
    "\n",
    "type(< objeto >)"
   ]
  },
  {
   "cell_type": "code",
   "execution_count": 8,
   "metadata": {},
   "outputs": [
    {
     "data": {
      "text/plain": [
       "int"
      ]
     },
     "execution_count": 8,
     "metadata": {},
     "output_type": "execute_result"
    }
   ],
   "source": [
    "#EXEMPLO 2.4: Testando os tipos de objetos\n",
    "\n",
    "#A) \n",
    "type(5)"
   ]
  },
  {
   "cell_type": "code",
   "execution_count": 9,
   "metadata": {},
   "outputs": [
    {
     "data": {
      "text/plain": [
       "str"
      ]
     },
     "execution_count": 9,
     "metadata": {},
     "output_type": "execute_result"
    }
   ],
   "source": [
    "#B)\n",
    "type('ola como vai voce')"
   ]
  },
  {
   "cell_type": "code",
   "execution_count": 10,
   "metadata": {},
   "outputs": [
    {
     "data": {
      "text/plain": [
       "bool"
      ]
     },
     "execution_count": 10,
     "metadata": {},
     "output_type": "execute_result"
    }
   ],
   "source": [
    "#C)\n",
    "type(True)"
   ]
  },
  {
   "cell_type": "code",
   "execution_count": 11,
   "metadata": {},
   "outputs": [
    {
     "data": {
      "text/plain": [
       "float"
      ]
     },
     "execution_count": 11,
     "metadata": {},
     "output_type": "execute_result"
    }
   ],
   "source": [
    "#D)\n",
    "type(9.8)"
   ]
  },
  {
   "cell_type": "markdown",
   "metadata": {},
   "source": [
    "## 2.3: Variáveis ##"
   ]
  },
  {
   "cell_type": "markdown",
   "metadata": {},
   "source": [
    "Variáveis são uma forma de se associar um nome dado pelo programador com um determinado objeto.\n",
    "\n",
    "Estas variáveis possuem uma regra para serem escritas:\n",
    "\n",
    "    1. Deve começar com uma letra (maiúscula ou minúscula) ou com um subscrito(_). **Nunca** pode começar com um número;\n",
    "    \n",
    "    2. Pode conter letras maiúsculas e minúsculas, números e subscritos;\n",
    "    \n",
    "    3. Letras maiúsculas e minúsculas são lidas como diferentes; \n",
    "    \n",
    "    4. Não podem conter os seguintes caracteres: { [ ( + - * / \\ : . , ? "
   ]
  },
  {
   "cell_type": "markdown",
   "metadata": {},
   "source": [
    "### 2.3.1: Atribuição ###"
   ]
  },
  {
   "cell_type": "markdown",
   "metadata": {},
   "source": [
    "Para associar um objeto a uma variável utilizamos o comando ***=***, que associa a variável do lado esquerdo com o objeto do lado direito, como mostrado abaixo:\n",
    "\n",
    "< varName > = < object >\n",
    "\n",
    "Um mesmo objeto pode estar associado a nenhuma, uma ou a mais de uma variável."
   ]
  },
  {
   "cell_type": "code",
   "execution_count": 12,
   "metadata": {},
   "outputs": [],
   "source": [
    "#EXEMPLO 2.5: Associação de objetos e variáveis.\n",
    "\n",
    "a=10\n",
    "b=11\n",
    "c=10\n",
    "b=20"
   ]
  },
  {
   "cell_type": "markdown",
   "metadata": {},
   "source": [
    "No final da execução do programa acima o objeto *10* está associado as variáveis *a* e *c*. O objeto *20* está associado a variável *b*. Já o objeto *11* não está associado a nenhuma variável - apesar de inicialmente estar associado a variável *b*, ele deixa de ser associado a ela quando *b* passa a ser associada ao objeto *20*."
   ]
  },
  {
   "cell_type": "markdown",
   "metadata": {},
   "source": [
    "Caso uma variável não esteja associada a um objeto e ela é usada no programa, ocorre um erro na execução do mesmo."
   ]
  },
  {
   "cell_type": "code",
   "execution_count": 14,
   "metadata": {},
   "outputs": [
    {
     "name": "stdout",
     "output_type": "stream",
     "text": [
      "20\n"
     ]
    },
    {
     "ename": "NameError",
     "evalue": "name 'z' is not defined",
     "output_type": "error",
     "traceback": [
      "\u001b[1;31m---------------------------------------------------------------------------\u001b[0m",
      "\u001b[1;31mNameError\u001b[0m                                 Traceback (most recent call last)",
      "\u001b[1;32m<ipython-input-14-147d1b076ce2>\u001b[0m in \u001b[0;36m<module>\u001b[1;34m\u001b[0m\n\u001b[0;32m      4\u001b[0m \u001b[0my\u001b[0m\u001b[1;33m=\u001b[0m\u001b[1;36m30\u001b[0m\u001b[1;33m\u001b[0m\u001b[1;33m\u001b[0m\u001b[0m\n\u001b[0;32m      5\u001b[0m \u001b[0mprint\u001b[0m\u001b[1;33m(\u001b[0m\u001b[0mx\u001b[0m\u001b[1;33m)\u001b[0m\u001b[1;33m\u001b[0m\u001b[1;33m\u001b[0m\u001b[0m\n\u001b[1;32m----> 6\u001b[1;33m \u001b[0mprint\u001b[0m\u001b[1;33m(\u001b[0m\u001b[0mz\u001b[0m\u001b[1;33m)\u001b[0m\u001b[1;33m\u001b[0m\u001b[1;33m\u001b[0m\u001b[0m\n\u001b[0m",
      "\u001b[1;31mNameError\u001b[0m: name 'z' is not defined"
     ]
    }
   ],
   "source": [
    "#EXEMPLO 2.6: Erro de execução devido a variável não associada.\n",
    "\n",
    "x=20\n",
    "y=30\n",
    "print(x)\n",
    "print(z)"
   ]
  },
  {
   "cell_type": "markdown",
   "metadata": {},
   "source": [
    "### 2.3.2: Expressões na Atribuição ###"
   ]
  },
  {
   "cell_type": "markdown",
   "metadata": {},
   "source": [
    "Do lado direito do comando de atribuição pode haver uma expressão, que pode conter objetos e variáveis.\n",
    "\n",
    "Quando utilizamos uma expressão, o programa primeiro a executa e depois faz a atribuição a variável."
   ]
  },
  {
   "cell_type": "code",
   "execution_count": 16,
   "metadata": {},
   "outputs": [
    {
     "name": "stdout",
     "output_type": "stream",
     "text": [
      "13\n",
      "59.6\n"
     ]
    }
   ],
   "source": [
    "#EXEMPLO 2.7: Expressões na atribuição I\n",
    "\n",
    "a = 3 + 10\n",
    "b = (9.8*2) + 40\n",
    "print(a)\n",
    "print(b)"
   ]
  },
  {
   "cell_type": "code",
   "execution_count": 17,
   "metadata": {},
   "outputs": [
    {
     "name": "stdout",
     "output_type": "stream",
     "text": [
      "10\n",
      "8\n",
      "18\n"
     ]
    }
   ],
   "source": [
    "#EXEMPLO 2.8: Expressões na atribuição II\n",
    "a=10\n",
    "b=8\n",
    "c=a+b\n",
    "print(a)\n",
    "print(b)\n",
    "print(c)"
   ]
  },
  {
   "cell_type": "code",
   "execution_count": 19,
   "metadata": {},
   "outputs": [
    {
     "name": "stdout",
     "output_type": "stream",
     "text": [
      "10\n",
      "8\n",
      "26\n"
     ]
    }
   ],
   "source": [
    "#EXEMPLO 2.9: Expressões na atribuição III\n",
    "a=10\n",
    "b=8\n",
    "print(a)\n",
    "print(b)\n",
    "a=a+2*b\n",
    "print(a)"
   ]
  },
  {
   "cell_type": "markdown",
   "metadata": {},
   "source": [
    "### 2.3.3: Tipagem em Python ###"
   ]
  },
  {
   "cell_type": "markdown",
   "metadata": {},
   "source": [
    "Uma variável possui o tipo correspondente ao objeto ao qual ela está associada naquele instante. \n",
    "Para sabermos o tipo de uma variável também utilizamos o comando ***type***:\n",
    "\n",
    "type(< variable >).\n",
    "\n",
    "Em Python uma variável não precisa possuir um tipo pré-definido, por isso dizemos que essa linguagem possui ***tipagem fraca***. Isso quer dizer que podemos atribuir objetos de diferentes tipos a uma mesma variável - em linguagens que possuem ***tipagem forte***, como em *C* por exemplo, isso não é possível."
   ]
  },
  {
   "cell_type": "code",
   "execution_count": 20,
   "metadata": {},
   "outputs": [
    {
     "name": "stdout",
     "output_type": "stream",
     "text": [
      "3\n",
      "9.8\n",
      "Ola\n"
     ]
    }
   ],
   "source": [
    "#EXEMPLO 2.10: Tipagem em Python\n",
    "\n",
    "a=3\n",
    "print(a)\n",
    "a=9.8\n",
    "print(a)\n",
    "a=\"Ola\"\n",
    "print(a)"
   ]
  },
  {
   "cell_type": "markdown",
   "metadata": {},
   "source": [
    "## 2.4: Escrevendo na Tela ##"
   ]
  },
  {
   "cell_type": "markdown",
   "metadata": {},
   "source": [
    "O comando print, como já visto, imprime uma string ou o valor associado a uma variável na tela.\n",
    "\n",
    "Para pular uma linha na impressão utilizamos o símbolo ***\\n***. \n",
    "\n",
    "Para imprimir múltiplos argumentos numa mesma linha utilizamos vírgulas - entre cada argumento haverá um espaço!"
   ]
  },
  {
   "cell_type": "code",
   "execution_count": 25,
   "metadata": {},
   "outputs": [
    {
     "name": "stdout",
     "output_type": "stream",
     "text": [
      "eai\n",
      "qual a boa fera?\n",
      "\n",
      "o valor da variavel a é 13\n"
     ]
    }
   ],
   "source": [
    "#EXEMPLO 2.11: Pulando uma linha\n",
    "\n",
    "print(\"eai\\nqual a boa fera?\\n\")\n",
    "a=13\n",
    "print(\"o valor da variavel a é\", a)"
   ]
  },
  {
   "cell_type": "markdown",
   "metadata": {},
   "source": [
    "### 2.4.1: Formatação de um ponto flutuante ###"
   ]
  },
  {
   "cell_type": "markdown",
   "metadata": {},
   "source": [
    "Podemos especificar o número de casas decimais que queremos de um ponto flutuante através do especificador ***%.Nf***, onde N é o número de casas decimais que queremos."
   ]
  },
  {
   "cell_type": "code",
   "execution_count": 26,
   "metadata": {},
   "outputs": [
    {
     "name": "stdout",
     "output_type": "stream",
     "text": [
      "9.8765212\n",
      "9.88\n"
     ]
    }
   ],
   "source": [
    "#EXEMPLO 2.12: Formatando um ponto flutuante.\n",
    "a=9.8765212\n",
    "print(a)\n",
    "print(\"%.2f\" %a)"
   ]
  },
  {
   "cell_type": "markdown",
   "metadata": {},
   "source": [
    "### 2.4.2: Usando a função print ###"
   ]
  },
  {
   "cell_type": "code",
   "execution_count": 27,
   "metadata": {},
   "outputs": [
    {
     "name": "stdout",
     "output_type": "stream",
     "text": [
      "3, 4, 5"
     ]
    }
   ],
   "source": [
    "#EXEMPLO 2.13: MULTIPLOS PRINTS NA MESMA LINHA\n",
    "'''adicionando end='' como argumento em print, podemos imprimir na mesma linha.'''\n",
    "print(\"3, \", end='')\n",
    "print(\"4, \", end='')\n",
    "print(\"5\", end='')"
   ]
  },
  {
   "cell_type": "code",
   "execution_count": 28,
   "metadata": {},
   "outputs": [
    {
     "name": "stdout",
     "output_type": "stream",
     "text": [
      "a=10, b=20, c=3 e d=19\n"
     ]
    }
   ],
   "source": [
    "#EXEMPLO 2.14: Concatenando texto e múltiplas variáveis em print.\n",
    "a=10\n",
    "b=20\n",
    "c=3\n",
    "d=19\n",
    "\n",
    "print(\"a={}, b={}, c={} e d={}\".format(a, b, c, d))"
   ]
  },
  {
   "cell_type": "markdown",
   "metadata": {},
   "source": [
    "## 2.5: Entrada de dados ##"
   ]
  },
  {
   "cell_type": "markdown",
   "metadata": {},
   "source": [
    "### 2.5.1: A função ***input*** ####"
   ]
  },
  {
   "cell_type": "markdown",
   "metadata": {},
   "source": [
    "A função input realiza a leitura de um dado a partir do teclado e o atribui a uma variável. Os dados são interpretados como uma string."
   ]
  },
  {
   "cell_type": "code",
   "execution_count": 30,
   "metadata": {},
   "outputs": [
    {
     "name": "stdout",
     "output_type": "stream",
     "text": [
      "Digita aí qqr coisa:\n",
      "abcdef\n",
      "Voce digitou: abcdef\n"
     ]
    }
   ],
   "source": [
    "#EXEMPLO 2.15: Leitura de um dado do teclado\n",
    "\n",
    "print(\"Digita aí qqr coisa:\")\n",
    "a=input()\n",
    "print(\"Voce digitou:\", a)"
   ]
  },
  {
   "cell_type": "markdown",
   "metadata": {},
   "source": [
    "Podemos converter a string lida em um tipo específico da seguinte maneira:\n",
    "\n",
    "< varName > = < type >(input())"
   ]
  },
  {
   "cell_type": "code",
   "execution_count": 33,
   "metadata": {},
   "outputs": [
    {
     "name": "stdout",
     "output_type": "stream",
     "text": [
      "Digita aí um número inteiro:\n",
      "9\n",
      "O número digitado vezes 10 é: 90\n"
     ]
    }
   ],
   "source": [
    "#EXEMPLO 2.16: Convertendo a str em um inteiro\n",
    "\n",
    "print(\"Digita aí um número inteiro:\")\n",
    "a=int(input())\n",
    "a=a*10\n",
    "print(\"O número digitado vezes 10 é:\", a)"
   ]
  },
  {
   "cell_type": "code",
   "execution_count": 34,
   "metadata": {},
   "outputs": [
    {
     "name": "stdout",
     "output_type": "stream",
     "text": [
      "Digita aí um número qqr:\n",
      "9.8\n",
      "O número digitado vezes 10 é: 98.0\n"
     ]
    }
   ],
   "source": [
    "#EXEMPLO 2.17: Convertendo a str em um float\n",
    "\n",
    "print(\"Digita aí um número qqr:\")\n",
    "a=float(input())\n",
    "a=a*10\n",
    "print(\"O número digitado vezes 10 é:\", a)"
   ]
  },
  {
   "cell_type": "markdown",
   "metadata": {},
   "source": [
    "## 2.6: Conversão de Tipos ##"
   ]
  },
  {
   "cell_type": "markdown",
   "metadata": {},
   "source": [
    "Como vimos na função print, podemos converter uma string em um inteiro ou um float e vice-versa, desde que os dados estejam bem formados - int(\"aaaa\") resulta em um erro, por exemplo.\n",
    "\n",
    "A conversão de um float pra um int realiza um truncamento, desconsiderando a parte fracionária."
   ]
  },
  {
   "cell_type": "code",
   "execution_count": 35,
   "metadata": {},
   "outputs": [
    {
     "name": "stdout",
     "output_type": "stream",
     "text": [
      "9.87\n",
      "9\n"
     ]
    }
   ],
   "source": [
    "#EXEMPLO 2.18: float to int\n",
    "a=9.87\n",
    "print(a)\n",
    "print(int(a))"
   ]
  },
  {
   "cell_type": "code",
   "execution_count": 36,
   "metadata": {},
   "outputs": [
    {
     "name": "stdout",
     "output_type": "stream",
     "text": [
      "9\n",
      "9.0\n"
     ]
    }
   ],
   "source": [
    "#EXEMPLO 2.19: int to float\n",
    "a=9\n",
    "print(a)\n",
    "print(float(a))"
   ]
  },
  {
   "cell_type": "code",
   "execution_count": 1,
   "metadata": {},
   "outputs": [
    {
     "name": "stdout",
     "output_type": "stream",
     "text": [
      "200.0\n",
      "200000.0\n"
     ]
    }
   ],
   "source": [
    "#EXEMPLO 2.20: expoente 10\n",
    "a=2e2 #equivalente a 2 vezes (10 elevado a 2)\n",
    "b=2e5 #equivalente a 2 vezes (10 elevado a 5)\n",
    "print(a)\n",
    "print(b)"
   ]
  },
  {
   "cell_type": "code",
   "execution_count": 1,
   "metadata": {},
   "outputs": [
    {
     "name": "stdout",
     "output_type": "stream",
     "text": [
      "Requirement already satisfied: jupyterthemes in c:\\users\\lucas\\appdata\\roaming\\python\\python37\\site-packages (0.20.0)\n",
      "Requirement already satisfied: jupyter_core in c:\\program files\\python37\\lib\\site-packages (from jupyterthemes) (4.4.0)\n",
      "Requirement already satisfied: notebook>=5.6.0 in c:\\program files\\python37\\lib\\site-packages (from jupyterthemes) (5.7.4)\n",
      "Requirement already satisfied: ipython>=5.4.1 in c:\\program files\\python37\\lib\\site-packages (from jupyterthemes) (7.2.0)\n",
      "Requirement already satisfied: matplotlib>=1.4.3 in c:\\program files\\python37\\lib\\site-packages (from jupyterthemes) (3.0.2)\n",
      "Requirement already satisfied: lesscpy>=0.11.2 in c:\\users\\lucas\\appdata\\roaming\\python\\python37\\site-packages (from jupyterthemes) (0.13.0)\n",
      "Requirement already satisfied: traitlets in c:\\program files\\python37\\lib\\site-packages (from jupyter_core->jupyterthemes) (4.3.2)\n",
      "Requirement already satisfied: jinja2 in c:\\program files\\python37\\lib\\site-packages (from notebook>=5.6.0->jupyterthemes) (2.10)\n",
      "Requirement already satisfied: nbconvert in c:\\program files\\python37\\lib\\site-packages (from notebook>=5.6.0->jupyterthemes) (5.4.0)\n",
      "Requirement already satisfied: tornado>=4 in c:\\program files\\python37\\lib\\site-packages (from notebook>=5.6.0->jupyterthemes) (5.1.1)\n",
      "Requirement already satisfied: prometheus-client in c:\\program files\\python37\\lib\\site-packages (from notebook>=5.6.0->jupyterthemes) (0.5.0)\n",
      "Requirement already satisfied: ipykernel in c:\\program files\\python37\\lib\\site-packages (from notebook>=5.6.0->jupyterthemes) (4.10.0)\n",
      "Requirement already satisfied: pyzmq>=17 in c:\\program files\\python37\\lib\\site-packages (from notebook>=5.6.0->jupyterthemes) (17.1.2)\n",
      "Requirement already satisfied: jupyter-client>=5.2.0 in c:\\program files\\python37\\lib\\site-packages (from notebook>=5.6.0->jupyterthemes) (5.2.4)\n",
      "Requirement already satisfied: Send2Trash in c:\\program files\\python37\\lib\\site-packages (from notebook>=5.6.0->jupyterthemes) (1.5.0)\n",
      "Requirement already satisfied: nbformat in c:\\program files\\python37\\lib\\site-packages (from notebook>=5.6.0->jupyterthemes) (4.4.0)\n",
      "Requirement already satisfied: terminado>=0.8.1 in c:\\program files\\python37\\lib\\site-packages (from notebook>=5.6.0->jupyterthemes) (0.8.1)\n",
      "Requirement already satisfied: ipython-genutils in c:\\program files\\python37\\lib\\site-packages (from notebook>=5.6.0->jupyterthemes) (0.2.0)\n",
      "Requirement already satisfied: colorama; sys_platform == \"win32\" in c:\\program files\\python37\\lib\\site-packages (from ipython>=5.4.1->jupyterthemes) (0.4.1)\n",
      "Requirement already satisfied: pygments in c:\\program files\\python37\\lib\\site-packages (from ipython>=5.4.1->jupyterthemes) (2.3.1)\n",
      "Requirement already satisfied: prompt-toolkit<2.1.0,>=2.0.0 in c:\\program files\\python37\\lib\\site-packages (from ipython>=5.4.1->jupyterthemes) (2.0.7)\n",
      "Requirement already satisfied: backcall in c:\\program files\\python37\\lib\\site-packages (from ipython>=5.4.1->jupyterthemes) (0.1.0)\n",
      "Requirement already satisfied: decorator in c:\\program files\\python37\\lib\\site-packages (from ipython>=5.4.1->jupyterthemes) (4.3.0)\n",
      "Requirement already satisfied: setuptools>=18.5 in c:\\program files\\python37\\lib\\site-packages (from ipython>=5.4.1->jupyterthemes) (40.6.2)\n",
      "Requirement already satisfied: jedi>=0.10 in c:\\program files\\python37\\lib\\site-packages (from ipython>=5.4.1->jupyterthemes) (0.13.2)\n",
      "Requirement already satisfied: pickleshare in c:\\program files\\python37\\lib\\site-packages (from ipython>=5.4.1->jupyterthemes) (0.7.5)\n",
      "Requirement already satisfied: pyparsing!=2.0.4,!=2.1.2,!=2.1.6,>=2.0.1 in c:\\program files\\python37\\lib\\site-packages (from matplotlib>=1.4.3->jupyterthemes) (2.3.1)\n",
      "Requirement already satisfied: cycler>=0.10 in c:\\program files\\python37\\lib\\site-packages (from matplotlib>=1.4.3->jupyterthemes) (0.10.0)\n",
      "Requirement already satisfied: python-dateutil>=2.1 in c:\\program files\\python37\\lib\\site-packages (from matplotlib>=1.4.3->jupyterthemes) (2.7.5)\n",
      "Requirement already satisfied: kiwisolver>=1.0.1 in c:\\program files\\python37\\lib\\site-packages (from matplotlib>=1.4.3->jupyterthemes) (1.0.1)\n",
      "Requirement already satisfied: numpy>=1.10.0 in c:\\program files\\python37\\lib\\site-packages (from matplotlib>=1.4.3->jupyterthemes) (1.16.0)\n",
      "Requirement already satisfied: ply in c:\\users\\lucas\\appdata\\roaming\\python\\python37\\site-packages (from lesscpy>=0.11.2->jupyterthemes) (3.11)\n",
      "Requirement already satisfied: six in c:\\program files\\python37\\lib\\site-packages (from lesscpy>=0.11.2->jupyterthemes) (1.12.0)\n",
      "Requirement already satisfied: MarkupSafe>=0.23 in c:\\program files\\python37\\lib\\site-packages (from jinja2->notebook>=5.6.0->jupyterthemes) (1.1.0)\n",
      "Requirement already satisfied: entrypoints>=0.2.2 in c:\\program files\\python37\\lib\\site-packages (from nbconvert->notebook>=5.6.0->jupyterthemes) (0.3)\n",
      "Requirement already satisfied: testpath in c:\\program files\\python37\\lib\\site-packages (from nbconvert->notebook>=5.6.0->jupyterthemes) (0.4.2)\n",
      "Requirement already satisfied: pandocfilters>=1.4.1 in c:\\program files\\python37\\lib\\site-packages (from nbconvert->notebook>=5.6.0->jupyterthemes) (1.4.2)\n",
      "Requirement already satisfied: mistune>=0.8.1 in c:\\program files\\python37\\lib\\site-packages (from nbconvert->notebook>=5.6.0->jupyterthemes) (0.8.4)\n",
      "Requirement already satisfied: defusedxml in c:\\program files\\python37\\lib\\site-packages (from nbconvert->notebook>=5.6.0->jupyterthemes) (0.5.0)\n",
      "Requirement already satisfied: bleach in c:\\program files\\python37\\lib\\site-packages (from nbconvert->notebook>=5.6.0->jupyterthemes) (3.1.0)\n",
      "Requirement already satisfied: jsonschema!=2.5.0,>=2.4 in c:\\program files\\python37\\lib\\site-packages (from nbformat->notebook>=5.6.0->jupyterthemes) (2.6.0)\n",
      "Requirement already satisfied: pywinpty>=0.5; os_name == \"nt\" in c:\\program files\\python37\\lib\\site-packages (from terminado>=0.8.1->notebook>=5.6.0->jupyterthemes) (0.5.5)\n",
      "Requirement already satisfied: wcwidth in c:\\program files\\python37\\lib\\site-packages (from prompt-toolkit<2.1.0,>=2.0.0->ipython>=5.4.1->jupyterthemes) (0.1.7)\n",
      "Requirement already satisfied: parso>=0.3.0 in c:\\program files\\python37\\lib\\site-packages (from jedi>=0.10->ipython>=5.4.1->jupyterthemes) (0.3.2)\n",
      "Requirement already satisfied: webencodings in c:\\program files\\python37\\lib\\site-packages (from bleach->nbconvert->notebook>=5.6.0->jupyterthemes) (0.5.1)\n"
     ]
    }
   ],
   "source": []
  },
  {
   "cell_type": "code",
   "execution_count": null,
   "metadata": {},
   "outputs": [
    {
     "name": "stderr",
     "output_type": "stream",
     "text": [
      "Skipping jupyter-themes as it is not installed.\n"
     ]
    }
   ],
   "source": [
    "!pip uninstall jupyter-themes\n",
    "!jt -t "
   ]
  },
  {
   "cell_type": "code",
   "execution_count": 2,
   "metadata": {},
   "outputs": [
    {
     "name": "stdout",
     "output_type": "stream",
     "text": [
      "Collecting git+https://github.com/dunovank/jupyter-themes.git\n",
      "  Cloning https://github.com/dunovank/jupyter-themes.git to c:\\users\\lucas\\appdata\\local\\temp\\pip-req-build-q_3kj8rk\n",
      "Requirement already satisfied (use --upgrade to upgrade): jupyterthemes==0.20.0 from git+https://github.com/dunovank/jupyter-themes.git in c:\\users\\lucas\\appdata\\roaming\\python\\python37\\site-packages\n",
      "Requirement already satisfied: jupyter_core in c:\\program files\\python37\\lib\\site-packages (from jupyterthemes==0.20.0) (4.4.0)\n",
      "Requirement already satisfied: notebook>=5.6.0 in c:\\program files\\python37\\lib\\site-packages (from jupyterthemes==0.20.0) (5.7.4)\n",
      "Requirement already satisfied: ipython>=5.4.1 in c:\\program files\\python37\\lib\\site-packages (from jupyterthemes==0.20.0) (7.2.0)\n",
      "Requirement already satisfied: matplotlib>=1.4.3 in c:\\program files\\python37\\lib\\site-packages (from jupyterthemes==0.20.0) (3.0.2)\n",
      "Requirement already satisfied: lesscpy>=0.11.2 in c:\\users\\lucas\\appdata\\roaming\\python\\python37\\site-packages (from jupyterthemes==0.20.0) (0.13.0)\n",
      "Requirement already satisfied: traitlets in c:\\program files\\python37\\lib\\site-packages (from jupyter_core->jupyterthemes==0.20.0) (4.3.2)\n",
      "Requirement already satisfied: nbconvert in c:\\program files\\python37\\lib\\site-packages (from notebook>=5.6.0->jupyterthemes==0.20.0) (5.4.0)\n",
      "Requirement already satisfied: jupyter-client>=5.2.0 in c:\\program files\\python37\\lib\\site-packages (from notebook>=5.6.0->jupyterthemes==0.20.0) (5.2.4)\n",
      "Requirement already satisfied: ipython-genutils in c:\\program files\\python37\\lib\\site-packages (from notebook>=5.6.0->jupyterthemes==0.20.0) (0.2.0)\n",
      "Requirement already satisfied: terminado>=0.8.1 in c:\\program files\\python37\\lib\\site-packages (from notebook>=5.6.0->jupyterthemes==0.20.0) (0.8.1)\n",
      "Requirement already satisfied: prometheus-client in c:\\program files\\python37\\lib\\site-packages (from notebook>=5.6.0->jupyterthemes==0.20.0) (0.5.0)\n",
      "Requirement already satisfied: tornado>=4 in c:\\program files\\python37\\lib\\site-packages (from notebook>=5.6.0->jupyterthemes==0.20.0) (5.1.1)\n",
      "Requirement already satisfied: Send2Trash in c:\\program files\\python37\\lib\\site-packages (from notebook>=5.6.0->jupyterthemes==0.20.0) (1.5.0)\n",
      "Requirement already satisfied: pyzmq>=17 in c:\\program files\\python37\\lib\\site-packages (from notebook>=5.6.0->jupyterthemes==0.20.0) (17.1.2)\n",
      "Requirement already satisfied: jinja2 in c:\\program files\\python37\\lib\\site-packages (from notebook>=5.6.0->jupyterthemes==0.20.0) (2.10)\n",
      "Requirement already satisfied: nbformat in c:\\program files\\python37\\lib\\site-packages (from notebook>=5.6.0->jupyterthemes==0.20.0) (4.4.0)\n",
      "Requirement already satisfied: ipykernel in c:\\program files\\python37\\lib\\site-packages (from notebook>=5.6.0->jupyterthemes==0.20.0) (4.10.0)\n",
      "Requirement already satisfied: colorama; sys_platform == \"win32\" in c:\\program files\\python37\\lib\\site-packages (from ipython>=5.4.1->jupyterthemes==0.20.0) (0.4.1)\n",
      "Requirement already satisfied: backcall in c:\\program files\\python37\\lib\\site-packages (from ipython>=5.4.1->jupyterthemes==0.20.0) (0.1.0)\n",
      "Requirement already satisfied: setuptools>=18.5 in c:\\program files\\python37\\lib\\site-packages (from ipython>=5.4.1->jupyterthemes==0.20.0) (40.6.2)\n",
      "Requirement already satisfied: jedi>=0.10 in c:\\program files\\python37\\lib\\site-packages (from ipython>=5.4.1->jupyterthemes==0.20.0) (0.13.2)\n",
      "Requirement already satisfied: prompt-toolkit<2.1.0,>=2.0.0 in c:\\program files\\python37\\lib\\site-packages (from ipython>=5.4.1->jupyterthemes==0.20.0) (2.0.7)\n",
      "Requirement already satisfied: pygments in c:\\program files\\python37\\lib\\site-packages (from ipython>=5.4.1->jupyterthemes==0.20.0) (2.3.1)\n",
      "Requirement already satisfied: pickleshare in c:\\program files\\python37\\lib\\site-packages (from ipython>=5.4.1->jupyterthemes==0.20.0) (0.7.5)\n",
      "Requirement already satisfied: decorator in c:\\program files\\python37\\lib\\site-packages (from ipython>=5.4.1->jupyterthemes==0.20.0) (4.3.0)\n",
      "Requirement already satisfied: numpy>=1.10.0 in c:\\program files\\python37\\lib\\site-packages (from matplotlib>=1.4.3->jupyterthemes==0.20.0) (1.16.0)\n",
      "Requirement already satisfied: cycler>=0.10 in c:\\program files\\python37\\lib\\site-packages (from matplotlib>=1.4.3->jupyterthemes==0.20.0) (0.10.0)\n",
      "Requirement already satisfied: kiwisolver>=1.0.1 in c:\\program files\\python37\\lib\\site-packages (from matplotlib>=1.4.3->jupyterthemes==0.20.0) (1.0.1)\n",
      "Requirement already satisfied: pyparsing!=2.0.4,!=2.1.2,!=2.1.6,>=2.0.1 in c:\\program files\\python37\\lib\\site-packages (from matplotlib>=1.4.3->jupyterthemes==0.20.0) (2.3.1)\n",
      "Requirement already satisfied: python-dateutil>=2.1 in c:\\program files\\python37\\lib\\site-packages (from matplotlib>=1.4.3->jupyterthemes==0.20.0) (2.7.5)\n",
      "Requirement already satisfied: six in c:\\program files\\python37\\lib\\site-packages (from lesscpy>=0.11.2->jupyterthemes==0.20.0) (1.12.0)\n",
      "Requirement already satisfied: ply in c:\\users\\lucas\\appdata\\roaming\\python\\python37\\site-packages (from lesscpy>=0.11.2->jupyterthemes==0.20.0) (3.11)\n",
      "Requirement already satisfied: defusedxml in c:\\program files\\python37\\lib\\site-packages (from nbconvert->notebook>=5.6.0->jupyterthemes==0.20.0) (0.5.0)\n",
      "Requirement already satisfied: entrypoints>=0.2.2 in c:\\program files\\python37\\lib\\site-packages (from nbconvert->notebook>=5.6.0->jupyterthemes==0.20.0) (0.3)\n",
      "Requirement already satisfied: mistune>=0.8.1 in c:\\program files\\python37\\lib\\site-packages (from nbconvert->notebook>=5.6.0->jupyterthemes==0.20.0) (0.8.4)\n",
      "Requirement already satisfied: bleach in c:\\program files\\python37\\lib\\site-packages (from nbconvert->notebook>=5.6.0->jupyterthemes==0.20.0) (3.1.0)\n",
      "Requirement already satisfied: pandocfilters>=1.4.1 in c:\\program files\\python37\\lib\\site-packages (from nbconvert->notebook>=5.6.0->jupyterthemes==0.20.0) (1.4.2)\n",
      "Requirement already satisfied: testpath in c:\\program files\\python37\\lib\\site-packages (from nbconvert->notebook>=5.6.0->jupyterthemes==0.20.0) (0.4.2)\n",
      "Requirement already satisfied: pywinpty>=0.5; os_name == \"nt\" in c:\\program files\\python37\\lib\\site-packages (from terminado>=0.8.1->notebook>=5.6.0->jupyterthemes==0.20.0) (0.5.5)\n",
      "Requirement already satisfied: MarkupSafe>=0.23 in c:\\program files\\python37\\lib\\site-packages (from jinja2->notebook>=5.6.0->jupyterthemes==0.20.0) (1.1.0)\n",
      "Requirement already satisfied: jsonschema!=2.5.0,>=2.4 in c:\\program files\\python37\\lib\\site-packages (from nbformat->notebook>=5.6.0->jupyterthemes==0.20.0) (2.6.0)\n",
      "Requirement already satisfied: parso>=0.3.0 in c:\\program files\\python37\\lib\\site-packages (from jedi>=0.10->ipython>=5.4.1->jupyterthemes==0.20.0) (0.3.2)\n",
      "Requirement already satisfied: wcwidth in c:\\program files\\python37\\lib\\site-packages (from prompt-toolkit<2.1.0,>=2.0.0->ipython>=5.4.1->jupyterthemes==0.20.0) (0.1.7)\n",
      "Requirement already satisfied: webencodings in c:\\program files\\python37\\lib\\site-packages (from bleach->nbconvert->notebook>=5.6.0->jupyterthemes==0.20.0) (0.5.1)\n"
     ]
    }
   ],
   "source": [
    "!pip install --user git+https://github.com/dunovank/jupyter-themes.git"
   ]
  },
  {
   "cell_type": "code",
   "execution_count": 4,
   "metadata": {},
   "outputs": [
    {
     "name": "stderr",
     "output_type": "stream",
     "text": [
      "'jupytertheme' nÆo ‚ reconhecido como um comando interno\n",
      "ou externo, um programa oper vel ou um arquivo em lotes.\n"
     ]
    }
   ],
   "source": [
    "!jupytertheme -l"
   ]
  },
  {
   "cell_type": "code",
   "execution_count": 1,
   "metadata": {},
   "outputs": [
    {
     "name": "stdout",
     "output_type": "stream",
     "text": [
      "Available Themes: \r\n",
      "   chesterish\r\n",
      "   grade3\r\n",
      "   gruvboxd\r\n",
      "   gruvboxl\r\n",
      "   monokai\r\n",
      "   oceans16\r\n",
      "   onedork\r\n",
      "   solarizedd\r\n",
      "   solarizedl\r\n"
     ]
    }
   ],
   "source": [
    "!jt -l"
   ]
  },
  {
   "cell_type": "code",
   "execution_count": 1,
   "metadata": {},
   "outputs": [],
   "source": [
    "!jt -t gruvboxl"
   ]
  },
  {
   "cell_type": "code",
   "execution_count": 2,
   "metadata": {},
   "outputs": [
    {
     "name": "stdout",
     "output_type": "stream",
     "text": [
      "Reset css and font defaults in:\r\n",
      "/home/lucas/.jupyter/custom &\r\n",
      "/home/lucas/.local/share/jupyter/nbextensions\r\n"
     ]
    }
   ],
   "source": [
    "!jt -r"
   ]
  },
  {
   "cell_type": "code",
   "execution_count": null,
   "metadata": {},
   "outputs": [],
   "source": []
  }
 ],
 "metadata": {
  "kernelspec": {
   "display_name": "Python 3",
   "language": "python",
   "name": "python3"
  },
  "language_info": {
   "codemirror_mode": {
    "name": "ipython",
    "version": 3
   },
   "file_extension": ".py",
   "mimetype": "text/x-python",
   "name": "python",
   "nbconvert_exporter": "python",
   "pygments_lexer": "ipython3",
   "version": "3.7.1"
  }
 },
 "nbformat": 4,
 "nbformat_minor": 2
}
