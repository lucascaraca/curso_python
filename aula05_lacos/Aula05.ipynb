{
 "cells": [
  {
   "cell_type": "markdown",
   "metadata": {},
   "source": [
    "# AULA 05 #"
   ]
  },
  {
   "cell_type": "markdown",
   "metadata": {},
   "source": [
    "### 5.1: Comandos repetitivos ###"
   ]
  },
  {
   "cell_type": "markdown",
   "metadata": {},
   "source": [
    "Quando queremos executar uma mesma tarefa várias vezes, é interessante que tenhamos um método para fazer isso. Por exemplo: se queremos criar um programa que imprima números de 0 à 100, não é viável que façamos 1000x o comando print para cada um dos números."
   ]
  },
  {
   "cell_type": "markdown",
   "metadata": {},
   "source": [
    "#### 5.1.1: Comando *while* ####"
   ]
  },
  {
   "cell_type": "markdown",
   "metadata": {},
   "source": [
    "Em Python, temos um comando que realiza tarefas repetitivas - o comando 'while'. Sua estrutura é muito parecida com a do if - com a diferença que ele repete um bloco de comandos enquanto uma condição for verdadeira.\n",
    "\n",
    "\n",
    "{MODELO}\n",
    "\n",
    "...\n",
    "\n",
    "while <expressão condicional>:\n",
    "\n",
    "    comandos"
   ]
  },
  {
   "cell_type": "code",
   "execution_count": 2,
   "metadata": {},
   "outputs": [
    {
     "name": "stdout",
     "output_type": "stream",
     "text": [
      "1 2 3 4 5 6 7 8 9 10 11 12 13 14 15 16 17 18 19 20 21 22 23 24 25 26 27 28 29 30 31 32 33 34 35 36 37 38 39 40 41 42 43 44 45 46 47 48 49 50 51 52 53 54 55 56 57 58 59 60 61 62 63 64 65 66 67 68 69 70 71 72 73 74 75 76 77 78 79 80 81 82 83 84 85 86 87 88 89 90 91 92 93 94 95 96 97 98 99 100 \n",
      "\n"
     ]
    }
   ],
   "source": [
    "#EXEMPLO 5.1: Programa que imprime números de 1 à 100.\n",
    "\n",
    "i=1\n",
    "\n",
    "while i<=100:\n",
    "    print(i, end=' ')\n",
    "    i=i+1\n",
    "print('\\n')"
   ]
  },
  {
   "cell_type": "markdown",
   "metadata": {},
   "source": [
    "#### 5.1.2: Breve introdução às *Listas * ####\n"
   ]
  },
  {
   "cell_type": "markdown",
   "metadata": {},
   "source": [
    "Um lista em Python é uma estrutura que armazena vários dados, podendo esses serem do mesmo tipo ou não.\n",
    "\n",
    "Uma lista é criada da seguinte maneira:\n",
    "\n",
    "<nome da variável> = [dado1, dado2, ..., dadoN]\n",
    "\n",
    "Cada dado ocupa uma posição, sendo que a posição varia de 0 à (N-1).\n",
    "\n",
    "Acessa-se um dos dados da lista digitando:\n",
    "\n",
    "<nome da variável>[<posição>]"
   ]
  },
  {
   "cell_type": "code",
   "execution_count": 4,
   "metadata": {},
   "outputs": [
    {
     "name": "stdout",
     "output_type": "stream",
     "text": [
      "sol\n",
      "lua\n",
      "cometa\n"
     ]
    }
   ],
   "source": [
    "#EXEMPLO 5.2: Imprimindo os elementos de uma lista.\n",
    "a=['sol', 'lua', 'cometa']\n",
    "i=0\n",
    "\n",
    "while i<=2:\n",
    "    print(a[i])\n",
    "    i=i+1"
   ]
  },
  {
   "cell_type": "markdown",
   "metadata": {},
   "source": [
    "#### 5.1.3: Comando *for* ####"
   ]
  },
  {
   "cell_type": "markdown",
   "metadata": {},
   "source": [
    "Para iterar sobre os itens de uma lista ou de uma string, usamos o comando for.\n",
    "\n",
    "{Modelo}\n",
    "\n",
    "...\n",
    "\n",
    "for <variável> in <lista/string>:\n",
    "    \n",
    "    comandos\n",
    "    \n",
    "...\n",
    "\n",
    "\n",
    "**Função *range***\n",
    "\n",
    "\n",
    "Como sempre estamos iterando sobre valores, numéricos, o Python oferece uma função que gera uma lista numérica.\n",
    "\n",
    "\n",
    "O comando 'range(n)' gera uma lista com valores de 0 até n-1.\n",
    "\n",
    "O comando 'range(x,y)' gera uma lista de números de x à (y-1).\n",
    "\n",
    "O comando 'range(x,y,z)' gera valores de x até y-1, adicionando z a cada etapa."
   ]
  },
  {
   "cell_type": "code",
   "execution_count": 13,
   "metadata": {},
   "outputs": [
    {
     "name": "stdout",
     "output_type": "stream",
     "text": [
      "sol lua cometa "
     ]
    }
   ],
   "source": [
    "#EXEMPLO 5.3: Imprimindo os elementos de uma lista com o for\n",
    "i=1\n",
    "for i in a:\n",
    "    print(i, end=' ')"
   ]
  },
  {
   "cell_type": "code",
   "execution_count": 12,
   "metadata": {},
   "outputs": [
    {
     "name": "stdout",
     "output_type": "stream",
     "text": [
      "0 1 2 3 4 5 6 7 8 9 "
     ]
    }
   ],
   "source": [
    "#EXEMPLO 5.4: Imprimindo os números de 0 até 9\n",
    "for i in range(10):\n",
    "    print(i, end=' ')"
   ]
  },
  {
   "cell_type": "code",
   "execution_count": 7,
   "metadata": {},
   "outputs": [
    {
     "name": "stdout",
     "output_type": "stream",
     "text": [
      "5 6 7 8 9 10 "
     ]
    }
   ],
   "source": [
    "#EXEMPLO 5.5: Imprimindo números de 5 até 10:\n",
    "for i in range(5,11):\n",
    "    print(i, end=' ')"
   ]
  },
  {
   "cell_type": "code",
   "execution_count": 11,
   "metadata": {},
   "outputs": [
    {
     "name": "stdout",
     "output_type": "stream",
     "text": [
      "1 3 5 7 9 11 "
     ]
    }
   ],
   "source": [
    "#EXEMPLO 5.6: Imprimindo com incremento\n",
    "for i in range(1,13,2):\n",
    "    print(i, end=' ')"
   ]
  },
  {
   "cell_type": "code",
   "execution_count": 10,
   "metadata": {},
   "outputs": [
    {
     "name": "stdout",
     "output_type": "stream",
     "text": [
      "Digite a quantidade de números que deseja somar: 3\n",
      "Digite os números a serem somados: \n",
      "\n",
      "4\n",
      "5\n",
      "7\n",
      "A soma é: 16\n"
     ]
    }
   ],
   "source": [
    "#EXEMPLO: Imprimindo a soma de N números\n",
    "\n",
    "n=int(input('Digite a quantidade de números que deseja somar: '))\n",
    "\n",
    "if n>=0:\n",
    "    acu=0\n",
    "    print('Digite os números a serem somados: \\n')\n",
    "    for i in range(n):\n",
    "        aux=int(input( ))\n",
    "        acu=acu+aux\n",
    "    print('A soma é: {}'.format(acu) )\n",
    "\n",
    "else:\n",
    "    print('Você digitou um número negativo')"
   ]
  },
  {
   "cell_type": "code",
   "execution_count": 14,
   "metadata": {},
   "outputs": [
    {
     "name": "stdout",
     "output_type": "stream",
     "text": [
      "Digite o número que deseja calcular o fatorial: 5\n",
      "5! = 120\n"
     ]
    }
   ],
   "source": [
    "#EXEMPLO 5.8: Cálculo do fatorial\n",
    "\n",
    "f=int(input('Digite o número que deseja calcular o fatorial: '))\n",
    "acu=1\n",
    "i=1\n",
    "while i<=f:\n",
    "    acu=acu*i\n",
    "    i=i+1\n",
    "print('{}! = {}'.format(f, acu))"
   ]
  },
  {
   "cell_type": "markdown",
   "metadata": {},
   "source": [
    "#### 5.1.4: Comandos *break* e *continue* ####"
   ]
  },
  {
   "cell_type": "markdown",
   "metadata": {},
   "source": [
    "O comando *break* faz com que a execução de um laço seja terminada, passando  execução pro próximo comando após o laço.\n",
    "\n",
    "Já o comando *continue* faz com que a execução de uma laço seja alterada para o final do laço. Ele é usado em situações onde comandos dentro do laço são executados caso alguma condição seja satisfeita."
   ]
  },
  {
   "cell_type": "code",
   "execution_count": 15,
   "metadata": {},
   "outputs": [
    {
     "name": "stdout",
     "output_type": "stream",
     "text": [
      "1 2 3 4 5 \n",
      "\n"
     ]
    }
   ],
   "source": [
    "#EXEMPLO 5.9: Imprimindo numeros de 0 à 5.\n",
    "for i in range(1,11):\n",
    "    if(i>5):\n",
    "        break\n",
    "    print(i, end=' ')\n",
    "print('\\n')"
   ]
  },
  {
   "cell_type": "code",
   "execution_count": 16,
   "metadata": {},
   "outputs": [
    {
     "name": "stdout",
     "output_type": "stream",
     "text": [
      "1 2 3 4 6 7 8 9 10 \n",
      "\n"
     ]
    }
   ],
   "source": [
    "#EXEMPLO 5.10: Imprimindo números de 0 à 10 menos o 5.\n",
    "i=1\n",
    "while i<=10:\n",
    "    if(i==5):\n",
    "        i=i+1\n",
    "        continue\n",
    "    print(i, end=' ')\n",
    "    i=i+1\n",
    "print('\\n')"
   ]
  },
  {
   "cell_type": "markdown",
   "metadata": {},
   "source": [
    "### 5.2 *Variáveis de laço* ###"
   ]
  },
  {
   "cell_type": "markdown",
   "metadata": {},
   "source": [
    "#### 5.2.1: Variável indicadora ####"
   ]
  },
  {
   "cell_type": "markdown",
   "metadata": {},
   "source": [
    "Usamos uma variável indicadora quando queremos testar uma propriedade de um (conjunto de) objeto(s). Para isso assumimos que o objeto possui essa propriedade e a testamos a fim de validar nossa hipótese inicial."
   ]
  },
  {
   "cell_type": "code",
   "execution_count": 17,
   "metadata": {},
   "outputs": [
    {
     "name": "stdout",
     "output_type": "stream",
     "text": [
      "Digite o número de números que irá digitar: 2\n",
      "Digite os números: 3\n",
      "5\n",
      "TÁ PEGANO FOGO BIXO!\n"
     ]
    }
   ],
   "source": [
    "#EXEMPLO 5.11: Programa que lê n números e verifica se eles estão em ordem crescente\n",
    "\n",
    "n=int(input('Digite o número de números que irá digitar: '))\n",
    "ant=float(input('Digite os números: '))\n",
    "i=1\n",
    "ord=1\n",
    "\n",
    "while i<n:\n",
    "    atual=float(input())\n",
    "    if (atual<ant):\n",
    "        ord=0\n",
    "    i=i+1\n",
    "    ant=atual\n",
    "\n",
    "if ord==0:\n",
    "    print('ERRRRRRRRRRRRRRRRRRRRRRRRRRRRRRRROU!')\n",
    "elif ord==1:\n",
    "    print('TÁ PEGANO FOGO BIXO!')"
   ]
  },
  {
   "cell_type": "markdown",
   "metadata": {},
   "source": [
    "#### 5.2.2: Variável contadora ####"
   ]
  },
  {
   "cell_type": "markdown",
   "metadata": {},
   "source": [
    "Usamos uma variável contadora para contar o número de vezes que um objeto satisfaz uma determinada propriedade."
   ]
  },
  {
   "cell_type": "code",
   "execution_count": 18,
   "metadata": {},
   "outputs": [
    {
     "name": "stdout",
     "output_type": "stream",
     "text": [
      "Digite um número inteiro qualquer: 7\n",
      "O número 7 é primo\n"
     ]
    }
   ],
   "source": [
    "#EXEMPLO 5.12: Programa que diz se um número é primo ou não\n",
    "\n",
    "#um número é primo se seus únicos divisores são ele mesmo e 1.\n",
    "\n",
    "n=int(input('Digite um número inteiro qualquer: '))\n",
    "\n",
    "#criação de uma variável que irá dividir o número digitado\n",
    "d=2\n",
    "\n",
    "#variável contadora: inicia em 0 porque até então, nenhum número foi testado\n",
    "div=0\n",
    "\n",
    "while d<(n-1):\n",
    "    if n%d==0:\n",
    "        div=div+1\n",
    "    d=d+1\n",
    "\n",
    "if div==0:\n",
    "    print('O número {} é primo'.format(n))\n",
    "else:\n",
    "    print('O número {} não é primo'.format(n))"
   ]
  },
  {
   "cell_type": "code",
   "execution_count": null,
   "metadata": {},
   "outputs": [],
   "source": []
  }
 ],
 "metadata": {
  "kernelspec": {
   "display_name": "Python 3",
   "language": "python",
   "name": "python3"
  },
  "language_info": {
   "codemirror_mode": {
    "name": "ipython",
    "version": 3
   },
   "file_extension": ".py",
   "mimetype": "text/x-python",
   "name": "python",
   "nbconvert_exporter": "python",
   "pygments_lexer": "ipython3",
   "version": "3.7.2"
  }
 },
 "nbformat": 4,
 "nbformat_minor": 2
}
