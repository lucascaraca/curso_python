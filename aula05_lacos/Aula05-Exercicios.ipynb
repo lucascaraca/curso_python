{
 "cells": [
  {
   "cell_type": "markdown",
   "metadata": {},
   "source": [
    "011.: Faça um programa que imprima um menu de 4 pratos na tela e uma quinta opção para sair do programa. O programa deve imprimir o prato solicitado. O programa deve terminar quando for escolhida a quinta opção."
   ]
  },
  {
   "cell_type": "code",
   "execution_count": 8,
   "metadata": {},
   "outputs": [
    {
     "name": "stdout",
     "output_type": "stream",
     "text": [
      "Restaurante Neymar Jr.  \n",
      "\n",
      " Escolha sua opção!\n",
      "1. Lanche TOP\n",
      "2. Refri Rapaziada\n",
      "3. Bobs Esponja\n",
      "4. Pagode\n",
      "5. Sair\n",
      "Digite sua opção: 1\n",
      "Você escolheu um Lanche TOP!\n",
      "1. Sim \n",
      " 2. Não\n",
      "Confirma?1\n",
      "Lanche TOP confirmado!\n",
      "1. Lanche TOP\n",
      "2. Refri Rapaziada\n",
      "3. Bobs Esponja\n",
      "4. Pagode\n",
      "5. Sair\n",
      "Digite sua opção: 2\n",
      "Você escolheu um Refri Rapaziada\n",
      "1. Sim \n",
      " 2. Não\n",
      "Confirma?1\n",
      "Refri Rapaziada confirmado!\n",
      "1. Lanche TOP\n",
      "2. Refri Rapaziada\n",
      "3. Bobs Esponja\n",
      "4. Pagode\n",
      "5. Sair\n",
      "Digite sua opção: 5\n",
      "\n",
      " É TOISS!\n"
     ]
    }
   ],
   "source": [
    "print('Restaurante Neymar Jr. ','\\n'*2,'Escolha sua opção!')\n",
    "e=0\n",
    "while e!=6:\n",
    "    print('1. Lanche TOP')\n",
    "    print('2. Refri Rapaziada')\n",
    "    print('3. Bobs Esponja')\n",
    "    print('4. Pagode')\n",
    "    print('5. Sair')\n",
    "    e=int(input('Digite sua opção: '))\n",
    "    if e==1:\n",
    "        print('Você escolheu um Lanche TOP!')\n",
    "        print('1. Sim \\n 2. Não')\n",
    "        c=int(input('Confirma?'))\n",
    "        if c==1:\n",
    "            print('Lanche TOP confirmado!')\n",
    "        else:\n",
    "            print('Lanche TOP cancelado! :(')\n",
    "\n",
    "    elif e==2:\n",
    "        print('Você escolheu um Refri Rapaziada')\n",
    "        print('1. Sim \\n 2. Não')\n",
    "        c = int(input('Confirma?'))\n",
    "        if c == 1:\n",
    "            print('Refri Rapaziada confirmado!')\n",
    "        else:\n",
    "            print('Refri Rapaziada cancelado! :(')\n",
    "\n",
    "    elif e == 3:\n",
    "        print('Você escolheu um Bobs Esponja')\n",
    "        print('1. Sim \\n 2. Não')\n",
    "        c = int(input('Confirma?'))\n",
    "        if c == 1:\n",
    "            print('Bobs Esponja confirmado!')\n",
    "        else:\n",
    "            print('Bobs Esponja cancelado! :(')\n",
    "\n",
    "    elif e == 4:\n",
    "        print('Você escolheu Pagode')\n",
    "        print('1. Sim \\n 2. Não')\n",
    "        c = int(input('Confirma?'))\n",
    "        if c == 1:\n",
    "            print('Pagode confirmado!')\n",
    "        else:\n",
    "            print('Pagode cancelado! :(')\n",
    "\n",
    "    else:\n",
    "        break\n",
    "\n",
    "print('\\n','É TOISS!')"
   ]
  },
  {
   "cell_type": "markdown",
   "metadata": {},
   "source": [
    "012.: Faça um programa que lê dois números inteiros positivos a e b. Utilizando laços, o seu programa deve calcular e imprimir o valor a b ."
   ]
  },
  {
   "cell_type": "code",
   "execution_count": 2,
   "metadata": {},
   "outputs": [
    {
     "name": "stdout",
     "output_type": "stream",
     "text": [
      "Digite o número da base: 4\n",
      "Digite o número da potência: 2\n",
      "4^2=16\n"
     ]
    }
   ],
   "source": [
    "a=int(input('Digite o número da base: '))\n",
    "b=int(input('Digite o número da potência: '))\n",
    "acu=1\n",
    "i=1\n",
    "\n",
    "while i<=b:\n",
    "    acu=acu*a\n",
    "    i=i+1\n",
    "\n",
    "print('{}^{}={}'.format(a, b, acu))"
   ]
  },
  {
   "cell_type": "markdown",
   "metadata": {},
   "source": [
    "013.: Faça um programa que leia um número n e que compute e imprima a soma de 1 à n."
   ]
  },
  {
   "cell_type": "code",
   "execution_count": 3,
   "metadata": {},
   "outputs": [
    {
     "name": "stdout",
     "output_type": "stream",
     "text": [
      "Digite o valor n de números que deseja somar: 4\n",
      "A soma de 1 à 4 é: 10\n"
     ]
    }
   ],
   "source": [
    "i=1\n",
    "j=1\n",
    "acu=0\n",
    "n=int(input('Digite o valor n de números que deseja somar: '))\n",
    "\n",
    "while i<=n:\n",
    "    acu=acu+i\n",
    "    i=i+1\n",
    "\n",
    "print('A soma de 1 à {} é: {}'.format(n, acu))"
   ]
  },
  {
   "cell_type": "markdown",
   "metadata": {},
   "source": [
    "014.: Faça um programa que lê um número n e imprima os valores entre 2 e n, que são divisores de n."
   ]
  },
  {
   "cell_type": "code",
   "execution_count": 5,
   "metadata": {},
   "outputs": [
    {
     "name": "stdout",
     "output_type": "stream",
     "text": [
      "Digite o valor de n: 8\n",
      "Os divisores de n entre 1 e n são: \n",
      "1 2 4 8\n",
      "THE END\n"
     ]
    }
   ],
   "source": [
    "i=2\n",
    "n=int(input('Digite o valor de n: '))\n",
    "\n",
    "print('Os divisores de n entre 1 e n são: ')\n",
    "print('1', end=' ')\n",
    "while i<n:\n",
    "    a=n%i\n",
    "    if a==0:\n",
    "        print(str(i), end=' ')\n",
    "    i=i+1\n",
    "\n",
    "print(str(n))\n",
    "\n",
    "print('THE END')"
   ]
  },
  {
   "cell_type": "markdown",
   "metadata": {},
   "source": [
    "015.: Faça um programa que leia um número n e que compute e imprima a \"dupla\"."
   ]
  },
  {
   "cell_type": "code",
   "execution_count": 7,
   "metadata": {},
   "outputs": [
    {
     "name": "stdout",
     "output_type": "stream",
     "text": [
      "Digite o valor n de números que deseja somar: 4\n",
      "20\n"
     ]
    }
   ],
   "source": [
    "i=1\n",
    "j=1\n",
    "acu=0\n",
    "n=int(input('Digite o valor n de números que deseja somar: '))\n",
    "\n",
    "while j<=n:\n",
    "    while i<=j:\n",
    "        acu=acu+i\n",
    "        i=i+1\n",
    "    j=j+1\n",
    "    i=1\n",
    "\n",
    "\n",
    "print(acu)"
   ]
  },
  {
   "cell_type": "code",
   "execution_count": null,
   "metadata": {},
   "outputs": [],
   "source": []
  }
 ],
 "metadata": {
  "kernelspec": {
   "display_name": "Python 3",
   "language": "python",
   "name": "python3"
  },
  "language_info": {
   "codemirror_mode": {
    "name": "ipython",
    "version": 3
   },
   "file_extension": ".py",
   "mimetype": "text/x-python",
   "name": "python",
   "nbconvert_exporter": "python",
   "pygments_lexer": "ipython3",
   "version": "3.7.2"
  }
 },
 "nbformat": 4,
 "nbformat_minor": 2
}
