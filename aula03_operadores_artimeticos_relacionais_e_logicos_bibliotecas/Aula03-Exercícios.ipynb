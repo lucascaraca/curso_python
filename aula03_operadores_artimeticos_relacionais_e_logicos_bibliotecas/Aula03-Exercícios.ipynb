{
 "cells": [
  {
   "cell_type": "markdown",
   "metadata": {},
   "source": [
    "003.: Faça um programa que calcule a média simples de duas notas digitadas pelo usuário."
   ]
  },
  {
   "cell_type": "code",
   "execution_count": 1,
   "metadata": {},
   "outputs": [
    {
     "name": "stdout",
     "output_type": "stream",
     "text": [
      "Digite o nome da fera: Ronaldo\n",
      "Digite a primeira nota: 5\n",
      "Agora fala aí a segunda: 6\n",
      "A média da fera Ronaldo é: 5.5\n"
     ]
    }
   ],
   "source": [
    "nome=input('Digite o nome da fera: ')\n",
    "n1=float(input('Digite a primeira nota: '))\n",
    "n2=float(input('Agora fala aí a segunda: '))\n",
    "m=(n1+n2)/2\n",
    "\n",
    "print('A média da fera {} é: {}'.format(nome, m))"
   ]
  },
  {
   "cell_type": "markdown",
   "metadata": {},
   "source": [
    "004.: Faça um programa que sorteie um entre 4 alunos."
   ]
  },
  {
   "cell_type": "code",
   "execution_count": 2,
   "metadata": {},
   "outputs": [
    {
     "name": "stdout",
     "output_type": "stream",
     "text": [
      "Primeiro aluno: L\n",
      "Segundo aluno: C\n",
      "Terceiro aluno: S\n",
      "Quarto aluno: P\n",
      "O escolhido foi: C\n"
     ]
    }
   ],
   "source": [
    "import random\n",
    "\n",
    "n1=input('Primeiro aluno: ')\n",
    "n2=input('Segundo aluno: ')\n",
    "n3=input('Terceiro aluno: ')\n",
    "n4=input('Quarto aluno: ')\n",
    "\n",
    "lista=[n1, n2, n3, n4]\n",
    "\n",
    "e = random.choice(lista)\n",
    "\n",
    "print('O escolhido foi: {}'.format(e))"
   ]
  },
  {
   "cell_type": "markdown",
   "metadata": {},
   "source": [
    "005.: Sortear a ordem dos quatro alunos"
   ]
  }
 ],
 "metadata": {
  "kernelspec": {
   "display_name": "Python 3",
   "language": "python",
   "name": "python3"
  },
  "language_info": {
   "codemirror_mode": {
    "name": "ipython",
    "version": 3
   },
   "file_extension": ".py",
   "mimetype": "text/x-python",
   "name": "python",
   "nbconvert_exporter": "python",
   "pygments_lexer": "ipython3",
   "version": "3.7.2"
  }
 },
 "nbformat": 4,
 "nbformat_minor": 2
}
