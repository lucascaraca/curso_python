{
 "cells": [
  {
   "cell_type": "markdown",
   "metadata": {},
   "source": [
    "# AULA 03 #"
   ]
  },
  {
   "cell_type": "markdown",
   "metadata": {},
   "source": [
    "### 3.1: Operadores aritméticos ###\n",
    "\n",
    " É  possível realizar operações aritméticas com as variáveis do programa. Para isso são necessários operadores. Em python eles são os seguintes:\n",
    "\n",
    "$+$: soma de números ou junção de caractéres;\n",
    "\n",
    "$-$: subtração;\n",
    "\n",
    "$*$: multiplicação de números ou repetição de caractéres (ou strings);\n",
    "\n",
    "$/$: divisão exata (float como resultado);\n",
    "\n",
    "$//$: divisão inteira;\n",
    "\n",
    "$%$: resto da divisão;\n",
    "\n",
    "$**$: exponenciação (também pode ser escrita como pwr(a,b)=a^b)\n",
    "\n",
    "O python segue uma ordem de preferência ao realizar operações que envolvam uma combinação desses operadores, que é a seguinte:\n",
    "1. $()$\n",
    "2. $**$\n",
    "3. $*, /, //, %$ (na ordem em que aparecerem)\n",
    "4. $+, -$ (na ordem em que aparecerem) $"
   ]
  },
  {
   "cell_type": "code",
   "execution_count": null,
   "metadata": {},
   "outputs": [],
   "source": [
    "n1=float(input('n1 = '))\n",
    "n2=float(input('n2 = '))\n",
    "s=n1+n2\n",
    "m=n1*n2\n",
    "d=n1/n2\n",
    "di=n1//n2\n",
    "r=n1%n2\n",
    "print('n1+n2 = {}, n1*n2 = {}, n1/n2 = {}.'.format(s, m, d))\n",
    "print('n1//n2 = {}, n1%n2 = {}'.format(di, r))"
   ]
  },
  {
   "cell_type": "markdown",
   "metadata": {},
   "source": [
    "### 3.2:  Algumas funcionalidades da função *print*###\n",
    "\n",
    "Podemos combinar dois *prints* e imprimí-los na mesma linha separados por um caracter.Adicionando *end='<string>'* como argumento da função print, podemos separar dois prints distintos por um string, ao invés de um pula linhas."
   ]
  },
  {
   "cell_type": "code",
   "execution_count": null,
   "metadata": {},
   "outputs": [],
   "source": [
    "print('n1+n2 = {}, n1*n2 = {}, n1/n2 = {}.'.format(s, m, d), end=' ')\n",
    "print('n1//n2 = {}, n1%n2 = {}'.format(di, r))\n",
    "\n",
    "\n",
    "print('\\n'*1)\n",
    "\n",
    "print('n1+n2 = {}, n1*n2 = {}, n1/n2 = {}.'.format(s, m, d), end='??')\n",
    "print('n1//n2 = {}, n1%n2 = {}'.format(di, r))\n"
   ]
  },
  {
   "cell_type": "markdown",
   "metadata": {},
   "source": [
    "Podemos ainda pular uma linha dentro de um mesmo print colocando '\\n' no local em que queremos pular a linha. "
   ]
  },
  {
   "cell_type": "code",
   "execution_count": null,
   "metadata": {},
   "outputs": [],
   "source": [
    "print('n1+n2 = {}, n1*n2 = {}, n1/n2 = {}.\\n' 'n1//n2 = {}, n1%n2 = {}'.format(s, m, d, di, r))"
   ]
  },
  {
   "cell_type": "markdown",
   "metadata": {},
   "source": [
    "#### 3.2.1: Operações com strings ####"
   ]
  },
  {
   "cell_type": "code",
   "execution_count": 2,
   "metadata": {},
   "outputs": [
    {
     "name": "stdout",
     "output_type": "stream",
     "text": [
      "s1 = ola\n",
      "s2 = vomo\n",
      "n = 2\n",
      "s1+s2 = olavomo; s1*n = olaola\n"
     ]
    }
   ],
   "source": [
    "s1=input('s1 = ')\n",
    "s2=input('s2 = ')\n",
    "n=int(input('n = ')) #entrar com um inteiro\n",
    "print('s1+s2 = {}; s1*n = {}'.format(s1+s2, s1*n))"
   ]
  },
  {
   "cell_type": "code",
   "execution_count": 10,
   "metadata": {},
   "outputs": [
    {
     "name": "stdout",
     "output_type": "stream",
     "text": [
      "Separando a string ola em 10 espaços do pinto final: ola       .\n",
      "Alinhando a string ola em 10 espaços a direita:        ola.\n",
      "Alinhando a string ola em 10 espaços a esquerda: ola       .\n",
      "Centralizando a string ola em 10 espaços:   ola    .\n",
      "Olha que loco: ooooooooolaooooooooo\n"
     ]
    }
   ],
   "source": [
    "print('Separando a string {} em 10 espaços do pinto final: {:10}.'.format(s1, s1))\n",
    "\n",
    "#Alinhando a direita\n",
    "print('Alinhando a string {} em 10 espaços a direita: {:>10}.'.format(s1, s1))\n",
    "\n",
    "#Alinhando a esquerda\n",
    "print('Alinhando a string {} em 10 espaços a esquerda: {:<10}.'.format(s1, s1))\n",
    "\n",
    "#Centralizando\n",
    "print(('Centralizando a string {} em 10 espaços:{:^10}.'.format(s1, s1)))\n",
    "\n",
    "#Colocando caracteres em volta\n",
    "print(('Olha que loco: {:o^20}'.format(s1)))"
   ]
  },
  {
   "cell_type": "markdown",
   "metadata": {},
   "source": [
    "### 3.3:  IMPORTAÇÃO DE BIBLIOTECAS ###\n",
    "\n",
    "Uma biblioteca em programação é um conjunto de algumas funções que podem ser úteis para a criação de programas. Para obtermos uma biblioteca, utilizamos o comando *import + < biblioteca >*. Caso queiramos obtermos apenas uma das funções de uma biblioteca digitamos: *from <biblioteca> import < função >*.\n",
    "\n",
    "Um exemplo de biblioteca muito útil é a *math*, que possui uma série de funções úteis - como as funções condicionais, por exemplo.\n",
    "\n",
    "No PyCharm:\n",
    "\n",
    "Para vermos as funções disponíveis numa biblioteca, digitamos *< biblioteca >*. e o pycharm informará as funções dela.\n",
    "Para usarmos as funções diponíveis devemos digitar *< biblioteca >.< função >*.\n",
    "\n",
    "Para vermos bibliotecas disponíveis digitamos *import* e segurando ctrl apertando espaço."
   ]
  },
  {
   "cell_type": "markdown",
   "metadata": {},
   "source": [
    "#### 3.3.1: Biblioteca *math* ####\n",
    "\n",
    "Algumas funções da biblioteca *math*:\n",
    "\n",
    "ceil: arredonda um número pra cima\n",
    "\n",
    "floor: arredonda um número pra baixo\n",
    "\n",
    "trunc: elimina casas decimais\n",
    "\n",
    "pow: potência\n",
    "\n",
    "sqrt: raiz quadrada\n",
    "\n",
    "factorial: cálculo de fatorial"
   ]
  },
  {
   "cell_type": "code",
   "execution_count": 21,
   "metadata": {},
   "outputs": [
    {
     "name": "stdout",
     "output_type": "stream",
     "text": [
      "n = 5\n",
      "r=sqrt(5) = 2.23606797749979\n"
     ]
    }
   ],
   "source": [
    "import math\n",
    "\n",
    "n1=int(input('n = '))\n",
    "r=math.sqrt(n1)\n",
    "print('r=sqrt({}) = {}'.format(n1, r))"
   ]
  },
  {
   "cell_type": "code",
   "execution_count": 20,
   "metadata": {},
   "outputs": [
    {
     "name": "stdout",
     "output_type": "stream",
     "text": [
      "n = 9\n",
      "r=sqrt(9) = 3.0\n"
     ]
    }
   ],
   "source": [
    "#podemos reescrever o programa acima da seguinte maneira\n",
    "\n",
    "from math import sqrt\n",
    "\n",
    "n1=int(input('n = '))\n",
    "r=sqrt(n1)\n",
    "print('r=sqrt({}) = {}'.format(n1, r))\n",
    "\n",
    "#note que especificando a função a ser utilizada da biblioteca math, podemos usar ela direto"
   ]
  },
  {
   "cell_type": "code",
   "execution_count": 23,
   "metadata": {},
   "outputs": [
    {
     "name": "stdout",
     "output_type": "stream",
     "text": [
      "ceil(r)=3; floor(r)=2; trunc(r)=2\n"
     ]
    }
   ],
   "source": [
    "print('ceil(r)={}; floor(r)={}; trunc(r)={}'.format(math.ceil(r), math.floor(r), math.trunc(r)))"
   ]
  },
  {
   "cell_type": "markdown",
   "metadata": {},
   "source": [
    "#### 3.3.2: Obtendo bibliotecas extras ####\n",
    "\n",
    "Como obter bibliotecas que não venham acompanhadas do python? Acessando o site do Python!\n",
    "\n",
    "Lá há uma série de bibliotecas e as funcionalidades de suas funções. Há também um espaço \"PyPi\", onde estão disponibilizadas bibliotecas criadas por outras pessoas.\n",
    "\n",
    "No PyCharm:\n",
    "Para instalá-las basta digitar \"import <biblioteca>\" e clicar na lampadinha vermelha que aparecer."
   ]
  },
  {
   "cell_type": "markdown",
   "metadata": {},
   "source": [
    "### 3.4:  Operadores relacionais ###"
   ]
  },
  {
   "cell_type": "markdown",
   "metadata": {},
   "source": [
    "Expressões relacionais são aquelas que realizam uma comparação entre duas expressões e retornam se é o resultado é verdadeiro ou falso.\n",
    "\n",
    "Em Python, alguns dos operadores relacionais que temos são:\n",
    "\n",
    "$==$: verifica igualdade;\n",
    "\n",
    "$!=$: verifica diferença;\n",
    "\n",
    "$>$: verifica se um número é maior que o outro;\n",
    "\n",
    "$<$: verifica se um número é menor que o outro;\n",
    "\n",
    "$>=$: verifica se um número é maior ou igual que o outro;\n",
    "\n",
    "$<=$: verifica se um número é menor ou igual que o outro.\n",
    "\n",
    "*obs.: lembrar que um sinal apenas de igual atribui um valor a uma variável!*\n",
    "\n",
    "A saída de uma comparação é sempre True ou False"
   ]
  },
  {
   "cell_type": "code",
   "execution_count": 28,
   "metadata": {},
   "outputs": [
    {
     "name": "stdout",
     "output_type": "stream",
     "text": [
      "8<9 = True\n",
      "8>9 =  False\n",
      "8!=9 =  True\n",
      "8==9 =  False\n",
      "8>=9 =  False\n",
      "8<=9 =  True\n"
     ]
    }
   ],
   "source": [
    "print('8<9 =',8<9)\n",
    "print('8>9 = ', 8>9)\n",
    "print('8!=9 = ', 8!=9)\n",
    "print('8==9 = ', 8==9)\n",
    "print('8>=9 = ', 8>=9)\n",
    "print('8<=9 = ', 8<=9)"
   ]
  },
  {
   "cell_type": "markdown",
   "metadata": {},
   "source": [
    "### 3.4:  Operadores relacionais ###"
   ]
  },
  {
   "cell_type": "markdown",
   "metadata": {},
   "source": [
    "Expressões lógicas são aquelas que realizam uma operação lógica (ou, e, não, etc.) e também retornam verdadeiro ou falso.\n",
    "\n",
    "Em Python são operadores lógicos:\n",
    "\n",
    "$and$: operador E\n",
    "\n",
    "$or$: operador OU\n",
    "\n",
    "$not$: operador NÃO\n",
    "\n",
    "sobre o *not*: ele retorna verdadeiro se a expressão é falsa e falso se é verdadeira."
   ]
  },
  {
   "cell_type": "code",
   "execution_count": 32,
   "metadata": {},
   "outputs": [
    {
     "name": "stdout",
     "output_type": "stream",
     "text": [
      "a=0 e b=0\n",
      "\n",
      "a==0 and b==0? True\n",
      "a==1 or b==0?  True\n",
      "a==1 and b==2?  False\n",
      "not(a!=b)?  True\n",
      "not(a==b)?  False\n"
     ]
    }
   ],
   "source": [
    "a=0\n",
    "b=0\n",
    "print('a=0 e b=0')\n",
    "\n",
    "print('\\na==0 and b==0?', a==0 and b==0)\n",
    "print('a==1 or b==0? ', a==1 or b==0)\n",
    "print('a==1 and b==2? ', a==1 or b==2)\n",
    "print('not(a!=b)? ', not(a!=b))\n",
    "print('not(a==b)? ', not(a==b))"
   ]
  }
 ],
 "metadata": {
  "kernelspec": {
   "display_name": "Python 3",
   "language": "python",
   "name": "python3"
  },
  "language_info": {
   "codemirror_mode": {
    "name": "ipython",
    "version": 3
   },
   "file_extension": ".py",
   "mimetype": "text/x-python",
   "name": "python",
   "nbconvert_exporter": "python",
   "pygments_lexer": "ipython3",
   "version": "3.7.2"
  }
 },
 "nbformat": 4,
 "nbformat_minor": 2
}
