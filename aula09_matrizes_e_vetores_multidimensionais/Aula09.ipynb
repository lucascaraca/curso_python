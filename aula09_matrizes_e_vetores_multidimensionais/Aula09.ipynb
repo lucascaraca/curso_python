{
 "cells": [
  {
   "cell_type": "markdown",
   "metadata": {},
   "source": [
    "# Aula 09 #"
   ]
  },
  {
   "cell_type": "markdown",
   "metadata": {},
   "source": [
    "### 9.1: Matrizes e Vetores Multidimensionais ###"
   ]
  },
  {
   "cell_type": "markdown",
   "metadata": {},
   "source": [
    "#### 9.1.1: Definição ####"
   ]
  },
  {
   "cell_type": "markdown",
   "metadata": {},
   "source": [
    "Matrizes e vetores multidimensionais são generalizações dos vetores vistos anteriormente. Através delas é possível associar dois ou mais tipos de dados em uma mesma variável. Podemos, por exemplo, criar uma matriz que associa os alunos e suas respectivas notas."
   ]
  },
  {
   "cell_type": "code",
   "execution_count": null,
   "metadata": {},
   "outputs": [],
   "source": [
    "#EXEMPLO 9.1: Declarando e imprimindo uma matriz através de listas\n",
    "\n",
    "mat = [[] for i in range(3) ] #dentro de uma lista vazia cria-se 3listas vazias internas\n",
    "print(mat)\n"
   ]
  },
  {
   "cell_type": "code",
   "execution_count": null,
   "metadata": {},
   "outputs": [],
   "source": [
    "#EXEMPLO 9.2: Criar uma matriz 3x4 onde cada posição (i, j) contém o valor i*j\n",
    "\n",
    "mat=[]\n",
    "\n",
    "for i in range(3):\n",
    "    l=[]\n",
    "    for j in range(4):\n",
    "        l.append(i*j)\n",
    "    mat.append(l)\n",
    "print(mat)"
   ]
  },
  {
   "cell_type": "code",
   "execution_count": null,
   "metadata": {},
   "outputs": [],
   "source": [
    "#EXEMPLO 9.3: Fazer o mesmo do exemplo 9.2 utilizando a forma do exemplo 9.1\n",
    "\n",
    "mat=[[i*j for j in range(4)] for i in range(3)]\n",
    "print(mat)"
   ]
  },
  {
   "cell_type": "markdown",
   "metadata": {},
   "source": [
    "#### 9.1.2: Acessando os dados de uma matriz ####"
   ]
  },
  {
   "cell_type": "markdown",
   "metadata": {},
   "source": [
    "Para acessar um dado da matriz, digitamos da seguinte maneira:\n",
    "\n",
    "< nome_da_matriz >[< indíce_linha >][< indíce_coluna >]"
   ]
  },
  {
   "cell_type": "code",
   "execution_count": null,
   "metadata": {},
   "outputs": [],
   "source": [
    "#EXEMPLO 9.4: acessando um dado de uma matriz e o alterando\n",
    "\n",
    "mat=[[0 for i in range(7)]for i in range(8)] #cria uma matriz nula 6x7\n",
    "print('mat = ', mat)\n",
    "\n",
    "mat[5][6]=1\n",
    "print('matAlterada = ', mat)"
   ]
  },
  {
   "cell_type": "code",
   "execution_count": null,
   "metadata": {},
   "outputs": [],
   "source": [
    "#EXEMPLO 9.5: trabalhando com dados de uma matriz\n",
    "\n",
    "mat=[[i*j for j in range(4)]for i in range(4)]\n",
    "print('mat = ', mat)\n",
    "print('mat[2][3] = ', mat[2][3])\n",
    "mat[2][3]=0\n",
    "print('matAlt = ', mat)\n",
    "print('mat[2][3]Alt = ', mat[2][3])"
   ]
  },
  {
   "cell_type": "markdown",
   "metadata": {},
   "source": [
    "#### 9.1.3: Declarando Vetores Multidimentsionais ####"
   ]
  },
  {
   "cell_type": "markdown",
   "metadata": {},
   "source": [
    "Podemos criar matrizes com dimensões d1xd2xd3x...xdn. Para isso escrevemos\n",
    "\n",
    "[[...[[]for i(n-1) in range(d(n-1))]...] for i(2) in range(d(2)]for i(1) in range(d(1))]"
   ]
  },
  {
   "cell_type": "code",
   "execution_count": null,
   "metadata": {},
   "outputs": [],
   "source": [
    "#EXEMPLO 9.6: Matriz 3x4x5 com zeros\n",
    "\n",
    "mat=[[[0 for k in range(5)] for j in range(4) ] for i in range(3)]\n",
    "print(mat)"
   ]
  },
  {
   "cell_type": "code",
   "execution_count": 1,
   "metadata": {},
   "outputs": [
    {
     "name": "stdout",
     "output_type": "stream",
     "text": [
      "Dim(M1): 2\n",
      "Digite os valores dos elementos da matriz\n",
      "Mat[1][1]=1\n",
      "Mat[1][2]=2\n",
      "Mat[2][1]=3\n",
      "Mat[2][2]=4\n",
      "1.0 2.0 \n",
      "3.0 4.0 \n",
      "2\n"
     ]
    }
   ],
   "source": [
    "#EXEMPLO 9.7: Fazer um programa que leia uma matriz nxn e imprima\n",
    "\n",
    "n=int(input(\"Dim(M1): \"))\n",
    "mat=[[]for i in range(n)] #cria uma matriz n linhas com vetores vazios\n",
    "print('Digite os valores dos elementos da matriz')\n",
    "\n",
    "#Leitura dos dados da matriz\n",
    "for i in range(n):\n",
    "    for j in range(n):\n",
    "        aux=float(input('Mat[{}][{}]='.format(i+1, j+1)))\n",
    "        mat[i].append(aux)\n",
    "\n",
    "#Impressão da matriz linha por linha\n",
    "for i in range(n):\n",
    "    for j in range(n):\n",
    "        print(mat[i][j], end=' ')\n",
    "    print()\n",
    "    \n",
    "print(len(mat))\n"
   ]
  },
  {
   "cell_type": "code",
   "execution_count": 10,
   "metadata": {},
   "outputs": [
    {
     "name": "stdout",
     "output_type": "stream",
     "text": [
      "Dim(Mi): 2\n",
      "Digite os valores dos elementos da matriz1\n",
      "\n",
      "Matriz 1\n",
      "Mat1[1][1]=1\n",
      "Mat1[1][2]=2\n",
      "Mat1[2][1]=3\n",
      "Mat1[2][2]=4\n",
      "\n",
      "Matriz 2\n",
      "Mat2[1][1]=1\n",
      "Mat2[1][2]=2\n",
      "Mat2[2][1]=3\n",
      "Mat2[2][2]=4\n",
      "\n",
      "Matriz 3\n",
      "2.0 4.0 \n",
      "6.0 8.0 \n"
     ]
    }
   ],
   "source": [
    "#EXEMPLO 9.8: Soma de duas Matrizes\n",
    "\n",
    "#Leitura da dimensão das matrizes quadradas\n",
    "n=int(input(\"Dim(Mi): \"))\n",
    "\n",
    "#Criação das matrizes\n",
    "mat1=[[]for i in range(n)] #cria uma matriz n linhas com vetores vazios\n",
    "mat2=[[]for i in range(n)]\n",
    "mat3=[[0 for j in range(n)]for i in range(n)] #Matriz inicialmente nula\n",
    "print('Digite os valores dos elementos da matriz1')\n",
    "\n",
    "print()\n",
    "print('Matriz 1')\n",
    "#Leitura dos dados da matriz 1\n",
    "for i in range(n):\n",
    "    for j in range(n):\n",
    "        aux=float(input('Mat1[{}][{}]='.format(i+1, j+1)))\n",
    "        mat1[i].append(aux)\n",
    "\n",
    "print()\n",
    "print('Matriz 2')\n",
    "#Leitura dos dados da matriz 2\n",
    "for i in range(n):\n",
    "    for j in range(n):\n",
    "        aux=float(input('Mat2[{}][{}]='.format(i+1, j+1)))\n",
    "        mat2[i].append(aux)\n",
    "\n",
    "#calculando a soma das matrizes\n",
    "for i in range(n):\n",
    "    for j in range(n):\n",
    "        mat3[i][j]=mat1[i][j]+mat2[i][j]\n",
    "\n",
    "print()\n",
    "print('Matriz 3')\n",
    "#Impressão da matriz linha por linha\n",
    "for i in range(n):\n",
    "    for j in range(n):\n",
    "        print(mat3[i][j], end=' ')\n",
    "    print()"
   ]
  },
  {
   "cell_type": "code",
   "execution_count": 11,
   "metadata": {},
   "outputs": [
    {
     "name": "stdout",
     "output_type": "stream",
     "text": [
      "Dim(Mi): 2\n",
      "Digite os valores dos elementos da matriz1\n",
      "\n",
      "Matriz 1\n",
      "Mat1[1][1]=1\n",
      "Mat1[1][2]=1\n",
      "Mat1[2][1]=1\n",
      "Mat1[2][2]=1\n",
      "\n",
      "Matriz 2\n",
      "Mat2[1][1]=1\n",
      "Mat2[1][2]=1\n",
      "Mat2[2][1]=1\n",
      "Mat2[2][2]=1\n",
      "\n",
      "Matriz 3\n",
      "2.0 2.0 \n",
      "2.0 2.0 \n"
     ]
    }
   ],
   "source": [
    "#EXEMPLO 9.9: Multiplicação de duas matrizes\n",
    "\n",
    "#Leitura da dimensão das matrizes quadradas\n",
    "n=int(input(\"Dim(Mi): \"))\n",
    "\n",
    "#Criação das matrizes\n",
    "mat1=[[]for i in range(n)] #cria uma matriz n linhas com vetores vazios\n",
    "mat2=[[]for i in range(n)]\n",
    "mat3=[[0 for j in range(n)]for i in range(n)] #Matriz inicialmente nula\n",
    "print('Digite os valores dos elementos da matriz1')\n",
    "\n",
    "print()\n",
    "print('Matriz 1')\n",
    "#Leitura dos dados da matriz 1\n",
    "for i in range(n):\n",
    "    for j in range(n):\n",
    "        aux=float(input('Mat1[{}][{}]='.format(i+1, j+1)))\n",
    "        mat1[i].append(aux)\n",
    "\n",
    "print()\n",
    "print('Matriz 2')\n",
    "#Leitura dos dados da matriz 2\n",
    "for i in range(n):\n",
    "    for j in range(n):\n",
    "        aux=float(input('Mat2[{}][{}]='.format(i+1, j+1)))\n",
    "        mat2[i].append(aux)\n",
    "\n",
    "\n",
    "#Calculando o produto das duas matrizes\n",
    "for i in range(n):\n",
    "    for j in range(n):\n",
    "        for k in range(n):\n",
    "            mat3[i][j]=mat3[i][j] + (mat1[i][k]*mat2[k][j])\n",
    "\n",
    "print()\n",
    "print('Matriz 3')\n",
    "#Impressão da matriz linha por linha\n",
    "for i in range(n):\n",
    "    for j in range(n):\n",
    "        print(mat3[i][j], end=' ')\n",
    "    print()"
   ]
  },
  {
   "cell_type": "code",
   "execution_count": 14,
   "metadata": {},
   "outputs": [
    {
     "name": "stdout",
     "output_type": "stream",
     "text": [
      "Dim(Mi): 2\n",
      "\n",
      "Matriz 1\n",
      "Mat1[1][1]=1\n",
      "Mat1[1][2]=2\n",
      "Mat1[2][1]=3\n",
      "Mat1[2][2]=4\n",
      "\n",
      "Matriz 1\n",
      "1.0 2.0 \n",
      "3.0 4.0 \n",
      "\n",
      "Matriz Tranposta\n",
      "1.0 3.0 \n",
      "2.0 4.0 \n"
     ]
    }
   ],
   "source": [
    "#EXEMPLO 9.10: Transposta de uma matriz\n",
    "\n",
    "#Leitura da dimensão das matrizes quadradas\n",
    "n=int(input(\"Dim(Mi): \"))\n",
    "\n",
    "#Criação das matrizes\n",
    "mat1=[[]for i in range(n)] \n",
    "matT=[[0 for j in range(n)]for i in range(n)]\n",
    "print()\n",
    "print('Matriz 1')\n",
    "\n",
    "#Leitura dos dados da matriz 1\n",
    "for i in range(n):\n",
    "    for j in range(n):\n",
    "        aux=float(input('Mat1[{}][{}]='.format(i+1, j+1)))\n",
    "        mat1[i].append(aux)\n",
    "\n",
    "#Matriz transposta        \n",
    "for i in range(n):\n",
    "    for j in range(n):\n",
    "        matT[i][j]=mat1[j][i]\n",
    "\n",
    "print()\n",
    "print('Matriz 1')\n",
    "#Impressão da matriz linha por linha\n",
    "for i in range(n):\n",
    "    for j in range(n):\n",
    "        print(mat1[i][j], end=' ')\n",
    "    print()\n",
    "        \n",
    "print()\n",
    "print('Matriz Tranposta')\n",
    "#Impressão da matriz linha por linha\n",
    "for i in range(n):\n",
    "    for j in range(n):\n",
    "        print(matT[i][j], end=' ')\n",
    "    print()"
   ]
  },
  {
   "cell_type": "markdown",
   "metadata": {},
   "source": [
    "### 9.2: NumPy ###"
   ]
  },
  {
   "cell_type": "markdown",
   "metadata": {},
   "source": [
    "NumPy é uma biblioteca muito útil para aplicações científicas, já que ela possuí uma série de funções que facilitam o tratamento de vetores, matrizes, operações de algebra linear, dentre outras coisas.\n",
    "\n",
    "Para instalar essa biblioteca acessamos: http://www.numpy.org/\n",
    "\n",
    "O objeto mais simples da biblioteca é o array, que serve para criar vetores homogêneos multi-dimensionais."
   ]
  },
  {
   "cell_type": "code",
   "execution_count": 2,
   "metadata": {},
   "outputs": [
    {
     "name": "stdout",
     "output_type": "stream",
     "text": [
      "a= [1 2 3]\n",
      "dim(a)= 1\n",
      "tam(a)= 3\n"
     ]
    }
   ],
   "source": [
    "#EXEMPLO 9.11: Criando um array de 1D a partir de uma lista\n",
    "\n",
    "import numpy as np #importa a biblioteca numpy e usa 'np' como nome para chamar\n",
    "\n",
    "a=np.array([1, 2, 3])\n",
    "print('a=', a)\n",
    "print('dim(a)=', a.ndim)\n",
    "print('tam(a)=', a.size)"
   ]
  },
  {
   "cell_type": "code",
   "execution_count": 5,
   "metadata": {},
   "outputs": [
    {
     "name": "stdout",
     "output_type": "stream",
     "text": [
      "a= [[1 2 3]\n",
      " [4 5 6]]\n",
      "dim(a)= 2\n",
      "tam(a)= 6\n"
     ]
    }
   ],
   "source": [
    "#EXEMPLO 9.12: Criando um array a com dim(a)>1 a partir de listas\n",
    "a=np.array([[1, 2, 3], [4, 5, 6]])\n",
    "print('a=', a)\n",
    "print('dim(a)=', a.ndim)\n",
    "print('tam(a)=', a.size)"
   ]
  },
  {
   "cell_type": "code",
   "execution_count": 8,
   "metadata": {},
   "outputs": [
    {
     "name": "stdout",
     "output_type": "stream",
     "text": [
      "a=np.arrange(10):\n",
      " [0 1 2 3 4 5 6 7 8 9]\n",
      "a.reshape(2,5):\n",
      " [[0 1 2 3 4]\n",
      " [5 6 7 8 9]]\n"
     ]
    }
   ],
   "source": [
    "#EXEMPLO 9.13: Utilizando outras funções para criar arrays\n",
    "\n",
    "a=np.arange(10) #cria um array de dim(a)=1 e tam(a)=10\n",
    "print('a=np.arrange(10):\\n',a)\n",
    "a=a.reshape(2,5) #rearranja o array a em um 2x5\n",
    "print('a.reshape(2,5):\\n',a)"
   ]
  },
  {
   "cell_type": "code",
   "execution_count": 9,
   "metadata": {},
   "outputs": [
    {
     "name": "stdout",
     "output_type": "stream",
     "text": [
      "a=np.zeros(3):\n",
      " [0. 0. 0.]\n",
      "a=np.zeros((3,4)):\n",
      " [[0. 0. 0. 0.]\n",
      " [0. 0. 0. 0.]\n",
      " [0. 0. 0. 0.]]\n",
      "a=np.ones((2,5)):\n",
      " [[1. 1. 1. 1. 1.]\n",
      " [1. 1. 1. 1. 1.]]\n"
     ]
    }
   ],
   "source": [
    "#EXEMPLO 9.14: Criando um array contendo apenas zeros ou uns\n",
    "\n",
    "a=np.zeros(3)\n",
    "print('a=np.zeros(3):\\n',a)\n",
    "\n",
    "a=np.zeros((3,4))\n",
    "print('a=np.zeros((3,4)):\\n',a)\n",
    "\n",
    "a=np.ones((2,5))\n",
    "print('a=np.ones((2,5)):\\n',a)"
   ]
  },
  {
   "cell_type": "code",
   "execution_count": 13,
   "metadata": {},
   "outputs": [
    {
     "name": "stdout",
     "output_type": "stream",
     "text": [
      "a=np.ones((2,3)):\n",
      " [[1. 1. 1.]\n",
      " [1. 1. 1.]]\n",
      "\n",
      "a=a+1:\n",
      " [[2. 2. 2.]\n",
      " [2. 2. 2.]]\n",
      "\n",
      "a=4*a:\n",
      " [[8. 8. 8.]\n",
      " [8. 8. 8.]]\n",
      "\n",
      "a**3:\n",
      " [[512. 512. 512.]\n",
      " [512. 512. 512.]]\n"
     ]
    }
   ],
   "source": [
    "#EXEMPLO 9.15: Operadores em arrays\n",
    "\n",
    "a=np.ones((2,3))\n",
    "print('a=np.ones((2,3)):\\n', a)\n",
    "print()\n",
    "a=a+1 #soma 1 a cada elemento de a\n",
    "print('a=a+1:\\n',a)\n",
    "print()\n",
    "a=4*a #multplica por 4 todos os elemetnos de a\n",
    "print('a=4*a:\\n',a)\n",
    "print()\n",
    "a=a**3 #eleva ao cubo todos os elementos de a\n",
    "print('a**3:\\n',a)"
   ]
  },
  {
   "cell_type": "code",
   "execution_count": 18,
   "metadata": {},
   "outputs": [
    {
     "name": "stdout",
     "output_type": "stream",
     "text": [
      "a:\n",
      " [[0 1 2]\n",
      " [3 4 5]\n",
      " [6 7 8]]\n",
      "b:\n",
      " [[2, 2, 2], [2, 2, 2], [2, 2, 2]]\n",
      "axb:\n",
      " [[ 6  6  6]\n",
      " [24 24 24]\n",
      " [42 42 42]]\n",
      "bxa:\n",
      " [[18 24 30]\n",
      " [18 24 30]\n",
      " [18 24 30]]\n"
     ]
    }
   ],
   "source": [
    "#EXEMPLO 9.16: Multiplicação de matrizes\n",
    "\n",
    "a=np.arange(9).reshape(3,3)\n",
    "b=([[2,2,2], [2,2,2], [2,2,2]])\n",
    "\n",
    "print('a:\\n',a)\n",
    "print('b:\\n',b)\n",
    "\n",
    "print('axb:\\n',np.dot(a,b)) #dot(a,b) calcula AXB\n",
    "print('bxa:\\n',np.dot(b,a))"
   ]
  },
  {
   "cell_type": "code",
   "execution_count": 22,
   "metadata": {},
   "outputs": [
    {
     "name": "stdout",
     "output_type": "stream",
     "text": [
      "a:\n",
      " [[1 2 3]\n",
      " [0 1 4]\n",
      " [0 0 1]]\n",
      "\n",
      "inv(a):\n",
      " [[ 1. -2.  5.]\n",
      " [ 0.  1. -4.]\n",
      " [ 0.  0.  1.]]\n"
     ]
    }
   ],
   "source": [
    "#EXEMPLO 9.17: Matriz inversa\n",
    "import numpy.linalg as npl  #o pacote numpy.linalg possui diversas funções de algeLin\n",
    "\n",
    "\n",
    "a=np.array([[1, 2, 3], [0, 1, 4], [0, 0, 1]])\n",
    "print('a:\\n', a)\n",
    "print()\n",
    "a=npl.inv(a) #calcula a inversa de a\n",
    "print('inv(a):\\n', a)\n"
   ]
  }
 ],
 "metadata": {
  "kernelspec": {
   "display_name": "Python 3",
   "language": "python",
   "name": "python3"
  },
  "language_info": {
   "codemirror_mode": {
    "name": "ipython",
    "version": 3
   },
   "file_extension": ".py",
   "mimetype": "text/x-python",
   "name": "python",
   "nbconvert_exporter": "python",
   "pygments_lexer": "ipython3",
   "version": "3.7.2"
  }
 },
 "nbformat": 4,
 "nbformat_minor": 2
}
