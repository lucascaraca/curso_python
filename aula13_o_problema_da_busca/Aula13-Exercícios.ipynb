{
 "cells": [
  {
   "cell_type": "code",
   "execution_count": 1,
   "metadata": {},
   "outputs": [
    {
     "data": {
      "text/plain": [
       "'034.: Refa¸ca as funções de busca sequencial e busca binária assumindo que\\na lista possui chaves que podem aparecer repetidas. Neste caso, você\\ndeve retornar uma lista com todas as posições onde a chave foi\\nencontrada. Se a chave só aparece uma vez, a lista conterá apenas\\num´ındice. Se a chave não aparece, as funções devem retornar a lista\\nvazia.'"
      ]
     },
     "execution_count": 1,
     "metadata": {},
     "output_type": "execute_result"
    }
   ],
   "source": [
    "'''034.: Refa¸ca as funções de busca sequencial e busca binária assumindo que\n",
    "a lista possui chaves que podem aparecer repetidas. Neste caso, você\n",
    "deve retornar uma lista com todas as posições onde a chave foi\n",
    "encontrada. Se a chave só aparece uma vez, a lista conterá apenas\n",
    "um´ındice. Se a chave não aparece, as funções devem retornar a lista\n",
    "vazia.'''"
   ]
  },
  {
   "cell_type": "code",
   "execution_count": 2,
   "metadata": {},
   "outputs": [
    {
     "name": "stdout",
     "output_type": "stream",
     "text": [
      "lista= [20, 5, 15, 24, 67, 45, 1, 76, 24, 24]\n",
      "buscaSeq(lista, 24)= [3, 8, 9]\n",
      "buscaSeq(lista, 100)= []\n"
     ]
    }
   ],
   "source": [
    "#A) Busca Sequencial\n",
    "\n",
    "#########################################################\n",
    "def main():\n",
    "    lista=[20, 5, 15, 24, 67, 45, 1, 76, 24, 24]\n",
    "    print('lista=', lista)\n",
    "    print('buscaSeq(lista, 24)=', buscaSeq(lista, 24))\n",
    "    print('buscaSeq(lista, 100)=', buscaSeq(lista, 100))\n",
    "    \n",
    "#########################################################\n",
    "def buscaSeq(vet, chave):\n",
    "    l=[]\n",
    "    for i in range(len(vet)):\n",
    "        if vet[i]==chave:\n",
    "            l.append(i)      \n",
    "    return l\n",
    "\n",
    "#########################################################\n",
    "main()"
   ]
  },
  {
   "cell_type": "code",
   "execution_count": 6,
   "metadata": {},
   "outputs": [
    {
     "name": "stdout",
     "output_type": "stream",
     "text": [
      "Criação\n",
      "lista= [20, 5, 15, 24, 67, 45, 1, 76]\n",
      "\n",
      "Ordenação\n",
      "listaOrdenada= None\n",
      "listaOrdenda= [1, 5, 15, 20, 24, 45, 67, 76]\n",
      "\n",
      "Busca\n",
      "buscaBin(lista, 24)= [4]\n",
      "buscaBin(lista, 25)= []\n"
     ]
    }
   ],
   "source": [
    "#B) Busca Binária\n",
    "\n",
    "###############################################################\n",
    "def main():\n",
    "    \n",
    "    #Criação\n",
    "    print('Criação')\n",
    "    lista=[20, 5, 15, 24, 67, 45, 1, 76]\n",
    "    print('lista=', lista) \n",
    "    \n",
    "    #Ordenação\n",
    "    print()\n",
    "    print('Ordenação')\n",
    "    print('listaOrdenada=', insertionSort(lista))\n",
    "    insertionSort(lista)\n",
    "    print('listaOrdenda=', lista)\n",
    "    \n",
    "    #Busca\n",
    "    print()\n",
    "    print('Busca')\n",
    "    print('buscaBin(lista, 24)=', buscaBin(lista, 24))\n",
    "    print('buscaBin(lista, 25)=', buscaBin(lista, 25))\n",
    "    \n",
    "###############################################################\n",
    "def buscaBin(vet, chave):\n",
    "    ini=0\n",
    "    fim=len(vet)-1\n",
    "    l=[]\n",
    "    \n",
    "    while ini<=fim:\n",
    "        meio=(ini+fim)//2\n",
    "        \n",
    "        if vet[meio]==chave:\n",
    "            l.append(meio)\n",
    "            if vet[meio+1]>chave:\n",
    "                fim=meio - 1\n",
    "            elif vet[meio+1]<chave\n",
    "        \n",
    "        elif vet[meio]>chave:\n",
    "            fim=meio-1\n",
    "            \n",
    "        else:\n",
    "            ini=meio+1\n",
    "            \n",
    "    return l\n",
    "\n",
    "###############################################################\n",
    "def insertionSort(vet):\n",
    "    \n",
    "    for i in range(1, len(vet)):\n",
    "        aux=vet[i]\n",
    "        j=i-1\n",
    "        while(j>=0 and vet[j]>aux):\n",
    "            vet[j+1]=vet[j]\n",
    "            j=j-1\n",
    "            \n",
    "        vet[j+1]=aux\n",
    "\n",
    "###############################################################\n",
    "main()"
   ]
  },
  {
   "cell_type": "code",
   "execution_count": null,
   "metadata": {},
   "outputs": [],
   "source": []
  }
 ],
 "metadata": {
  "kernelspec": {
   "display_name": "Python 3",
   "language": "python",
   "name": "python3"
  },
  "language_info": {
   "codemirror_mode": {
    "name": "ipython",
    "version": 3
   },
   "file_extension": ".py",
   "mimetype": "text/x-python",
   "name": "python",
   "nbconvert_exporter": "python",
   "pygments_lexer": "ipython3",
   "version": "3.7.2"
  }
 },
 "nbformat": 4,
 "nbformat_minor": 2
}
