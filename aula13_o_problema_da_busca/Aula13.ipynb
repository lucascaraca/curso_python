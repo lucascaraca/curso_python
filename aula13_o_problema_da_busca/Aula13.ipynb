{
 "cells": [
  {
   "cell_type": "markdown",
   "metadata": {},
   "source": [
    "# Aula 13: O Problema da Busca #"
   ]
  },
  {
   "cell_type": "markdown",
   "metadata": {},
   "source": [
    "### 13.1: Explicando o problema ###"
   ]
  },
  {
   "cell_type": "markdown",
   "metadata": {},
   "source": [
    "Imagine que temos uma coleção de elementos, onde cada elemento possui um identificador/chave único (como uma coleção de alunos que possuem um RA cada). É interessante conseguirmos buscar um dos elementos através de uma função que busque através de sua chave única.\n",
    "\n",
    "É aqui que surge o que desejamos resolver: vamos criar uma função que receba uma lista e uma chave, onde ela deve retornar a posição do elemento correspondente a chave ou -1 caso a chave não esteja na lista.\n",
    "\n",
    "Na função criada assumiremos que as listas são de números inteiros e que o valor da chave será o próprio número"
   ]
  },
  {
   "cell_type": "code",
   "execution_count": 1,
   "metadata": {},
   "outputs": [
    {
     "name": "stdout",
     "output_type": "stream",
     "text": [
      "lista= [20, 5, 15, 24, 67, 45, 1, 76]\n",
      "O Python já possui uma função retorna a posição do elemento buscado.\n",
      "lista.index(24)= 3\n",
      "No entanto ela não funciona para elementos que não estão na lista.\n"
     ]
    },
    {
     "ename": "ValueError",
     "evalue": "100 is not in list",
     "output_type": "error",
     "traceback": [
      "\u001b[1;31m---------------------------------------------------------------------------\u001b[0m",
      "\u001b[1;31mValueError\u001b[0m                                Traceback (most recent call last)",
      "\u001b[1;32m<ipython-input-1-a3f46de2dbb7>\u001b[0m in \u001b[0;36m<module>\u001b[1;34m\u001b[0m\n\u001b[0;32m      6\u001b[0m \u001b[0mprint\u001b[0m\u001b[1;33m(\u001b[0m\u001b[1;34m'lista.index(24)='\u001b[0m\u001b[1;33m,\u001b[0m \u001b[0mlista\u001b[0m\u001b[1;33m.\u001b[0m\u001b[0mindex\u001b[0m\u001b[1;33m(\u001b[0m\u001b[1;36m24\u001b[0m\u001b[1;33m)\u001b[0m\u001b[1;33m)\u001b[0m\u001b[1;33m\u001b[0m\u001b[1;33m\u001b[0m\u001b[0m\n\u001b[0;32m      7\u001b[0m \u001b[0mprint\u001b[0m\u001b[1;33m(\u001b[0m\u001b[1;34m'No entanto ela não funciona para elementos que não estão na lista.'\u001b[0m\u001b[1;33m)\u001b[0m\u001b[1;33m\u001b[0m\u001b[1;33m\u001b[0m\u001b[0m\n\u001b[1;32m----> 8\u001b[1;33m \u001b[0mprint\u001b[0m\u001b[1;33m(\u001b[0m\u001b[1;34m'lista.index(100)='\u001b[0m\u001b[1;33m,\u001b[0m \u001b[0mlista\u001b[0m\u001b[1;33m.\u001b[0m\u001b[0mindex\u001b[0m\u001b[1;33m(\u001b[0m\u001b[1;36m100\u001b[0m\u001b[1;33m)\u001b[0m\u001b[1;33m)\u001b[0m\u001b[1;33m\u001b[0m\u001b[1;33m\u001b[0m\u001b[0m\n\u001b[0m",
      "\u001b[1;31mValueError\u001b[0m: 100 is not in list"
     ]
    }
   ],
   "source": [
    "#EXEMPLO 13.1: Usando uma função pronta do Python\n",
    "\n",
    "lista=[20, 5, 15, 24, 67, 45, 1, 76]\n",
    "print('lista=', lista)\n",
    "print('O Python já possui uma função retorna a posição do elemento buscado.')\n",
    "print('lista.index(24)=', lista.index(24))\n",
    "print('No entanto ela não funciona para elementos que não estão na lista.')\n",
    "print('lista.index(100)=', lista.index(100))"
   ]
  },
  {
   "cell_type": "markdown",
   "metadata": {},
   "source": [
    "#### 13.1.1 Busca Sequencial ####"
   ]
  },
  {
   "cell_type": "markdown",
   "metadata": {},
   "source": [
    "A busca sequencial consiste em percorrer toda a lista e comparar a chave com o valor de cada posição. Caso for igual para alguma posição, ela retorna esse valor. Caso contrário, retorna -1."
   ]
  },
  {
   "cell_type": "code",
   "execution_count": 2,
   "metadata": {},
   "outputs": [],
   "source": [
    "def buscaSeq(vet, chave):\n",
    "    for i in range(len(vet)):\n",
    "        if vet[i]==chave:\n",
    "            return i\n",
    "        \n",
    "    return -1"
   ]
  },
  {
   "cell_type": "code",
   "execution_count": 4,
   "metadata": {},
   "outputs": [
    {
     "name": "stdout",
     "output_type": "stream",
     "text": [
      "lista= [20, 5, 15, 24, 67, 45, 1, 76]\n",
      "buscaSeq(lista, 24)= 3\n",
      "buscaSeq(lista, 100)= -1\n"
     ]
    }
   ],
   "source": [
    "#EXEMPLO 13.2: Usando a função busca Seq\n",
    "\n",
    "def main():\n",
    "    lista=[20, 5, 15, 24, 67, 45, 1, 76]\n",
    "    print('lista=', lista)\n",
    "    print('buscaSeq(lista, 24)=', buscaSeq(lista, 24))\n",
    "    print('buscaSeq(lista, 100)=', buscaSeq(lista, 100))\n",
    "\n",
    "def buscaSeq(vet, chave):\n",
    "    for i in range(len(vet)):\n",
    "        if vet[i]==chave:\n",
    "            return i\n",
    "        \n",
    "    return -1\n",
    "\n",
    "main()"
   ]
  },
  {
   "cell_type": "markdown",
   "metadata": {},
   "source": [
    "#### 13.1.2 Busca Binária ####"
   ]
  },
  {
   "cell_type": "markdown",
   "metadata": {},
   "source": [
    "A busca binária requer que a lista esteja ordenada, pois funciona da seguinte maneira:\n",
    "\n",
    "1. Ela verifica se a chave de busca é igual ao valor da posição do meio da lista;\n",
    "\n",
    "\n",
    "2. Caso ela seja igual, a função retorna essa posição;\n",
    "\n",
    "\n",
    "3. Caso não seja, ela verifica se o valor da chave é maior ou menor.\n",
    "\n",
    "\n",
    "4. No caso de ser maior, ela repete o processo, porém fazendo o processo da posição do meio mais 1 até o final;\n",
    "\n",
    "\n",
    "5. No caso de ser menor, ele repete o processo, porém considerando que o final da lista é a posição anterior a do meio."
   ]
  },
  {
   "cell_type": "code",
   "execution_count": 5,
   "metadata": {},
   "outputs": [],
   "source": [
    "def buscaBin(vet, chave):\n",
    "    ini=0\n",
    "    fim=len(vet)-1\n",
    "    \n",
    "    while ini<=fim:\n",
    "        meio=(ini+fim)//2\n",
    "        \n",
    "        if vet[meio]==chave:\n",
    "            return meio\n",
    "        \n",
    "        elif vet[meio]>chave:\n",
    "            fim=meio-1\n",
    "            \n",
    "        else:\n",
    "            ini=meio+1\n",
    "            \n",
    "    return -1"
   ]
  },
  {
   "cell_type": "code",
   "execution_count": null,
   "metadata": {
    "scrolled": true
   },
   "outputs": [
    {
     "name": "stdout",
     "output_type": "stream",
     "text": [
      "Criação\n",
      "lista= [20, 5, 15, 24, 67, 45, 1, 76]\n",
      "\n",
      "Ordenação\n",
      "listaOrdenada= None\n",
      "listaOrdenda= [1, 5, 15, 20, 24, 45, 67, 76]\n",
      "\n",
      "Busca\n"
     ]
    }
   ],
   "source": [
    "def main():\n",
    "    \n",
    "    #Criação\n",
    "    print('Criação')\n",
    "    lista=[20, 5, 15, 24, 67, 45, 1, 76]\n",
    "    print('lista=', lista) \n",
    "    \n",
    "    #Ordenação\n",
    "    print()\n",
    "    print('Ordenação')\n",
    "    print('listaOrdenada=', insertionSort(lista))\n",
    "    insertionSort(lista)\n",
    "    print('listaOrdenda=', lista)\n",
    "    \n",
    "    #Busca\n",
    "    print()\n",
    "    print('Busca')\n",
    "    print('buscaBin(lista, 24)=', buscaBin(lista, 24))\n",
    "    print('buscaBin(lista, 25)=', buscaBin(lista, 25))\n",
    "    \n",
    "\n",
    "def insertionSort(vet):\n",
    "    \n",
    "    for i in range(1, len(vet)):\n",
    "        aux=vet[i]\n",
    "        j=i-1\n",
    "        while(j>=0 and vet[j]>aux):\n",
    "            vet[j+1]=vet[j]\n",
    "            j=j-1\n",
    "            \n",
    "        vet[j+1]=aux\n",
    "        \n",
    "\n",
    "def buscaBin(vet, chave):\n",
    "    ini=0\n",
    "    fim=len(vet)-1\n",
    "    l=[]\n",
    "    \n",
    "    while ini<=fim:\n",
    "        meio=(ini+fim)//2\n",
    "        \n",
    "        if vet[meio]==chave:\n",
    "            l.append(meio)\n",
    "        \n",
    "        elif vet[meio]>chave:\n",
    "            fim=meio-1\n",
    "            \n",
    "        else:\n",
    "            ini=meio+1\n",
    "            \n",
    "    return l\n",
    "\n",
    "main()"
   ]
  },
  {
   "cell_type": "markdown",
   "metadata": {},
   "source": [
    "### 13.2: O método *sort()* e a função *sorted*"
   ]
  },
  {
   "cell_type": "markdown",
   "metadata": {},
   "source": [
    "O python possui um método que ordena listas, que é o *sort()* e também uma função que cria uma nova lista ordenada fornecendo um parâmetro para ela, que é a *sorted(< lista >)*."
   ]
  },
  {
   "cell_type": "code",
   "execution_count": 14,
   "metadata": {},
   "outputs": [
    {
     "name": "stdout",
     "output_type": "stream",
     "text": [
      "lista= [20, 5, 15, 24, 67, 45, 1, 76]\n",
      "lista.sort()= [1, 5, 15, 20, 24, 45, 67, 76]\n",
      "\n",
      "lista= [20, 5, 15, 24, 67, 45, 1, 76]\n",
      "sorted(lista)= [1, 5, 15, 20, 24, 45, 67, 76]\n",
      "\n",
      "lista= [20, 5, 15, 24, 67, 45, 1, 76]\n",
      "sorted(lista)= [1, 5, 15, 20, 24, 45, 67, 76]\n"
     ]
    }
   ],
   "source": [
    "def main():\n",
    "    \n",
    "    lista=[20, 5, 15, 24, 67, 45, 1, 76]\n",
    "    print('lista=', lista)\n",
    "    lista.sort()\n",
    "    print('lista.sort()=', lista)\n",
    "    print()\n",
    "    \n",
    "    lista=[20, 5, 15, 24, 67, 45, 1, 76]\n",
    "    print('lista=', lista)\n",
    "    print('sorted(lista)=', sorted(lista))\n",
    "    print()\n",
    "    \n",
    "    lista=[20, 5, 15, 24, 67, 45, 1, 76]\n",
    "    print('lista=', lista)\n",
    "    lista2=sorted(lista)\n",
    "    print('sorted(lista)=', lista2)\n",
    "    \n",
    "main()"
   ]
  },
  {
   "cell_type": "code",
   "execution_count": null,
   "metadata": {},
   "outputs": [],
   "source": []
  }
 ],
 "metadata": {
  "kernelspec": {
   "display_name": "Python 3",
   "language": "python",
   "name": "python3"
  },
  "language_info": {
   "codemirror_mode": {
    "name": "ipython",
    "version": 3
   },
   "file_extension": ".py",
   "mimetype": "text/x-python",
   "name": "python",
   "nbconvert_exporter": "python",
   "pygments_lexer": "ipython3",
   "version": "3.7.2"
  }
 },
 "nbformat": 4,
 "nbformat_minor": 2
}
