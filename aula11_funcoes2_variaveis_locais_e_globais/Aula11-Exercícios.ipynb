{
 "cells": [
  {
   "cell_type": "code",
   "execution_count": null,
   "metadata": {},
   "outputs": [],
   "source": [
    "#031.: Escreva uma função em Python para computar a raiz quadrada de um número positivo, usando o método de aproximações sucessivas de Newton\n",
    "\n",
    "def raizQ(y):\n",
    "    x=y/2\n",
    "    \n",
    "    for i in range(20):\n",
    "        x = x - ((x**2-y)/(2*x))\n",
    "        \n",
    "    return x\n",
    "\n",
    "def main():\n",
    "    n=int(input(\"Digite um número inteiro: \"))\n",
    "    \n",
    "    if n<0:\n",
    "        print(\"Inteiro negativo não tem raiz real!\")\n",
    "        \n",
    "    else:\n",
    "        print(\"{}^(1/2)={}\" .format(n, raizQ(n)))\n",
    "        \n",
    "main()"
   ]
  },
  {
   "cell_type": "code",
   "execution_count": null,
   "metadata": {},
   "outputs": [],
   "source": [
    "#032.: Escreva uma função em Python que recebe como parâmetros duas listas representando matrizes e computa a soma delas.\n",
    "\n",
    "def somaMat(mat1, mat2):\n",
    "    \n",
    "    if(len(mat1)!=len(mat2) or len(mat1[0])!=len(mat2[0])):\n",
    "        print(\"Dimensões incompatíveis das matrizes!\")\n",
    "        \n",
    "    else:\n",
    "        mat3=[[0 for i in range(len(mat1[0]))] for j in range(len(mat1))]\n",
    "        for i in range(len(mat3)):\n",
    "            for j in range(len(mat3[0])):\n",
    "                mat3[i][j] = mat1[i][j] + mat2[i][j]\n",
    "                \n",
    "        printMatriz(mat3)\n",
    "        \n",
    "###########################################################################                \n",
    "def leMatriz(a):\n",
    "    n=int(input(\"Digite o número de linhas da matriz {}: \".format(a) ))\n",
    "    m=int(input(\"Digite o número de colunas da matriz {}: \".format(a)))\n",
    "    mat=[[0 for j in range(m)]for i in range(n)]\n",
    "    \n",
    "    for i in range(n):\n",
    "        for j in range(m):\n",
    "            mat[i][j]=float(input('Mat{}[{}][{}]='.format(a, i+1, j+1)))\n",
    "            \n",
    "    \n",
    "    return mat\n",
    "\n",
    "###########################################################################                \n",
    "def printMatriz(mat):\n",
    "    for i in range(len(mat)):\n",
    "        for j in range(len(mat[0])):\n",
    "            print(mat[i][j], end='    ')\n",
    "        \n",
    "        print()\n",
    "\n",
    "\n",
    "###########################################################################                \n",
    "def main():\n",
    "    print('Matriz 1')\n",
    "    mat1=leMatriz(1)\n",
    "    print()\n",
    "    \n",
    "    print('Matriz 2')\n",
    "    mat2=leMatriz(2)\n",
    "    print()\n",
    "    \n",
    "    somaMat(mat1, mat2)\n",
    "\n",
    "###########################################################################\n",
    "main()\n"
   ]
  },
  {
   "cell_type": "code",
   "execution_count": null,
   "metadata": {},
   "outputs": [],
   "source": []
  }
 ],
 "metadata": {
  "kernelspec": {
   "display_name": "Python 3",
   "language": "python",
   "name": "python3"
  },
  "language_info": {
   "codemirror_mode": {
    "name": "ipython",
    "version": 3
   },
   "file_extension": ".py",
   "mimetype": "text/x-python",
   "name": "python",
   "nbconvert_exporter": "python",
   "pygments_lexer": "ipython3",
   "version": "3.7.2"
  }
 },
 "nbformat": 4,
 "nbformat_minor": 2
}
