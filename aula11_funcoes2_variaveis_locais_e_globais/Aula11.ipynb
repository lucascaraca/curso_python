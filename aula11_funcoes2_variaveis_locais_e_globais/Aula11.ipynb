{
 "cells": [
  {
   "cell_type": "markdown",
   "metadata": {},
   "source": [
    "# AULA 11 #"
   ]
  },
  {
   "cell_type": "markdown",
   "metadata": {},
   "source": [
    "### 11.1: Funções - PT 2"
   ]
  },
  {
   "cell_type": "markdown",
   "metadata": {},
   "source": [
    "#### 11.1.1: Variáveis locais e globais ####"
   ]
  },
  {
   "cell_type": "markdown",
   "metadata": {},
   "source": [
    "*variável local*: uma variável é chamada de local se ela é criada ou alterada dentro de uma função. Ela, portanto, existe somente daquela função e, após o término da execução dela a variável deixa de existir. Os parâmetros da função também são variáveis locais.\n",
    "\n",
    "\n",
    "*variável global*: uma variável é chamada de global se ela é criada fora de qualquer função. Sendo assim, todas as funções tem acesso à ela e podem alterá-la.\n",
    "\n",
    "\n",
    "\n",
    "Com esse conceito de variáveis locais e globais, há um modelo em que os programas são organizados geralmente que é o seguinte:\n",
    "\n",
    "    import bibliotecas\n",
    "    \n",
    "    variáveis globais\n",
    "    \n",
    "    def main():\n",
    "        variáveis locais\n",
    "        comandos main\n",
    "        \n",
    "    def fun1(parâmetros1):\n",
    "        variáveis locais\n",
    "        comandos\n",
    "        \n",
    "    def fun2(parâmetros2):\n",
    "        variáveis locais\n",
    "        comandos\n",
    "        \n",
    "     ...\n",
    "     \n",
    "     main()"
   ]
  },
  {
   "cell_type": "code",
   "execution_count": 2,
   "metadata": {},
   "outputs": [
    {
     "name": "stdout",
     "output_type": "stream",
     "text": [
      "x antes funcoes= 4\n",
      "a+x= 13\n",
      "x depois de f1= 4\n",
      "a+x+c= 17\n",
      "xdepois de f2= 4\n"
     ]
    },
    {
     "data": {
      "text/plain": [
       "'as duas funções puderam acessar a variável x'"
      ]
     },
     "execution_count": 2,
     "metadata": {},
     "output_type": "execute_result"
    }
   ],
   "source": [
    "#EXEMPLO 11.1: Acesso de variáveis globais por funções\n",
    "\n",
    "x=4\n",
    "\n",
    "def main():\n",
    "    print('x antes funcoes=', x)\n",
    "    f1(3)\n",
    "    print('x depois de f1=', x)\n",
    "    f2(3)\n",
    "    print('xdepois de f2=', x)\n",
    "    \n",
    "def f1(a):\n",
    "    x=10\n",
    "    print('a+x=', a+x)\n",
    "\n",
    "def f2(a):\n",
    "    c=10\n",
    "    print('a+x+c=', a+x+c)\n",
    "    \n",
    "main()\n",
    "\n",
    "'''as duas funções puderam acessar a variável x'''"
   ]
  },
  {
   "cell_type": "code",
   "execution_count": 10,
   "metadata": {},
   "outputs": [
    {
     "name": "stdout",
     "output_type": "stream",
     "text": [
      "7\n"
     ]
    },
    {
     "ename": "UnboundLocalError",
     "evalue": "local variable 'x' referenced before assignment",
     "output_type": "error",
     "traceback": [
      "\u001b[1;31m---------------------------------------------------------------------------\u001b[0m",
      "\u001b[1;31mUnboundLocalError\u001b[0m                         Traceback (most recent call last)",
      "\u001b[1;32m<ipython-input-10-bd1e9af026c4>\u001b[0m in \u001b[0;36m<module>\u001b[1;34m\u001b[0m\n\u001b[0;32m     14\u001b[0m     \u001b[0mprint\u001b[0m\u001b[1;33m(\u001b[0m\u001b[0ma\u001b[0m\u001b[1;33m+\u001b[0m\u001b[0mx\u001b[0m\u001b[1;33m)\u001b[0m\u001b[1;33m\u001b[0m\u001b[1;33m\u001b[0m\u001b[0m\n\u001b[0;32m     15\u001b[0m \u001b[1;33m\u001b[0m\u001b[0m\n\u001b[1;32m---> 16\u001b[1;33m \u001b[0mmain\u001b[0m\u001b[1;33m(\u001b[0m\u001b[1;33m)\u001b[0m\u001b[1;33m\u001b[0m\u001b[1;33m\u001b[0m\u001b[0m\n\u001b[0m",
      "\u001b[1;32m<ipython-input-10-bd1e9af026c4>\u001b[0m in \u001b[0;36mmain\u001b[1;34m()\u001b[0m\n\u001b[0;32m      5\u001b[0m     \u001b[0mf1\u001b[0m\u001b[1;33m(\u001b[0m\u001b[1;36m3\u001b[0m\u001b[1;33m)\u001b[0m\u001b[1;33m\u001b[0m\u001b[1;33m\u001b[0m\u001b[0m\n\u001b[0;32m      6\u001b[0m     \u001b[1;34m'''Ocorre um erro de execução no programa acima pois na função f3 abaixo o valor de x é alterado, o que o torna uma variável local. '''\u001b[0m\u001b[1;33m\u001b[0m\u001b[1;33m\u001b[0m\u001b[0m\n\u001b[1;32m----> 7\u001b[1;33m     \u001b[0mf3\u001b[0m\u001b[1;33m(\u001b[0m\u001b[1;36m3\u001b[0m\u001b[1;33m)\u001b[0m\u001b[1;33m\u001b[0m\u001b[1;33m\u001b[0m\u001b[0m\n\u001b[0m\u001b[0;32m      8\u001b[0m \u001b[1;33m\u001b[0m\u001b[0m\n\u001b[0;32m      9\u001b[0m \u001b[1;32mdef\u001b[0m \u001b[0mf1\u001b[0m\u001b[1;33m(\u001b[0m\u001b[0ma\u001b[0m\u001b[1;33m)\u001b[0m\u001b[1;33m:\u001b[0m\u001b[1;33m\u001b[0m\u001b[1;33m\u001b[0m\u001b[0m\n",
      "\u001b[1;32m<ipython-input-10-bd1e9af026c4>\u001b[0m in \u001b[0;36mf3\u001b[1;34m(a)\u001b[0m\n\u001b[0;32m     11\u001b[0m \u001b[1;33m\u001b[0m\u001b[0m\n\u001b[0;32m     12\u001b[0m \u001b[1;32mdef\u001b[0m \u001b[0mf3\u001b[0m\u001b[1;33m(\u001b[0m\u001b[0ma\u001b[0m\u001b[1;33m)\u001b[0m\u001b[1;33m:\u001b[0m\u001b[1;33m\u001b[0m\u001b[1;33m\u001b[0m\u001b[0m\n\u001b[1;32m---> 13\u001b[1;33m     \u001b[0mx\u001b[0m\u001b[1;33m=\u001b[0m\u001b[0mx\u001b[0m\u001b[1;33m+\u001b[0m\u001b[1;36m1\u001b[0m\u001b[1;33m\u001b[0m\u001b[1;33m\u001b[0m\u001b[0m\n\u001b[0m\u001b[0;32m     14\u001b[0m     \u001b[0mprint\u001b[0m\u001b[1;33m(\u001b[0m\u001b[0ma\u001b[0m\u001b[1;33m+\u001b[0m\u001b[0mx\u001b[0m\u001b[1;33m)\u001b[0m\u001b[1;33m\u001b[0m\u001b[1;33m\u001b[0m\u001b[0m\n\u001b[0;32m     15\u001b[0m \u001b[1;33m\u001b[0m\u001b[0m\n",
      "\u001b[1;31mUnboundLocalError\u001b[0m: local variable 'x' referenced before assignment"
     ]
    }
   ],
   "source": [
    "#EXEMPLO 11.2: Erro na comunicação com variáveis globais\n",
    "x=4\n",
    "\n",
    "def main():\n",
    "    f1(3)\n",
    "    '''Ocorre um erro de execução no programa acima pois na função f3 abaixo o valor de x é alterado, o que o torna uma variável local. '''\n",
    "    f3(3)\n",
    "    \n",
    "def f1(a):\n",
    "    print(a+x)\n",
    "\n",
    "def f3(a):\n",
    "    x=x+1\n",
    "    print(a+x)\n",
    "\n",
    "main()"
   ]
  },
  {
   "cell_type": "code",
   "execution_count": 15,
   "metadata": {},
   "outputs": [
    {
     "name": "stdout",
     "output_type": "stream",
     "text": [
      "7\n",
      "8\n"
     ]
    },
    {
     "data": {
      "text/plain": [
       "'Para alterar os valores de uma variável global dentro de uma função, é preciso especificá-la. \\nAdicionando o comando global nas funções que irão alterar o valor da variável, o problema é resolvido.'"
      ]
     },
     "execution_count": 15,
     "metadata": {},
     "output_type": "execute_result"
    }
   ],
   "source": [
    "#EXEMPLO 11.3: Alterando variáveis globais dentro de uma função\n",
    "\n",
    "x=4\n",
    "\n",
    "def main():\n",
    "    f1(3)\n",
    "    f3(3)\n",
    "    \n",
    "def f1(a):\n",
    "    print(a+x)\n",
    "\n",
    "def f3(a):\n",
    "    global x\n",
    "    x=x+1\n",
    "    print(a+x)\n",
    "\n",
    "main()\n",
    "'''Para alterar os valores de uma variável global dentro de uma função, é preciso especificá-la. \n",
    "Adicionando o comando global nas funções que irão alterar o valor da variável, o problema é resolvido.'''"
   ]
  },
  {
   "cell_type": "code",
   "execution_count": 17,
   "metadata": {},
   "outputs": [
    {
     "name": "stdout",
     "output_type": "stream",
     "text": [
      "7\n",
      "8\n"
     ]
    },
    {
     "ename": "NameError",
     "evalue": "name 'c' is not defined",
     "output_type": "error",
     "traceback": [
      "\u001b[1;31m---------------------------------------------------------------------------\u001b[0m",
      "\u001b[1;31mNameError\u001b[0m                                 Traceback (most recent call last)",
      "\u001b[1;32m<ipython-input-17-a360dd3d6764>\u001b[0m in \u001b[0;36m<module>\u001b[1;34m\u001b[0m\n\u001b[0;32m     16\u001b[0m     \u001b[0mprint\u001b[0m\u001b[1;33m(\u001b[0m\u001b[0ma\u001b[0m\u001b[1;33m+\u001b[0m\u001b[0mx\u001b[0m\u001b[1;33m)\u001b[0m\u001b[1;33m\u001b[0m\u001b[1;33m\u001b[0m\u001b[0m\n\u001b[0;32m     17\u001b[0m \u001b[1;33m\u001b[0m\u001b[0m\n\u001b[1;32m---> 18\u001b[1;33m \u001b[0mmain\u001b[0m\u001b[1;33m(\u001b[0m\u001b[1;33m)\u001b[0m\u001b[1;33m\u001b[0m\u001b[1;33m\u001b[0m\u001b[0m\n\u001b[0m\u001b[0;32m     19\u001b[0m \u001b[0mprint\u001b[0m\u001b[1;33m(\u001b[0m\u001b[1;34m\"O erro dado pelo programa neste caso, indica que a variável c não foi declarada.\"\u001b[0m\u001b[1;33m)\u001b[0m\u001b[1;33m\u001b[0m\u001b[1;33m\u001b[0m\u001b[0m\n",
      "\u001b[1;32m<ipython-input-17-a360dd3d6764>\u001b[0m in \u001b[0;36mmain\u001b[1;34m()\u001b[0m\n\u001b[0;32m      6\u001b[0m     \u001b[0mf1\u001b[0m\u001b[1;33m(\u001b[0m\u001b[1;36m3\u001b[0m\u001b[1;33m)\u001b[0m\u001b[1;33m\u001b[0m\u001b[1;33m\u001b[0m\u001b[0m\n\u001b[0;32m      7\u001b[0m     \u001b[0mf3\u001b[0m\u001b[1;33m(\u001b[0m\u001b[1;36m3\u001b[0m\u001b[1;33m)\u001b[0m\u001b[1;33m\u001b[0m\u001b[1;33m\u001b[0m\u001b[0m\n\u001b[1;32m----> 8\u001b[1;33m     \u001b[0mprint\u001b[0m\u001b[1;33m(\u001b[0m\u001b[1;34m'c='\u001b[0m\u001b[1;33m,\u001b[0m \u001b[0mc\u001b[0m\u001b[1;33m)\u001b[0m\u001b[1;33m\u001b[0m\u001b[1;33m\u001b[0m\u001b[0m\n\u001b[0m\u001b[0;32m      9\u001b[0m \u001b[1;32mdef\u001b[0m \u001b[0mf1\u001b[0m\u001b[1;33m(\u001b[0m\u001b[0ma\u001b[0m\u001b[1;33m)\u001b[0m\u001b[1;33m:\u001b[0m\u001b[1;33m\u001b[0m\u001b[1;33m\u001b[0m\u001b[0m\n\u001b[0;32m     10\u001b[0m     \u001b[0mc\u001b[0m\u001b[1;33m=\u001b[0m\u001b[1;36m10\u001b[0m\u001b[1;33m\u001b[0m\u001b[1;33m\u001b[0m\u001b[0m\n",
      "\u001b[1;31mNameError\u001b[0m: name 'c' is not defined"
     ]
    }
   ],
   "source": [
    "#EXEMPLO 11.4: Erro de impressão de variáveis locais\n",
    "\n",
    "x=4\n",
    "\n",
    "def main():\n",
    "    f1(3)\n",
    "    f3(3)\n",
    "    print('c=', c)\n",
    "def f1(a):\n",
    "    c=10\n",
    "    print(a+x)\n",
    "\n",
    "def f3(a):\n",
    "    global x\n",
    "    x=x+1\n",
    "    print(a+x)\n",
    "\n",
    "main()\n",
    "print(\"O erro dado pelo programa neste caso, indica que a variável c não foi declarada. O motivo é que ela só existe dentro da função f1\")"
   ]
  },
  {
   "cell_type": "code",
   "execution_count": 19,
   "metadata": {},
   "outputs": [
    {
     "name": "stdout",
     "output_type": "stream",
     "text": [
      "c de f4: 10\n",
      "a+x+c: 16\n",
      "c global: -1\n"
     ]
    }
   ],
   "source": [
    "#EXEMPLO 11.5: Imprimindo variáveis globais e locais de mesmo nome\n",
    "\n",
    "def main():\n",
    "    x=4\n",
    "    c=-1\n",
    "    f4(1)\n",
    "    print(\"c global:\", c)\n",
    "    \n",
    "def f4(a):\n",
    "    c=10\n",
    "    print(\"c de f4:\", c)\n",
    "    print(\"a+x+c:\", a+x+c)\n",
    "    \n",
    "main()"
   ]
  },
  {
   "cell_type": "markdown",
   "metadata": {},
   "source": [
    "É bom evitar o uso de variáveis globais, pois elas podem acabar causando uma série de erros difíceis (chatos) de serem identificados, já que as funções podem ir alterando ela ao longo da execução e dificultar a localização dos problemas."
   ]
  },
  {
   "cell_type": "markdown",
   "metadata": {},
   "source": [
    "### 11.2: Listas em funções ###"
   ]
  },
  {
   "cell_type": "code",
   "execution_count": 21,
   "metadata": {},
   "outputs": [
    {
     "name": "stdout",
     "output_type": "stream",
     "text": [
      "a antes da função: [1, 2]\n",
      "a depois da função: [1, 2, 3]\n"
     ]
    }
   ],
   "source": [
    "#EXEMPLO 11.6: Alterando listas em funções\n",
    "\n",
    "def main():\n",
    "    a=[1,2]\n",
    "    print('a antes da função:', a)\n",
    "    altera(a)\n",
    "    print('a depois da função:', a)\n",
    "    \n",
    "def altera(a):\n",
    "    a.append(3)\n",
    "    \n",
    "main()"
   ]
  },
  {
   "cell_type": "code",
   "execution_count": 22,
   "metadata": {},
   "outputs": [
    {
     "name": "stdout",
     "output_type": "stream",
     "text": [
      "a antes da função: [1, 2]\n",
      "a depois da função: [1, 2]\n"
     ]
    }
   ],
   "source": [
    "#EXEMPLO 11.6: Atribuindo novos valores a listas locais\n",
    "\n",
    "def main():\n",
    "    a=[1,2]\n",
    "    print('a antes da função:', a)\n",
    "    altera(a)\n",
    "    print('a depois da função:', a)\n",
    "    \n",
    "def altera(a):\n",
    "    a=[10, 10]\n",
    "    \n",
    "main()"
   ]
  },
  {
   "cell_type": "code",
   "execution_count": 27,
   "metadata": {},
   "outputs": [
    {
     "name": "stdout",
     "output_type": "stream",
     "text": [
      "a antes da função: [1, 2]\n",
      "a depois da função: [1, 2]\n"
     ]
    },
    {
     "data": {
      "text/plain": [
       "'Dúvida: por que quando usamos uma função onde o argumento é a lista a ser alterada, o programa não  roda?'"
      ]
     },
     "execution_count": 27,
     "metadata": {},
     "output_type": "execute_result"
    }
   ],
   "source": [
    "#EXEMPLO 11.7: Atribuindo novos valores a listas globais\n",
    "\n",
    "def main():\n",
    "    a=[1,2]\n",
    "    print('a antes da função:', a)\n",
    "    altera()\n",
    "    print('a depois da função:', a)\n",
    "    \n",
    "def altera():\n",
    "    global a\n",
    "    a=[10, 10]\n",
    "    \n",
    "main()\n",
    "\n",
    "'''Dúvida: por que quando usamos uma função onde o argumento é a lista a ser alterada, o programa não  roda?'''"
   ]
  },
  {
   "cell_type": "code",
   "execution_count": null,
   "metadata": {},
   "outputs": [],
   "source": []
  }
 ],
 "metadata": {
  "kernelspec": {
   "display_name": "Python 3",
   "language": "python",
   "name": "python3"
  },
  "language_info": {
   "codemirror_mode": {
    "name": "ipython",
    "version": 3
   },
   "file_extension": ".py",
   "mimetype": "text/x-python",
   "name": "python",
   "nbconvert_exporter": "python",
   "pygments_lexer": "ipython3",
   "version": "3.7.2"
  }
 },
 "nbformat": 4,
 "nbformat_minor": 2
}
