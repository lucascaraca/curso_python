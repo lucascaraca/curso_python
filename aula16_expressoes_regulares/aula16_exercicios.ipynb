{
 "cells": [
  {
   "cell_type": "code",
   "execution_count": 17,
   "metadata": {},
   "outputs": [],
   "source": [
    "import re"
   ]
  },
  {
   "cell_type": "code",
   "execution_count": 25,
   "metadata": {},
   "outputs": [
    {
     "name": "stdout",
     "output_type": "stream",
     "text": [
      "asasjiasjisajisa(019)91234 5678\n",
      "<re.Match object; span=(16, 31), match='(019)91234 5678'>\n",
      "(019)91234 5678\n"
     ]
    }
   ],
   "source": [
    "#037.: Escreva uma RE para encontrar numeros de telefone do tipo:\n",
    "'''\n",
    "(019)91234 5678\n",
    "19 91234 5678\n",
    "19-91234-5678\n",
    "(19) 91234-5678\n",
    "'''\n",
    "##########################################################################\n",
    "def main():\n",
    "    str=input('Digite uma string qualquer')\n",
    "    findTel(str)\n",
    "\n",
    "##########################################################################    \n",
    "def findTel(str):\n",
    "    r=re.compile(r'[(]?0?\\d\\d[)]?([ \\-])?9\\d\\d\\d\\d([ -])?\\d\\d\\d\\d')\n",
    "    a=r.search(str)\n",
    "    print(a)\n",
    "    print(a.group())\n",
    "    \n",
    "##########################################################################\n",
    "main()\n",
    "    "
   ]
  },
  {
   "cell_type": "code",
   "execution_count": null,
   "metadata": {},
   "outputs": [],
   "source": [
    "#038: Faça uma função que recebe uma string e retorna o string com os números\n",
    "     #de telefones transformados para um único formato (19) 91234 5678\n",
    "\n",
    "##########################################################################\n",
    "def tiraPonto(tel):\n",
    "    t=['(', ')', '-', ' ']\n",
    "    \n",
    "    for pont in t: \n",
    "        tel=tel.replace(pont, '')\n",
    "    \n",
    "    return tel\n",
    "\n",
    "##########################################################################\n",
    "    "
   ]
  }
 ],
 "metadata": {
  "kernelspec": {
   "display_name": "Python 3",
   "language": "python",
   "name": "python3"
  },
  "language_info": {
   "codemirror_mode": {
    "name": "ipython",
    "version": 3
   },
   "file_extension": ".py",
   "mimetype": "text/x-python",
   "name": "python",
   "nbconvert_exporter": "python",
   "pygments_lexer": "ipython3",
   "version": "3.7.2"
  }
 },
 "nbformat": 4,
 "nbformat_minor": 2
}
