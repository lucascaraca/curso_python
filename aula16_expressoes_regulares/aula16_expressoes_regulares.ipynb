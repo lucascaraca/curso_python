{
 "cells": [
  {
   "cell_type": "markdown",
   "metadata": {},
   "source": [
    "# Aula 16 #"
   ]
  },
  {
   "cell_type": "markdown",
   "metadata": {},
   "source": [
    "### 16.1: Expressões regulares ###"
   ]
  },
  {
   "cell_type": "markdown",
   "metadata": {},
   "source": [
    "*Expressões regulares* são formas concisas de descrever um conjunto de strings que satisfazem um determinado padrão.\n",
    "\n",
    "\n",
    "Podemos ter, por exemplo, uma string na forma dd/dd/dddd, onde d é um dígito qualquer, representando data).\n",
    "\n",
    "\n",
    "Além disso, podemos ter diferentes formatos de números de telefones. Dessa maneira como interpretar essas diferentes maneiras de se escrever um número de telefone? Isto é, como reconhecer um número de telefone dado que existem diversas maneiras de escrevê-lo?"
   ]
  },
  {
   "cell_type": "markdown",
   "metadata": {},
   "source": [
    "#### 16.1.1: Exemplo de RE ####"
   ]
  },
  {
   "cell_type": "markdown",
   "metadata": {},
   "source": [
    "Um exemplo de expressão regular (RE) é '\\d+', que representa uma sequência de 1 ou mais dígidos de números inteiros.\n",
    "\n",
    "Como, ao utilizar expressões regulares, o caracter '\\' acaba aparecendo para que ele não seja interpretado como um comando (como pular uma linha) colocamos um 'r' na frente das REs para que seja especificado uma raw string.\n",
    "\n",
    "Portanto, a RE do exemplo fica sendo: r'\\d+'"
   ]
  },
  {
   "cell_type": "markdown",
   "metadata": {},
   "source": [
    "#### 16.1.2: Biblioteca re ####"
   ]
  },
  {
   "cell_type": "markdown",
   "metadata": {},
   "source": [
    "Para utilizar expressões regulares, precisaremos da biblioteca **re**. Por isso iremos importá-la.\n",
    "\n",
    "\n",
    "\n",
    "\n",
    "**re.search**\n",
    "\n",
    "Uma importante função da biblioteca é a *re.search*, que basicamente busca a primeira ocorrência de uma substring especificada pela expressão regular, numa string qualquer.\n",
    "\n",
    "Seu uso é dado da seguinte maneira:\n",
    "\n",
    "re.search(< expressão regular >, < string >)\n",
    "\n",
    "\n",
    "A saída dessa função nos dá a substring encontrada (o match) e onde ela foi encontrada (o span). Caso não haja match, a função retorna 'None'.\n",
    "\n",
    "\n",
    "IMPORTANTE: re.search encontra apenas a primeira aparição da RE na string."
   ]
  },
  {
   "cell_type": "code",
   "execution_count": 7,
   "metadata": {},
   "outputs": [
    {
     "name": "stdout",
     "output_type": "stream",
     "text": [
      "str = Ouviram do Ipir723anga 45\n",
      "b = \\d+\n",
      "c = re.search(b, str) = <re.Match object; span=(15, 18), match='723'>\n",
      "c.span() = (15, 18)\n",
      "c.group() = 723\n"
     ]
    }
   ],
   "source": [
    "#EXEMPLO 16.1: Usando a função re.search\n",
    "\n",
    "import re\n",
    "str='Ouviram do Ipir723anga 45'\n",
    "b=r'\\d+'\n",
    "\n",
    "print('str =', str)\n",
    "print('b =', b)\n",
    "\n",
    "c=re.search(b, str)\n",
    "print('c = re.search(b, str) =', c)\n",
    "print('c.span() =', c.span())\n",
    "print('c.group() =', c.group())"
   ]
  },
  {
   "cell_type": "markdown",
   "metadata": {},
   "source": [
    "**re.match**\n",
    "\n",
    "A função re.match funciona de maneira similar a re.search, porém ela só encontra expressões regulares no começo da string.\n",
    "\n",
    "re.match(< expressão regular >, < string >)\n",
    "\n",
    "\n",
    "\n",
    "**re.sub**\n",
    "\n",
    "A função re.sub substitui todas as expressões regulares por uma nova string.\n",
    "\n",
    "re.sub( < expressão regular >, < nova string >, < string >)"
   ]
  },
  {
   "cell_type": "code",
   "execution_count": 15,
   "metadata": {},
   "outputs": [
    {
     "name": "stdout",
     "output_type": "stream",
     "text": [
      "re.match\n",
      "\n",
      "str = Ouviram do Ipir723anga 45\n",
      "b = \\d+\n",
      "c = re.match(b, str) = None\n",
      "\n",
      "\n",
      "str2 = 123456Ouviram do Ipir723anga 45\n",
      "b = \\d+\n",
      "c = re.match(b, str2) = <re.Match object; span=(0, 6), match='123456'>\n",
      "\n",
      "#################################################################\n",
      "re.sub\n",
      "\n",
      "str = Ouviram do Ipir723anga 45\n",
      "b = \\d+\n",
      "c = re.sub(b, \"MU\", str) = Ouviram do IpirMUanga MU\n"
     ]
    }
   ],
   "source": [
    "#EXEMPLO 16.2: re.match e re.sub\n",
    "\n",
    "import re\n",
    "\n",
    "print(\"re.match\")\n",
    "\n",
    "print()\n",
    "str='Ouviram do Ipir723anga 45'\n",
    "b=r'\\d+'\n",
    "print('str =', str)\n",
    "print('b =', b)\n",
    "\n",
    "c=re.match(b, str)\n",
    "print('c = re.match(b, str) =', c)\n",
    "\n",
    "print()\n",
    "str2='123456Ouviram do Ipir723anga 45'\n",
    "b=r'\\d+'\n",
    "\n",
    "print()\n",
    "print('str2 =', str2)\n",
    "print('b =', b)\n",
    "\n",
    "c=re.match(b, str2)\n",
    "print('c = re.match(b, str2) =', c)\n",
    "##################################################################\n",
    "print()\n",
    "print('#################################################################')\n",
    "print('re.sub')\n",
    "\n",
    "print()\n",
    "str='Ouviram do Ipir723anga 45'\n",
    "b=r'\\d+'\n",
    "\n",
    "print('str =', str)\n",
    "print('b =', b)\n",
    "\n",
    "c=re.sub(b, 'MU', str)\n",
    "print('c = re.sub(b, \"MU\", str) =', c)\n"
   ]
  },
  {
   "cell_type": "markdown",
   "metadata": {},
   "source": [
    "**re.findall**\n",
    "\n",
    "A função  re.findall retorna uma lista com todas as ocorrências da RE.\n",
    "\n",
    "\n",
    "re.findall(< expressão regular >, < string >)\n",
    "\n",
    "\n",
    "**re.split**\n",
    "\n",
    "Utiliza as expressões regulares como separador.\n",
    "\n",
    "re.split(< expressão regular >, < string >)"
   ]
  },
  {
   "cell_type": "code",
   "execution_count": 17,
   "metadata": {},
   "outputs": [
    {
     "name": "stdout",
     "output_type": "stream",
     "text": [
      "re.findall\n",
      "\n",
      "str = Ouviram do Ipir723anga 45\n",
      "b = \\d+\n",
      "c = re.findall(b, str) = ['723', '45']\n",
      "\n",
      "#########################################################\n",
      "\n",
      "re.split\n",
      "str = Ouviram do Ipir723anga 45\n",
      "b = \\d+\n",
      "c = re.split(b, str) = ['Ouviram do Ipir', 'anga ', '']\n",
      "\n"
     ]
    }
   ],
   "source": [
    "#EXEMPLO 16.3: re.findall e re.split\n",
    "\n",
    "print('re.findall')\n",
    "print()\n",
    "str='Ouviram do Ipir723anga 45'\n",
    "b=r'\\d+'\n",
    "\n",
    "print('str =', str)\n",
    "print('b =', b)\n",
    "\n",
    "c=re.findall(b, str)\n",
    "print('c = re.findall(b, str) =', c)\n",
    "print()\n",
    "\n",
    "print('#########################################################')\n",
    "print()\n",
    "\n",
    "print('re.split')\n",
    "print('str =', str)\n",
    "print('b =', b)\n",
    "\n",
    "c=re.split(b, str)\n",
    "print('c = re.split(b, str) =', c)\n",
    "print()"
   ]
  },
  {
   "cell_type": "markdown",
   "metadata": {},
   "source": [
    "### 16.2: Compliando REs ###"
   ]
  },
  {
   "cell_type": "markdown",
   "metadata": {},
   "source": [
    "É possível compilar uma RE através da função re.compile para que a procura por ela seja feita mais rapidamente. Além disso, ao compilar uma RE, através do método search podemos dizer a partir de qual posição na string queremos procurar a RE."
   ]
  },
  {
   "cell_type": "code",
   "execution_count": 3,
   "metadata": {},
   "outputs": [
    {
     "name": "stdout",
     "output_type": "stream",
     "text": [
      "str = Ouviram do Ipir723anga 45\n",
      "c=re.comile(r\"\\d+\")\n",
      "\n",
      "c.search(str) = <re.Match object; span=(15, 18), match='723'>\n",
      "c.search(str, 19) <re.Match object; span=(23, 25), match='45'>\n"
     ]
    }
   ],
   "source": [
    "#EXEMPLO 16.4: Compilando REs\n",
    "\n",
    "import re\n",
    "str='Ouviram do Ipir723anga 45'\n",
    "c=re.compile(r'\\d+')\n",
    "\n",
    "print(\"str =\", str)\n",
    "print('c=re.comile(r\"\\d+\")')\n",
    "print()\n",
    "\n",
    "print('c.search(str) =', c.search(str))\n",
    "print('c.search(str, 19)', c.search(str, 19))"
   ]
  },
  {
   "cell_type": "markdown",
   "metadata": {},
   "source": [
    "### 16.3: Escrita de uma RE ###"
   ]
  },
  {
   "cell_type": "markdown",
   "metadata": {},
   "source": [
    "Quando escrevemos uma RE, devemos saber que as letras e os números representam a si próprios.\n",
    "\n",
    "\n",
    "\n",
    "Dessa maneira, quando usamos, por exemplo a RE *r'robertinho26'*, ela representara a substring *'robertinho26'*.\n",
    "\n",
    "\n",
    "\n",
    "Além disso há caracteres especiais, que são usados para representar um determinado comando, assumindo uma função dentro da RE. Esses caracteres especiais estão listados abaixo.\n",
    "\n",
    "\n",
    "\n",
    "**.**: representa qualquer caracter;\n",
    "\n",
    "**[]**: representam uma classe de caracteres - quando utilizados o programa entende os caracteres dentro deles como possíveis alternativas para a busca da RE (por exemplo, para r'p[aã]o', há duas possibilidades de RE para a busca: pao e pão).\n",
    "Além disso, se utilizarmos dentro de [] um traço, ele pode identificar um intervalo de alternativas, como por exemplo [2-6] ou [g-l];\n",
    "\n",
    "\n",
    "**^**: quando utilizado no início da expressão dentro de *[]*, ele representa uma negação;\n",
    "\n",
    "\n",
    "**?**: indica que o caracter que o precede pode um não aparecer;\n",
    "\n",
    "\n",
    "**()**: serve para agrupar um conjunto de caracteres, podendo ser combinados com o caracter *?* por exemplo;\n",
    "\n",
    "\n",
    "**+**: representa uma ou mais repetições do caractere ou grupo de caracteres imediatamente anterior;\n",
    "\n",
    "*****: representa 0 ou mais repetições do caractere ou grupo de caracteres imediatamente anterior;\n",
    "\n",
    "\n",
    "**|**: representa um *OU* de diferentes REs;\n",
    "\n",
    "**\\b**: representa um separador de palavras (espaço em branco, fim da string, pontuação, etc)"
   ]
  },
  {
   "cell_type": "code",
   "execution_count": 7,
   "metadata": {},
   "outputs": [
    {
     "name": "stdout",
     "output_type": "stream",
     "text": [
      "O caracter .\n",
      "\n",
      "r=re.compile(r'.ao')\n",
      "r.search(O cao) = <re.Match object; span=(2, 5), match='cao'>\n",
      "r.search(O pao) = <re.Match object; span=(2, 5), match='pao'>\n",
      "r.search(O 9ao) = <re.Match object; span=(2, 5), match='9ao'>\n",
      "r.search(O ao) = <re.Match object; span=(1, 4), match=' ao'>\n"
     ]
    }
   ],
   "source": [
    "#EXEMPLO 16.5: Usando os caracteres especiais\n",
    "\n",
    "#A)\n",
    "print(\"O caracter .\")\n",
    "print()\n",
    "\n",
    "r=re.compile(r'.ao')\n",
    "print(\"r=re.compile(r'.ao')\")\n",
    "print(\"r.search(\"'O cao'\") =\", r.search('O cao'))\n",
    "print(\"r.search(\"'O pao'\") =\", r.search('O pao'))\n",
    "print(\"r.search(\"'O 9ao'\") =\", r.search('O 9ao'))\n",
    "print(\"r.search(\"'O ao'\") =\", r.search('O ao'))"
   ]
  },
  {
   "cell_type": "code",
   "execution_count": 9,
   "metadata": {},
   "outputs": [
    {
     "name": "stdout",
     "output_type": "stream",
     "text": [
      "Os caracteres []\n",
      "\n",
      "r=re.compile(r'p[aâã]0')\n",
      "r.search('O pão') = <re.Match object; span=(2, 5), match='pão'>\n",
      "r.search('O pâo') = <re.Match object; span=(2, 5), match='pâo'>\n",
      "r.search('O pao') = <re.Match object; span=(2, 5), match='pao'>\n",
      "r.search('O pio') = None\n"
     ]
    }
   ],
   "source": [
    "#B)\n",
    "print(\"Os caracteres []\")\n",
    "print()\n",
    "\n",
    "r=re.compile(r'p[aâã]o')\n",
    "print(\"r=re.compile(r'p[aâã]0')\")\n",
    "print(\"r.search('O pão') =\", r.search('O pão'))\n",
    "print(\"r.search('O pâo') =\", r.search('O pâo'))\n",
    "print(\"r.search('O pao') =\", r.search('O pao'))\n",
    "print(\"r.search('O pio') =\", r.search('O pio'))"
   ]
  },
  {
   "cell_type": "code",
   "execution_count": 12,
   "metadata": {},
   "outputs": [
    {
     "name": "stdout",
     "output_type": "stream",
     "text": [
      "O caracter ^\n",
      "\n",
      "r=re.compile(r'ab[^1-6]')\n",
      "r.search('oab89') = <re.Match object; span=(1, 4), match='ab8'>\n",
      "r.search('oab25') = None\n",
      "r.search('oabCDEF') = <re.Match object; span=(1, 4), match='abC'>\n"
     ]
    }
   ],
   "source": [
    "#C)\n",
    "print(\"O caracter ^\")\n",
    "print()\n",
    "\n",
    "r=re.compile(r'ab[^1-6]')\n",
    "print(\"r=re.compile(r'ab[^1-6]')\")\n",
    "print(\"r.search('oab89') =\", r.search('oab89'))\n",
    "print(\"r.search('oab25') =\", r.search('oab25'))\n",
    "print(\"r.search('oabCDEF') =\", r.search('oabCDEF'))"
   ]
  },
  {
   "cell_type": "code",
   "execution_count": 18,
   "metadata": {},
   "outputs": [
    {
     "name": "stdout",
     "output_type": "stream",
     "text": [
      "O caracter '?'\n",
      "\n",
      "r=re.compile(r'ab?c')\n",
      "r.search('abc') = <re.Match object; span=(0, 3), match='abc'>\n",
      "r.search('ac') = <re.Match object; span=(0, 2), match='ac'>\n"
     ]
    }
   ],
   "source": [
    "#D)\n",
    "print(\"O caracter '?'\")\n",
    "print()\n",
    "\n",
    "r=re.compile(r'ab?c')\n",
    "print(\"r=re.compile(r'ab?c')\")\n",
    "print(\"r.search('abc') =\", r.search('abc'))\n",
    "print(\"r.search('ac') =\", r.search('ac'))"
   ]
  },
  {
   "cell_type": "code",
   "execution_count": 23,
   "metadata": {},
   "outputs": [
    {
     "name": "stdout",
     "output_type": "stream",
     "text": [
      "Os caracteres ()\n",
      "\n",
      "r=re.compile(r'Fev(ereiro)? (de)? ?2016')\n",
      "r.search('Fevereiro 2016') = <re.Match object; span=(0, 14), match='Fevereiro 2016'>\n",
      "r.search('Fev 2016') = <re.Match object; span=(0, 8), match='Fev 2016'>\n",
      "r.search('Fevereiro de 2016') = <re.Match object; span=(0, 17), match='Fevereiro de 2016'>\n"
     ]
    }
   ],
   "source": [
    "#E)\n",
    "print(\"Os caracteres ()\")\n",
    "print()\n",
    "\n",
    "r=re.compile(r'Fev(ereiro)? (de)? ?2016')\n",
    "print(\"r=re.compile(r'Fev(ereiro)? (de)? ?2016')\")\n",
    "print(\"r.search('Fevereiro 2016') =\", r.search('Fevereiro 2016'))\n",
    "print(\"r.search('Fev 2016') =\", r.search('Fev 2016'))\n",
    "print(\"r.search('Fevereiro de 2016') =\", r.search('Fevereiro de 2016'))"
   ]
  },
  {
   "cell_type": "code",
   "execution_count": 28,
   "metadata": {},
   "outputs": [
    {
     "name": "stdout",
     "output_type": "stream",
     "text": [
      "Os caracteres + e *\n",
      "\n",
      "r=re.compile(r'abc(de)+')\n",
      "r.search('abc') = None\n",
      "r.search('abcdede') = <re.Match object; span=(0, 5), match='abcde'>\n",
      "\n",
      "r=re.comile(r'abc(de)*')\n",
      "r.search('abc') = <re.Match object; span=(0, 3), match='abc'>\n",
      "r.search('abcdedede') = <re.Match object; span=(0, 7), match='abcdede'>\n"
     ]
    }
   ],
   "source": [
    "#F)\n",
    "print(\"Os caracteres + e *\")\n",
    "print()\n",
    "\n",
    "r=re.compile(r'abc(de)+')\n",
    "print(\"r=re.compile(r'abc(de)+')\")\n",
    "print(\"r.search('abc') =\", r.search('abc'))\n",
    "print(\"r.search('abcdede') =\", r.search('abcde'))\n",
    "print()\n",
    "\n",
    "r=re.compile(r'abc(de)*')\n",
    "print(\"r=re.comile(r'abc(de)*')\")\n",
    "print(\"r.search('abc') =\", r.search('abc'))\n",
    "print(\"r.search('abcdedede') =\", r.search('abcdede'))"
   ]
  },
  {
   "cell_type": "code",
   "execution_count": 37,
   "metadata": {},
   "outputs": [
    {
     "name": "stdout",
     "output_type": "stream",
     "text": [
      "O caracter \\b\n",
      "\n",
      "r=re.compile(r'casa')\n",
      "r.search('a casa') = <re.Match object; span=(2, 6), match='casa'>\n",
      "r.search('casamento') = <re.Match object; span=(0, 4), match='casa'>\n",
      "\n",
      "r=re.compile(\\bcasa\\b)\n",
      "r.search('a casa') = <re.Match object; span=(2, 6), match='casa'>\n",
      "r.search('casamento') = None\n"
     ]
    }
   ],
   "source": [
    "#G)\n",
    "print(\"O caracter \"+r'\\b')\n",
    "print()\n",
    "\n",
    "r=re.compile(r'casa')\n",
    "print(\"r=re.compile(r'casa')\")\n",
    "print(\"r.search('a casa') =\", r.search('a casa'))\n",
    "print(\"r.search('casamento') =\", r.search('casamento'))\n",
    "print()\n",
    "\n",
    "r=re.compile(r'\\bcasa\\b')\n",
    "print(\"r=re.compile(\" + r'\\bcasa\\b)')\n",
    "print(\"r.search('a casa') =\", r.search('a casa'))\n",
    "print(\"r.search('casamento') =\", r.search('casamento'))"
   ]
  },
  {
   "cell_type": "code",
   "execution_count": 8,
   "metadata": {},
   "outputs": [
    {
     "name": "stdout",
     "output_type": "stream",
     "text": [
      "Buscando um email\n",
      "\n",
      "r=re.compile(r'\\w+@\\w+')\n",
      "r.search('blablabla bla abc@gmail.com blablabla') =  <re.Match object; span=(14, 23), match='abc@gmail'>\n",
      "note que faltou o '.com'\n",
      "\n",
      "r=re.compile(r'\\w+@\\w+\\.\\w+')\n",
      "o caracter \"\\.\" representa o ponto mesmo e não o caracter especial .\n",
      "r.search('blablabla bla abc@gmail.com blablabla') =  <re.Match object; span=(14, 27), match='abc@gmail.com'>\n",
      "\n",
      "r.search('blablabla bla abc@gmail.com.br blablabla') =  <re.Match object; span=(14, 27), match='abc@gmail.com'>\n",
      "note que o '.br' não foi reconhecido\n",
      "\n",
      "r=re.compile(r'\\w+@\\w+\\.\\w+(\\.\\w+)?')\n",
      "r.search('blablabla bla abc@gmail.com.br blablabla') =  <re.Match object; span=(14, 30), match='abc@gmail.com.br'>\n"
     ]
    }
   ],
   "source": [
    "#EXEMPLO 16.6: Buscando um email\n",
    "import re\n",
    "\n",
    "print(\"Buscando um email\")\n",
    "#email: sequência de caracteres alfanuméricos '\\w+' separados por @\n",
    "print()\n",
    "\n",
    "r=re.compile(r'\\w+@\\w+')\n",
    "print(\"r=re.compile(r'\\w+@\\w+')\")\n",
    "print(\"r.search('blablabla bla abc@gmail.com blablabla') = \", r.search('blablabla bla abc@gmail.com blablabla'))\n",
    "print(\"note que faltou o '.com'\")\n",
    "print()\n",
    "\n",
    "r=re.compile(r'\\w+@\\w+\\.\\w+')\n",
    "print(\"r=re.compile(r'\\w+@\\w+\\.\\w+')\")\n",
    "print('o caracter '+ r'\"\\.\" representa o ponto mesmo e não o caracter especial .' )\n",
    "print(\"r.search('blablabla bla abc@gmail.com blablabla') = \", r.search('blablabla bla abc@gmail.com blablabla'))\n",
    "print()\n",
    "\n",
    "print(\"r.search('blablabla bla abc@gmail.com.br blablabla') = \", r.search('blablabla bla abc@gmail.com.br blablabla'))\n",
    "print(\"note que o '.br' não foi reconhecido\")\n",
    "print()\n",
    "\n",
    "r=re.compile(r'\\w+@\\w+\\.\\w+(\\.\\w+)?')\n",
    "print(\"r=re.compile(r'\\w+@\\w+\\.\\w+(\\.\\w+)?')\")\n",
    "print(\"r.search('blablabla bla abc@gmail.com.br blablabla') = \", r.search('blablabla bla abc@gmail.com.br blablabla'))"
   ]
  },
  {
   "cell_type": "code",
   "execution_count": null,
   "metadata": {},
   "outputs": [],
   "source": []
  }
 ],
 "metadata": {
  "kernelspec": {
   "display_name": "Python 3",
   "language": "python",
   "name": "python3"
  },
  "language_info": {
   "codemirror_mode": {
    "name": "ipython",
    "version": 3
   },
   "file_extension": ".py",
   "mimetype": "text/x-python",
   "name": "python",
   "nbconvert_exporter": "python",
   "pygments_lexer": "ipython3",
   "version": "3.7.2"
  }
 },
 "nbformat": 4,
 "nbformat_minor": 2
}
