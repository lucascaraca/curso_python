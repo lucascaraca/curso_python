{
 "cells": [
  {
   "cell_type": "markdown",
   "metadata": {},
   "source": [
    "# AULA 10"
   ]
  },
  {
   "cell_type": "markdown",
   "metadata": {},
   "source": [
    "### 10.1: Objetos mutáveis e imutáveis ###"
   ]
  },
  {
   "cell_type": "markdown",
   "metadata": {},
   "source": [
    "Cada objeto criado em python (int, float, list, string, etc.) é classificado como mutável ou imutável. \n",
    "\n",
    "Objetos imutáveis são aqueles que não podem ter seus valores alterados (int, float, string e bool são imutáveis).\n",
    "\n",
    "Cada objeto criado possui uma posição definida na memória e a ele também está associado um identificador, que pode ser obtido com a função id()."
   ]
  },
  {
   "cell_type": "code",
   "execution_count": 1,
   "metadata": {},
   "outputs": [
    {
     "name": "stdout",
     "output_type": "stream",
     "text": [
      "a= 94\n",
      "id(a)= 140704596356848\n",
      "id(94)= 140704596356848\n",
      "\n",
      "a= 95\n",
      "id(a)= 140704596356880\n",
      "id(94)= 140704596356848\n",
      "id(95)= 140704596356880\n",
      "\n",
      "a= 94\n",
      "id(a)= 140704596356848\n",
      "id(94)= 140704596356848\n",
      "id(95)= 140704596356880\n",
      "\n",
      "a+1= 95\n",
      "id(a+1)= 140704596356880\n",
      "id(94)= 140704596356848\n",
      "id(95)= 140704596356880\n",
      "\n"
     ]
    },
    {
     "data": {
      "text/plain": [
       "'Note que os objetos do tipo int (94 e 95) são imutáveis: quando alteramos (ou fazemos um incremento a variável a, cria-se um novo objeto que será associado com a)'"
      ]
     },
     "execution_count": 1,
     "metadata": {},
     "output_type": "execute_result"
    }
   ],
   "source": [
    "#EXEMPLO 10.1: Identificador de um objeto *int* associado a uma variável\n",
    "\n",
    "a=94 #a é a variável, 94 o objeto\n",
    "print('a=',a)\n",
    "id(a)\n",
    "print('id(a)=',id(a))\n",
    "print('id(94)=',id(94))\n",
    "print()\n",
    "\n",
    "a=95\n",
    "print('a=',a)\n",
    "print('id(a)=',id(a))\n",
    "print('id(94)=',id(94))\n",
    "print('id(95)=',id(95))\n",
    "print()\n",
    "\n",
    "a=94\n",
    "print('a=',a)\n",
    "print('id(a)=',id(a))\n",
    "print('id(94)=',id(94))\n",
    "print('id(95)=',id(95))\n",
    "print()\n",
    "\n",
    "a=a+1\n",
    "print('a+1=',a)\n",
    "print('id(a+1)=',id(a))\n",
    "print('id(94)=',id(94))\n",
    "print('id(95)=',id(95))\n",
    "print()\n",
    "\n",
    "\n",
    "'''Note que os objetos do tipo int (94 e 95) são imutáveis: quando alteramos (ou fazemos um incremento a variável a, cria-se um novo objeto que será associado com a)'''"
   ]
  },
  {
   "cell_type": "code",
   "execution_count": 15,
   "metadata": {},
   "outputs": [
    {
     "name": "stdout",
     "output_type": "stream",
     "text": [
      "a= []\n",
      "id(a)= 2454856610760\n",
      "\n",
      "a= [1]\n",
      "id(a)= 2454856610760\n",
      "\n",
      "a= [1, 2]\n",
      "id(a)= 2454856610760\n",
      "\n",
      "Note que como estamos lidando com um objeto do tipo list, a id da variável não se altera.\n",
      "Lists são objetos mutáveis, já que há alteração nos valores do objeto e seu identificador permanece o mesmo.\n",
      "\n",
      "a=[1,2]= [1, 2]\n",
      "id(a)= 2454857397064\n",
      "Nessa última etapa, uma nova lista é criada e associada a variável a, por isso a alteração no id.\n"
     ]
    }
   ],
   "source": [
    "#EXEMPLO 10.2: Identificador de um objeto list associado a uma variável\n",
    "\n",
    "a=[]\n",
    "print('a=', a)\n",
    "print('id(a)=',id(a))\n",
    "print()\n",
    "\n",
    "a.append(1)\n",
    "print('a=', a)\n",
    "print('id(a)=',id(a))\n",
    "print()\n",
    "\n",
    "a += [2]\n",
    "print('a=', a)\n",
    "print('id(a)=',id(a))\n",
    "print()\n",
    "\n",
    "print('''Note que como estamos lidando com um objeto do tipo list, a id da variável não se altera.\n",
    "Lists são objetos mutáveis, já que há alteração nos valores do objeto e seu identificador permanece o mesmo.''')\n",
    "print()\n",
    "\n",
    "a=[1,2]\n",
    "print('a=[1,2]=', a)\n",
    "print('id(a)=',id(a))\n",
    "print('Nessa última etapa, uma nova lista é criada e associada a variável a, por isso a alteração no id.')"
   ]
  },
  {
   "cell_type": "markdown",
   "metadata": {},
   "source": [
    "### 10.2: Funções - PT1 ###"
   ]
  },
  {
   "cell_type": "markdown",
   "metadata": {},
   "source": [
    "Para criarmos um problema complexo é importante conseguirmos dividí-lo em problemas menores, resolvendo uma etapa por vez, pois isso facilita a administração e o entendimento do problema como um todo.\n",
    "\n",
    "Quando um mesmo programa maior necessita realizar diversas vezes uma mesma tarefa, é interessante que se crie uma maneira de facilitar a escrita do código evitando repetir diversas vezes uma mesma tarefa (por exemplo, numa calculadora de soma de matrizes, precisamos realizar a leitura duas vezes - seria interessante nesse caso, criar uma maneira de reduzir o código).\n",
    "\n",
    "Para realizar essa tarefa utilizamos o que chamamos de *funções*, que são estruturas que agrupam um conjunto de comandos, executados quando a função é chamada pelo programa \"maior\"."
   ]
  },
  {
   "cell_type": "markdown",
   "metadata": {},
   "source": [
    "#### 10.2.1: Definindo e executando uma função ####"
   ]
  },
  {
   "cell_type": "markdown",
   "metadata": {},
   "source": [
    "Para criarmos uma função, devemos definí-la da seguinte forma:\n",
    "\n",
    "def < nomeFunção >(parâmetro1,..., parâmetroN):\n",
    "    < comandos >\n",
    "    return < valor de retorno >\n",
    "    \n",
    "Os parâmetros são variáveis, que são inifializadas com valores indicados durante a invocação da função.\n",
    "\n",
    "O comando return devolve o resultado da execução da função.\n",
    "\n",
    "Para executar uma função no programa escrevemos:\n",
    "\n",
    "< nomeFunção >(variável1,..., variávelN)\n",
    "\n",
    "a variável(J) está associada ao parâmetro(J) nos comandos da função.\n",
    "\n",
    "Os programas iniciam sua execução com as linhas de comandos não associadas a funções. Quando o programa encontra uma função em uma de suas linhas, ele passa a executar as linhas de comando da função até que o *return* seja lido. Assim que ele é lido, ele volta a parte do programa que se inicia imediatamente depois da invocação da função.\n",
    "\n",
    "A função pode ser invocada em qualquere lugar que aceite um expressão, como, por exemplo, no interior da função print."
   ]
  },
  {
   "cell_type": "code",
   "execution_count": 16,
   "metadata": {},
   "outputs": [
    {
     "name": "stdout",
     "output_type": "stream",
     "text": [
      "soma(12,90)= 102\n",
      "soma(-9,45)= 36\n"
     ]
    }
   ],
   "source": [
    "#EXEMPLO 10.3: Criando uma função que soma dois valores inteiros\n",
    "\n",
    "#definindo a função soma\n",
    "def soma(a, b): \n",
    "    c = a + b\n",
    "    return c\n",
    "\n",
    "#chamando a função soma\n",
    "r=soma(12, 90)\n",
    "print('soma(12,90)=',r)\n",
    "r=soma(-9,45)\n",
    "print('soma(-9,45)=',r)"
   ]
  },
  {
   "cell_type": "code",
   "execution_count": 17,
   "metadata": {},
   "outputs": [
    {
     "name": "stdout",
     "output_type": "stream",
     "text": [
      "Digite um número inteiro: 8\n",
      "Numero digitado:  8\n"
     ]
    }
   ],
   "source": [
    "#EXEMPLO 10.4: Criando uma função com parâmetros vazios\n",
    "\n",
    "def leNumeroInt():\n",
    "    c = input(\"Digite um número inteiro: \")\n",
    "    return int(c)\n",
    "\n",
    "r=leNumeroInt()\n",
    "print(\"Numero digitado: \", r)"
   ]
  },
  {
   "cell_type": "code",
   "execution_count": 18,
   "metadata": {},
   "outputs": [
    {
     "name": "stdout",
     "output_type": "stream",
     "text": [
      "49\n",
      "49\n"
     ]
    }
   ],
   "source": [
    "#EXEMPLO 10.5: Função do quadrado da soma.\n",
    "\n",
    "def quadradoSoma(a, b):\n",
    "    a = (a+b)*(a+b)\n",
    "    return a\n",
    "\n",
    "x=5\n",
    "y=2\n",
    "r=quadradoSoma(x,y)\n",
    "print(r)\n",
    "\n",
    "print(quadradoSoma(x,y))\n"
   ]
  },
  {
   "cell_type": "markdown",
   "metadata": {},
   "source": [
    "Os parâmetros de uma função são variáveis que só existem durante a execução da função. Eles são inicializados com o identificador do objeto correspondente na invocação da função.\n",
    "\n",
    "Os valores das variáveis na invocação da função podem ser alterados ou não dentro da função. Isso dependerá se estas variáveis estão associadas com objetos mutáveis ou imutáveis."
   ]
  },
  {
   "cell_type": "code",
   "execution_count": 1,
   "metadata": {},
   "outputs": [
    {
     "name": "stdout",
     "output_type": "stream",
     "text": [
      "ID original:  140734540473200\n",
      "ID antes da multiplicação:  140734540473200\n",
      "ID depois da multiplicação:  140734540473264\n",
      "ID depois da função:  140734540473200\n",
      "\n",
      "r= 4\n",
      "a= 2\n"
     ]
    },
    {
     "data": {
      "text/plain": [
       "'Observe que a variável a de fora da função permanece com o valor do id do objeto 2, enquanto que a variável a da função altera seu identificador para o objeto 4.'"
      ]
     },
     "execution_count": 1,
     "metadata": {},
     "output_type": "execute_result"
    }
   ],
   "source": [
    "#EXEMPLO 10.6: ID de uma variável inteira numa função\n",
    "\n",
    "def quadrado(a):\n",
    "    print(\"ID antes da multiplicação: \",id(a))\n",
    "    a=a*a\n",
    "    print(\"ID depois da multiplicação: \",id(a))\n",
    "    return a\n",
    "\n",
    "a=2\n",
    "print(\"ID original: \",id(a))\n",
    "r=quadrado(a)\n",
    "print(\"ID depois da função: \", id(a))\n",
    "print()\n",
    "print('r=',r)\n",
    "print('a=',a)\n",
    "\n",
    "\n",
    "'Observe que a variável a de fora da função permanece com o valor do id do objeto 2, enquanto que a variável a da função altera seu identificador para o objeto 4.'"
   ]
  },
  {
   "cell_type": "code",
   "execution_count": 6,
   "metadata": {},
   "outputs": [
    {
     "name": "stdout",
     "output_type": "stream",
     "text": [
      "a= [5]\n",
      "ID Original: 2291521015496\n",
      "ID antes da inserção: 2291521015496\n",
      "ID depois da inserção: 2291521015496\n",
      "r=addTwo(a)= [5, 2]\n",
      "id(r)= 2291521015496\n",
      "a= [5, 2]\n",
      "\n",
      "a variável b da função permanece com o mesmo identificador de a, mesmo após um novo valor ser inserido na lista, já que listas são mutáveis.\n",
      "Por isso, o que se altera dentro da função em b, também altera a variável a, como visto no último print do programa acima.\n",
      "r também possui o mesmo identificador de a\n"
     ]
    }
   ],
   "source": [
    "#EXEMPLO 10.7: ID de uma variável list em uma função\n",
    "\n",
    "def addTwo(b):\n",
    "    print(\"ID antes da inserção:\",id(b))\n",
    "    b+=[2]\n",
    "    print(\"ID depois da inserção:\",id(b))\n",
    "    return b\n",
    "\n",
    "a=[5]\n",
    "print('a=',a)\n",
    "print(\"ID Original:\",id(a))\n",
    "r=addTwo(a)\n",
    "print(\"r=addTwo(a)=\",r)\n",
    "print(\"id(r)=\",id(r))\n",
    "print('a=',a)\n",
    "print()\n",
    "print('''a variável b da função permanece com o mesmo identificador de a, mesmo após um novo valor ser inserido na lista, já que listas são mutáveis.\n",
    "Por isso, o que se altera dentro da função em b, também altera a variável a, como visto no último print do programa acima.\n",
    "r também possui o mesmo identificador de a''')"
   ]
  },
  {
   "cell_type": "markdown",
   "metadata": {},
   "source": [
    "#### 10.2.2: Funções que não retornam nada ####"
   ]
  },
  {
   "cell_type": "markdown",
   "metadata": {},
   "source": [
    "Algumas funções precisam apenas executar alguns comandos (como imprimir alguma coisa) e não precisam retornar nada. \n",
    "Para criar funções deste tipo basta que não coloquemos o comando *return* ao seu final, ou então podemos encerrar a função digitando o comando *return None*."
   ]
  },
  {
   "cell_type": "code",
   "execution_count": 8,
   "metadata": {},
   "outputs": [
    {
     "name": "stdout",
     "output_type": "stream",
     "text": [
      "++++++++++++++\n",
      "| Número: 10 |\n",
      "++++++++++++++\n",
      "+++++++++++++++++\n",
      "| Número: 23456 |\n",
      "+++++++++++++++++\n"
     ]
    }
   ],
   "source": [
    "#EXEMPLO 10.8: Função que não retorna nenhum valor\n",
    "\n",
    "def imprimeCaixa(numero):\n",
    "    tamanho=len(str(numero))\n",
    "    for i in range(12+tamanho):\n",
    "        print('+', end='', sep='')\n",
    "    print()\n",
    "    print('| Número:', numero,'|')\n",
    "    for i in range(12+tamanho):\n",
    "        print('+',end='',sep='')\n",
    "    print()\n",
    "    \n",
    "imprimeCaixa(10)\n",
    "imprimeCaixa(23456)"
   ]
  },
  {
   "cell_type": "markdown",
   "metadata": {},
   "source": [
    "É importante declararmos as funções que iremos utilizar no programa principal, antes do mesmo, pois, caso contrário, haverá um erro na execução do mesmo.\n",
    "\n",
    "Podemos contornar esse problema da seguinte maneira:\n",
    "primeiro definimos uma função chamada  *main()* ( ou qualquer outro nome importante) e nela colocamos os comandos do programa principal que queremos. Abaixo dela colocamos todas as funções que utilizaremos nesse programa principal e, por últimos, executamos a função *main*. \n",
    "\n",
    "A estrutura desse programa ficará mais ou menos assim:\n",
    "\n",
    "import < biblioteca1 >\n",
    "import < biblioteca 2>\n",
    "...\n",
    "import < biblioteca N>\n",
    "\n",
    "def main(): \n",
    "\n",
    "    comandos principais\n",
    "\n",
    "def fun1(parametros):\n",
    "\n",
    "    comandos fun1\n",
    "    \n",
    "def fun2(parametros):\n",
    "\n",
    "    comandos fun2\n",
    "\n",
    "...\n",
    "\n",
    "def funL(parametros):\n",
    "\n",
    "    comandos funL\n",
    "\n",
    "main()"
   ]
  },
  {
   "cell_type": "markdown",
   "metadata": {},
   "source": [
    "#### 10.2.3: Parâmetros de uma função com valor default ####"
   ]
  },
  {
   "cell_type": "markdown",
   "metadata": {},
   "source": [
    "Podemos definir funções que possuem um ou mais parâmetros com um *valor default*, onde, caso não haja a invocação do argumento no momento em que a função é \"chamada\", esse valor definido previamente é usado como o valor do parâmetro correspondente a ele na execução da função"
   ]
  },
  {
   "cell_type": "code",
   "execution_count": 12,
   "metadata": {},
   "outputs": [
    {
     "name": "stdout",
     "output_type": "stream",
     "text": [
      "def fx(a,b=9):\n",
      " return a+b\n",
      "\n",
      "fx(3)= 12\n",
      "fx(3,4)= 7\n"
     ]
    }
   ],
   "source": [
    "#EXEMPLO 10.9: Função com um valor default\n",
    "\n",
    "def main():\n",
    "    print('def fx(a,b=9):\\n return a+b')\n",
    "    print()\n",
    "    x=fx(3)\n",
    "    print('fx(3)=',x)\n",
    "    x=fx(3,4)\n",
    "    print('fx(3,4)=',x)\n",
    "\n",
    "def fx(a,b=9):\n",
    "    return a+b\n",
    "\n",
    "main()"
   ]
  },
  {
   "cell_type": "code",
   "execution_count": 20,
   "metadata": {},
   "outputs": [
    {
     "name": "stdout",
     "output_type": "stream",
     "text": [
      "fx2(3) 390\n",
      "fx2(3,4)= 340\n",
      "fx(3,4,5)= 345\n",
      "\n",
      "Função fx2():\n",
      "def fx2(a,b=9,c=0):\n",
      "    return 100*a+10*b+c\n"
     ]
    }
   ],
   "source": [
    "#EXEMPLO 10.10: Função com dois valores default\n",
    "\n",
    "def main():\n",
    "    x=fx2(3)\n",
    "    print('fx2(3)', x)\n",
    "    x=fx2(3,4)\n",
    "    print('fx2(3,4)=',x)\n",
    "    x=fx2(3,4,5)\n",
    "    print('fx(3,4,5)=',x)\n",
    "    \n",
    "def fx2(a,b=9,c=0):\n",
    "    return 100*a+10*b+c\n",
    "    \n",
    "main()\n",
    "\n",
    "print()\n",
    "print('Função fx2():')\n",
    "print('def fx2(a,b=9,c=0):\\n    return 100*a+10*b+c')"
   ]
  },
  {
   "cell_type": "markdown",
   "metadata": {},
   "source": [
    "#### 10.2.4: A função *print* ####"
   ]
  },
  {
   "cell_type": "markdown",
   "metadata": {},
   "source": [
    "A função *print* possui 2 parâmetros default:\n",
    "\n",
    "    sep (string que separa um argumento do outro), cujo valor default é '' (um branco)\n",
    "    \n",
    "    end (o que é impresso ao final do print), cujo valor default é '\\n'   \n",
    "    "
   ]
  },
  {
   "cell_type": "code",
   "execution_count": 33,
   "metadata": {},
   "outputs": [
    {
     "name": "stdout",
     "output_type": "stream",
     "text": [
      "print(3,4,5)\n",
      "print(12):\n",
      "3 4 5\n",
      "12\n",
      "\n",
      "print(3,4,5,sep=\"\")\n",
      "print(12):\n",
      "345\n",
      "12\n",
      "\n",
      "print(3,4,5,end=\"=\")\n",
      "print(12):\n",
      "3 4 5=12\n",
      "\n",
      "print(3,4,5,end=\"=\",sep=\"+\"):\n",
      " print(12)\n",
      "3+4+5=12\n"
     ]
    }
   ],
   "source": [
    "#EXEMPLO 10.11: Função print\n",
    "print('print(3,4,5)\\nprint(12):')\n",
    "print(3,4,5)\n",
    "print(12)\n",
    "print()\n",
    "\n",
    "print('print(3,4,5,sep=\"\")\\nprint(12):')\n",
    "print(3,4,5,sep=\"\")\n",
    "print(12)\n",
    "print()\n",
    "\n",
    "print('print(3,4,5,end=\"=\")\\nprint(12):')\n",
    "print(3,4,5,end=\"=\")\n",
    "print(12)\n",
    "print()\n",
    "\n",
    "\n",
    "print('print(3,4,5,end=\"=\",sep=\"+\"):\\n print(12)')\n",
    "print(3,4,5,end='=',sep='+')\n",
    "print(12)"
   ]
  }
 ],
 "metadata": {
  "kernelspec": {
   "display_name": "Python 3",
   "language": "python",
   "name": "python3"
  },
  "language_info": {
   "codemirror_mode": {
    "name": "ipython",
    "version": 3
   },
   "file_extension": ".py",
   "mimetype": "text/x-python",
   "name": "python",
   "nbconvert_exporter": "python",
   "pygments_lexer": "ipython3",
   "version": "3.7.2"
  }
 },
 "nbformat": 4,
 "nbformat_minor": 2
}
