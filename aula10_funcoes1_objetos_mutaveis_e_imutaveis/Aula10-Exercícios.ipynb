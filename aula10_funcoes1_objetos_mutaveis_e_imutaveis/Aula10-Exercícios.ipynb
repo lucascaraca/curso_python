{
 "cells": [
  {
   "cell_type": "code",
   "execution_count": 2,
   "metadata": {},
   "outputs": [
    {
     "data": {
      "text/plain": [
       "16"
      ]
     },
     "execution_count": 2,
     "metadata": {},
     "output_type": "execute_result"
    }
   ],
   "source": [
    "#027.: Escreva uma função que computa a^b, com a e b (sendo b inteiro) como parâmetros.\n",
    "\n",
    "def pot(a, b):\n",
    "    z=1\n",
    "    \n",
    "    if b!=0:\n",
    "        for i in range(0, b):\n",
    "            z=z*a\n",
    "        \n",
    "    return z\n",
    "\n",
    "pot(4, 2)"
   ]
  },
  {
   "cell_type": "code",
   "execution_count": 3,
   "metadata": {},
   "outputs": [
    {
     "name": "stdout",
     "output_type": "stream",
     "text": [
      "2**0 =1 \n",
      "2**1 =2 \n",
      "2**2 =4 \n",
      "2**3 =8 \n",
      "2**4 =16 \n",
      "2**5 =32 \n",
      "2**6 =64 \n",
      "2**7 =128 \n",
      "2**8 =256 \n",
      "2**9 =512 \n",
      "2**10 =1024 \n",
      "3**0 =1 \n",
      "3**1 =3 \n",
      "3**2 =9 \n",
      "3**3 =27 \n",
      "3**4 =81 \n",
      "3**5 =243 \n",
      "3**6 =729 \n",
      "3**7 =2187 \n",
      "3**8 =6561 \n",
      "3**9 =19683 \n",
      "3**10 =59049 \n",
      "4**0 =1 \n",
      "4**1 =4 \n",
      "4**2 =16 \n",
      "4**3 =64 \n",
      "4**4 =256 \n",
      "4**5 =1024 \n",
      "4**6 =4096 \n",
      "4**7 =16384 \n",
      "4**8 =65536 \n",
      "4**9 =262144 \n",
      "4**10 =1048576 \n",
      "5**0 =1 \n",
      "5**1 =5 \n",
      "5**2 =25 \n",
      "5**3 =125 \n",
      "5**4 =625 \n",
      "5**5 =3125 \n",
      "5**6 =15625 \n",
      "5**7 =78125 \n",
      "5**8 =390625 \n",
      "5**9 =1953125 \n",
      "5**10 =9765625 \n",
      "6**0 =1 \n",
      "6**1 =6 \n",
      "6**2 =36 \n",
      "6**3 =216 \n",
      "6**4 =1296 \n",
      "6**5 =7776 \n",
      "6**6 =46656 \n",
      "6**7 =279936 \n",
      "6**8 =1679616 \n",
      "6**9 =10077696 \n",
      "6**10 =60466176 \n",
      "7**0 =1 \n",
      "7**1 =7 \n",
      "7**2 =49 \n",
      "7**3 =343 \n",
      "7**4 =2401 \n",
      "7**5 =16807 \n",
      "7**6 =117649 \n",
      "7**7 =823543 \n",
      "7**8 =5764801 \n",
      "7**9 =40353607 \n",
      "7**10 =282475249 \n",
      "8**0 =1 \n",
      "8**1 =8 \n",
      "8**2 =64 \n",
      "8**3 =512 \n",
      "8**4 =4096 \n",
      "8**5 =32768 \n",
      "8**6 =262144 \n",
      "8**7 =2097152 \n",
      "8**8 =16777216 \n",
      "8**9 =134217728 \n",
      "8**10 =1073741824 \n",
      "9**0 =1 \n",
      "9**1 =9 \n",
      "9**2 =81 \n",
      "9**3 =729 \n",
      "9**4 =6561 \n",
      "9**5 =59049 \n",
      "9**6 =531441 \n",
      "9**7 =4782969 \n",
      "9**8 =43046721 \n",
      "9**9 =387420489 \n",
      "9**10 =3486784401 \n",
      "10**0 =1 \n",
      "10**1 =10 \n",
      "10**2 =100 \n",
      "10**3 =1000 \n",
      "10**4 =10000 \n",
      "10**5 =100000 \n",
      "10**6 =1000000 \n",
      "10**7 =10000000 \n",
      "10**8 =100000000 \n",
      "10**9 =1000000000 \n",
      "10**10 =10000000000 \n"
     ]
    }
   ],
   "source": [
    "#028.: Faça uma programa usando a função anterior que imprima todas as potências:\n",
    "# 2^0, 2^1, ..., 2^10, 3^0, ..., 3^10, ..., 10^10\n",
    "\n",
    "for i in range(2, 11):\n",
    "    for j in range(0, 11):\n",
    "        print('{}**{} ={} '.format(i, j, pot(i, j)))"
   ]
  },
  {
   "cell_type": "code",
   "execution_count": 5,
   "metadata": {},
   "outputs": [
    {
     "name": "stdout",
     "output_type": "stream",
     "text": [
      "fat(5) = 120\n"
     ]
    }
   ],
   "source": [
    "#029.: Escreva uma função que computa o fatorial de um número n passado por parâmetro.\n",
    "#Caso n<=0, o programa deve retornar 1.\n",
    "\n",
    "def fat(n):\n",
    "    fatn=1\n",
    "    \n",
    "    if n<=0:\n",
    "        return 1\n",
    "    \n",
    "    else:\n",
    "        for i in range(1, n+1):\n",
    "            fatn=fatn*i\n",
    "            \n",
    "        return fatn\n",
    "    \n",
    "print(\"fat(5) =\", fat(5))"
   ]
  },
  {
   "cell_type": "code",
   "execution_count": 23,
   "metadata": {},
   "outputs": [
    {
     "name": "stdout",
     "output_type": "stream",
     "text": [
      "1! = 1\n",
      "2! = 2\n",
      "3! = 6\n",
      "4! = 24\n",
      "5! = 120\n",
      "6! = 720\n",
      "7! = 5040\n",
      "8! = 40320\n",
      "9! = 362880\n",
      "10! = 3628800\n",
      "11! = 39916800\n",
      "12! = 479001600\n",
      "13! = 6227020800\n",
      "14! = 87178291200\n",
      "15! = 1307674368000\n",
      "16! = 20922789888000\n",
      "17! = 355687428096000\n",
      "18! = 6402373705728000\n",
      "19! = 121645100408832000\n",
      "20! = 2432902008176640000\n"
     ]
    }
   ],
   "source": [
    "#030: Com a função do exercício anterior, escreva um programa que imprima os valores de n! para n=1, ..., 20.\n",
    "\n",
    "def main():\n",
    "    for i in range (1, 21):\n",
    "        print('{}! = {}'.format(i, fat(i)))\n",
    "        \n",
    "def fat(n):\n",
    "    fatn=1\n",
    "    \n",
    "    if n<=0:\n",
    "        return 1\n",
    "    \n",
    "    else:\n",
    "        for i in range(1, n+1):\n",
    "            fatn=fatn*i\n",
    "            \n",
    "        return fatn\n",
    "    \n",
    "main()"
   ]
  }
 ],
 "metadata": {
  "kernelspec": {
   "display_name": "Python 3",
   "language": "python",
   "name": "python3"
  },
  "language_info": {
   "codemirror_mode": {
    "name": "ipython",
    "version": 3
   },
   "file_extension": ".py",
   "mimetype": "text/x-python",
   "name": "python",
   "nbconvert_exporter": "python",
   "pygments_lexer": "ipython3",
   "version": "3.7.2"
  }
 },
 "nbformat": 4,
 "nbformat_minor": 2
}
