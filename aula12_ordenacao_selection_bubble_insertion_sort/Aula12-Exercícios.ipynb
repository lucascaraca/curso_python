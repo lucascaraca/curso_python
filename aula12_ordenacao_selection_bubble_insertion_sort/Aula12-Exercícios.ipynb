{
 "cells": [
  {
   "cell_type": "code",
   "execution_count": 1,
   "metadata": {},
   "outputs": [],
   "source": [
    "#033.: Alterar os algoritmos de ordenação para que eles retornem listas de inteiros em ordem decrescente"
   ]
  },
  {
   "cell_type": "code",
   "execution_count": 2,
   "metadata": {},
   "outputs": [
    {
     "name": "stdout",
     "output_type": "stream",
     "text": [
      "lista= [1, -90, 0, 100, 10, 30]\n",
      "listaOrdenada= [100, 30, 10, 1, 0, -90]\n"
     ]
    }
   ],
   "source": [
    "#A) Selection Sort\n",
    "\n",
    "#########################################################################\n",
    "def iMaior(vet, ini):\n",
    "    #define o máximo como sendo o índice inicial\n",
    "    max=ini\n",
    "    \n",
    "    #varre toda lista\n",
    "    for j in range(ini, len(vet)):\n",
    "        #faz a troca do indice do máximo caso encontre um valor maior\n",
    "        if vet[max]<vet[j]:\n",
    "            max=j\n",
    "    \n",
    "    return max\n",
    "\n",
    "#########################################################################\n",
    "def selectionSort(vet):\n",
    "    for i in range(len(vet)-1):\n",
    "        max=iMaior(vet, i)\n",
    "        aux=vet[i]\n",
    "        vet[i]=vet[max]\n",
    "        vet[max]=aux\n",
    "        \n",
    "#########################################################################\n",
    "def main():\n",
    "    lista=[1, -90, 0, 100, 10, 30]\n",
    "    print('lista=', lista)\n",
    "    selectionSort(lista)\n",
    "    print('listaOrdenada=', lista)\n",
    "    \n",
    "#########################################################################\n",
    "main()"
   ]
  },
  {
   "cell_type": "code",
   "execution_count": 3,
   "metadata": {},
   "outputs": [
    {
     "name": "stdout",
     "output_type": "stream",
     "text": [
      "lista= [1, -90, 0, 100, 10, 30]\n",
      "listaOrdenada= [100, 30, 10, 1, 0, -90]\n"
     ]
    }
   ],
   "source": [
    "#B) BubbleSort\n",
    "\n",
    "def bubbleSort2(vet):\n",
    "    #indice corre em ordem decrescente\n",
    "    for i in range(len(vet)-1, 0, -1):\n",
    "        for j in range(i):\n",
    "            if vet[j]<vet[j+1]:\n",
    "                vet[j], vet[j+1]=vet[j+1], vet[j]\n",
    "                \n",
    "#########################################################################\n",
    "def main():\n",
    "    lista=[1, -90, 0, 100, 10, 30]\n",
    "    print('lista=', lista)\n",
    "    bubbleSort2(lista)\n",
    "    print('listaOrdenada=', lista)\n",
    "    \n",
    "#########################################################################\n",
    "main()"
   ]
  },
  {
   "cell_type": "code",
   "execution_count": 5,
   "metadata": {},
   "outputs": [
    {
     "name": "stdout",
     "output_type": "stream",
     "text": [
      "lista= [1, -90, 0, 100, 10, 30]\n",
      "listaOrdenada= [100, 30, 10, 1, 0, -90]\n"
     ]
    }
   ],
   "source": [
    "#C) InsertionSort\n",
    "\n",
    "def insertionSort2(vet):\n",
    "    \n",
    "    for i in range(1, len(vet)):\n",
    "        aux=vet[i]\n",
    "        j=i-1\n",
    "        while(j>=0 and vet[j]<aux):\n",
    "            vet[j+1]=vet[j]\n",
    "            j=j-1\n",
    "            \n",
    "        vet[j+1]=aux\n",
    "\n",
    "#########################################################################\n",
    "def main():\n",
    "    lista=[1, -90, 0, 100, 10, 30]\n",
    "    print('lista=', lista)\n",
    "    insertionSort2(lista)\n",
    "    print('listaOrdenada=', lista)\n",
    "    \n",
    "#########################################################################\n",
    "main()"
   ]
  },
  {
   "cell_type": "code",
   "execution_count": null,
   "metadata": {},
   "outputs": [],
   "source": []
  }
 ],
 "metadata": {
  "kernelspec": {
   "display_name": "Python 3",
   "language": "python",
   "name": "python3"
  },
  "language_info": {
   "codemirror_mode": {
    "name": "ipython",
    "version": 3
   },
   "file_extension": ".py",
   "mimetype": "text/x-python",
   "name": "python",
   "nbconvert_exporter": "python",
   "pygments_lexer": "ipython3",
   "version": "3.7.2"
  }
 },
 "nbformat": 4,
 "nbformat_minor": 2
}
