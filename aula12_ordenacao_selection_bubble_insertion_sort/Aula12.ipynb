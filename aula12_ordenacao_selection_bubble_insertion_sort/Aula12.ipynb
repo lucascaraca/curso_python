{
 "cells": [
  {
   "cell_type": "markdown",
   "metadata": {},
   "source": [
    "# Aula 12 #"
   ]
  },
  {
   "cell_type": "markdown",
   "metadata": {},
   "source": [
    "### 12.1: Ordenação ###"
   ]
  },
  {
   "cell_type": "markdown",
   "metadata": {},
   "source": [
    "Dada uma coleção de elementos com uma relação de ordem entre si (como números ou nomes em ordem alfabética), devemos gerar uma saída com os elementos ordenados.\n",
    "\n",
    "A ordenação é um importante problema a ser resolvido, pois através dela podemos realizar a criação de ranking, a preferência em atendimentos, a criação de listas e até mesmo para otimizar sistemas de busca e manutenção de estruturas de bancos de dados."
   ]
  },
  {
   "cell_type": "markdown",
   "metadata": {},
   "source": [
    "### 12.2: Selection-Sort ###"
   ]
  },
  {
   "cell_type": "markdown",
   "metadata": {},
   "source": [
    "Sendo *vet* uma lista qualquer, o algoritmo Selection-Sort funciona da seguinte maneira:\n",
    "\n",
    "1. Encontramos o menor elemento de vet a partir da posição 0. Trocamos esse elemento com o da posição 0.\n",
    "\n",
    "2. Encontramos o menor elemento de vet a partir da posição 1. Trocamos esse elemento com o da posição 1.\n",
    "\n",
    "3. Encontramos o menor elemento de vet a partir da posição 2. Trocamos esse elemento com o da posição 2.\n",
    "\n",
    "4. Continuamos assim até varrer todo a lista *vet*."
   ]
  },
  {
   "cell_type": "code",
   "execution_count": 1,
   "metadata": {},
   "outputs": [],
   "source": [
    "#Criando uma função que retorna o índice do elemento mínimo de um vetor, a partir de uma posição início\n",
    "\n",
    "#função recebe a lista e o índice inicial\n",
    "def iMenor(vet, ini):\n",
    "    #define o minimo como sendo o índice inicial\n",
    "    min=ini\n",
    "    \n",
    "    #varre toda lista\n",
    "    for j in range(ini, len(vet)):\n",
    "        #faz a troca do indice do mínimo caso encontre um valor menor\n",
    "        if vet[min]>vet[j]:\n",
    "            min=j\n",
    "    \n",
    "    return min"
   ]
  },
  {
   "cell_type": "code",
   "execution_count": 2,
   "metadata": {},
   "outputs": [],
   "source": [
    "#Criando a função Selection-Sort\n",
    "\n",
    "def selectionSort(vet):\n",
    "    for i in range(len(vet)-1):\n",
    "        min=iMenor(vet, i)\n",
    "        aux=vet[i]\n",
    "        vet[i]=vet[min]\n",
    "        vet[min]=aux"
   ]
  },
  {
   "cell_type": "code",
   "execution_count": 3,
   "metadata": {},
   "outputs": [
    {
     "name": "stdout",
     "output_type": "stream",
     "text": [
      "[4, 8, 10, 10, 17.8, 17.9, 21, 23, 100]\n"
     ]
    }
   ],
   "source": [
    "#EXEMPLO 12.1: Aplicando o selectionSort\n",
    "\n",
    "lista=[8, 10, 4, 17.9, 17.8, 23, 21, 100, 10]\n",
    "\n",
    "selectionSort(lista)\n",
    "print(lista)"
   ]
  },
  {
   "cell_type": "markdown",
   "metadata": {},
   "source": [
    "Como a troca de valores entre duas posições é comum quando utilizamos listas, o Python possui uma sintaxe resumida para realizar essa troca. O algoritmo Selecion-Sorte, nessa nova sintaxe, fica assim:"
   ]
  },
  {
   "cell_type": "code",
   "execution_count": 13,
   "metadata": {},
   "outputs": [
    {
     "name": "stdout",
     "output_type": "stream",
     "text": [
      "lista= [1, -90, 0, 100, 10, 30]\n",
      "listaOrdenada= [-90, 0, 1, 10, 30, 100]\n"
     ]
    }
   ],
   "source": [
    "def iMenor(vet, ini):\n",
    "    min=ini\n",
    "    \n",
    "    \n",
    "    for j in range(ini, len(vet)):\n",
    "        if vet[min]>vet[j]:\n",
    "            min=j\n",
    "    \n",
    "    return min\n",
    "\n",
    "\n",
    "\n",
    "def selectionSort(vet):\n",
    "    for i in range(len(vet)-1):\n",
    "        min=iMenor(vet, i)\n",
    "        vet[i], vet[min]=vet[min], vet[i]\n",
    "        \n",
    "lista=[1, -90, 0, 100, 10, 30]\n",
    "print('lista=', lista)\n",
    "selectionSort(lista)\n",
    "print('listaOrdenada=', lista)"
   ]
  },
  {
   "cell_type": "markdown",
   "metadata": {},
   "source": [
    "### 12.3: Bubble-Sort ###"
   ]
  },
  {
   "cell_type": "markdown",
   "metadata": {},
   "source": [
    "Sendo vet uma lista qualquer, o algoritmo Bubble-Sort funciona da seguinte maneira:\n",
    "\n",
    "1. Compare vet(0) com vet(1) e troque-os se vet(0)>vet(1)\n",
    "\n",
    "\n",
    "2. Compare vet(1) com(2) e troque-os se vet(1)>vet(2)\n",
    "\n",
    "...\n",
    "\n",
    "3. Compare vet(tam-2) com vet(tam-1) e troque-os se vet(tam-2) > vet(tam-1)\n",
    "\n",
    "Após uma iteração completa, o maior elemento estará na posição correta!\n",
    "\n",
    "4. Realizar o procedimento de novo, porém até tam-2 e depois até tam-3, etc."
   ]
  },
  {
   "cell_type": "code",
   "execution_count": 10,
   "metadata": {},
   "outputs": [],
   "source": [
    "def bubbleSort(vet):\n",
    "    #indice corre em ordem decrescente\n",
    "    for i in range(len(vet)-1, 0, -1):\n",
    "        for j in range(i):\n",
    "            if vet[j]>vet[j+1]:\n",
    "                vet[j], vet[j+1]=vet[j+1], vet[j]"
   ]
  },
  {
   "cell_type": "markdown",
   "metadata": {},
   "source": [
    "### 12.4: Insertion-Sort ###"
   ]
  },
  {
   "cell_type": "markdown",
   "metadata": {},
   "source": [
    "Seja *vet* uma lista contendo números. O algoritmo Insertion-Sort funciona da seguinte maneira:\n",
    "\n",
    "1. Assumimos que uma porção da posição 0 até i-1 da lista está ordenada;\n",
    "\n",
    "\n",
    "2. Inserimos então o item da posição i para deixar a lista ordenada até i;\n",
    "\n",
    "\n",
    "3. Assumimos então que a lista está ordenada até a posição i e repetimos o processo para i+1."
   ]
  },
  {
   "cell_type": "code",
   "execution_count": 12,
   "metadata": {},
   "outputs": [
    {
     "name": "stdout",
     "output_type": "stream",
     "text": [
      "lista= [1, -90, 0, 100, 10, 30]\n",
      "listaOrdenada= [-90, 0, 1, 10, 30, 100]\n"
     ]
    }
   ],
   "source": [
    "def insertionSort(vet):\n",
    "    \n",
    "    for i in range(1, len(vet)):\n",
    "        aux=vet[i]\n",
    "        j=i-1\n",
    "        while(j>=0 and vet[j]>aux):\n",
    "            vet[j+1]=vet[j]\n",
    "            j=j-1\n",
    "            \n",
    "        vet[j+1]=aux\n",
    "        \n",
    "lista=[1, -90, 0, 100, 10, 30]\n",
    "print('lista=', lista)\n",
    "insertionSort(lista)\n",
    "print('listaOrdenada=', lista)"
   ]
  },
  {
   "cell_type": "code",
   "execution_count": null,
   "metadata": {},
   "outputs": [],
   "source": []
  }
 ],
 "metadata": {
  "kernelspec": {
   "display_name": "Python 3",
   "language": "python",
   "name": "python3"
  },
  "language_info": {
   "codemirror_mode": {
    "name": "ipython",
    "version": 3
   },
   "file_extension": ".py",
   "mimetype": "text/x-python",
   "name": "python",
   "nbconvert_exporter": "python",
   "pygments_lexer": "ipython3",
   "version": "3.7.2"
  }
 },
 "nbformat": 4,
 "nbformat_minor": 2
}
