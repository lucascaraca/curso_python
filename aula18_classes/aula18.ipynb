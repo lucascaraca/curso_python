{
 "cells": [
  {
   "cell_type": "markdown",
   "metadata": {},
   "source": [
    "# AULA 18: Classes #"
   ]
  },
  {
   "cell_type": "markdown",
   "metadata": {},
   "source": [
    "## 18.1: Definição ##"
   ]
  },
  {
   "cell_type": "markdown",
   "metadata": {},
   "source": [
    "Uma Classe é um mecanismo em Python para agrupar variáveis e métodos/funções, que podem ser de diferentes tipos, mas que dentro de um contexto fazem sentido estarem juntas.\n",
    "\n",
    "Como exemplo, podemos ter um registro de alunos, que contém os nomes, os ras, as notas e o CR."
   ]
  },
  {
   "cell_type": "markdown",
   "metadata": {},
   "source": [
    "## 18.2: Declaração de uma Classe ##"
   ]
  },
  {
   "cell_type": "markdown",
   "metadata": {},
   "source": [
    "Para declarar uma classe utilizamos a seguinte sintaxe:\n",
    "\n",
    "class < className >:\n",
    "    < classVariables >\n",
    "    \n",
    "    def __init__(self):\n",
    "        self.< instanceVariables >\n",
    "        \n",
    "     < method_1 >\n",
    "     ...\n",
    "     < method_m >"
   ]
  },
  {
   "cell_type": "markdown",
   "metadata": {},
   "source": [
    "Uma vez que a Classe é criada, ela passa a ser entendida como um novo tipo de variável (como *int, float, list, etc.*"
   ]
  },
  {
   "cell_type": "markdown",
   "metadata": {},
   "source": [
    "### 18.2.1: Instância de uma classe ###"
   ]
  },
  {
   "cell_type": "markdown",
   "metadata": {},
   "source": [
    "As instâncias de uma classe são os **objetos** dela. Por exemplo, se estamos criando uma Classe que contenha os nomes e as notas dos alunos, os nomes e as notas serão as instâncias dessa Classe."
   ]
  },
  {
   "cell_type": "code",
   "execution_count": 1,
   "metadata": {},
   "outputs": [],
   "source": [
    "#EXEMPLO 18.1: Criando uma classe\n",
    "\n",
    "##################################################################\n",
    "class Aluno:\n",
    "    def __init__(self):\n",
    "        self.nome=\"\"\n",
    "        self.notas=[]\n",
    "\n",
    "##################################################################        \n",
    "def main():\n",
    "    a=Aluno() #cria um objeto do tipo Aluno com dois campos: nome e notas\n",
    "    b=Aluno() #faz o mesmo que o anterior\n",
    "    \n",
    "##################################################################\n",
    "main()"
   ]
  },
  {
   "cell_type": "markdown",
   "metadata": {},
   "source": [
    "### 18.2.2: Utilizando os campos de uma classe ###"
   ]
  },
  {
   "cell_type": "markdown",
   "metadata": {},
   "source": [
    "Para acessar individualmente os campos de uma variável do tipo da classe criada digitamos:\n",
    "\n",
    "    < variableName >.< instanceName >\n",
    "    \n",
    "As instâncias (campos) individuais de um objeto tem o mesmo comportamento de qualquer variável e, portanto, está sujeita as mesmas operações possíveis para a variável do tipo do campo em questão."
   ]
  },
  {
   "cell_type": "code",
   "execution_count": 4,
   "metadata": {},
   "outputs": [
    {
     "name": "stdout",
     "output_type": "stream",
     "text": [
      "a = <__main__.Aluno object at 0x0000017163223EB8>\n",
      "b = <__main__.Aluno object at 0x0000017163223F28>\n",
      "\n",
      "a.nome = João\n",
      "a.notas = [7.6]\n",
      "a = <__main__.Aluno object at 0x0000017163223EB8>\n",
      "\n",
      "b.nome = Maria\n",
      "b.notas = [8.5]\n",
      "b = <__main__.Aluno object at 0x0000017163223F28>\n"
     ]
    }
   ],
   "source": [
    "#EXEMPLO 18.2: Acessando os campos de uma variável\n",
    "\n",
    "################################################################################################################################\n",
    "class Aluno:\n",
    "    def __init__(self):\n",
    "        self.nome=\"\"\n",
    "        self.notas=[]\n",
    "\n",
    "################################################################################################################################        \n",
    "def main():\n",
    "    a=Aluno() #cria um objeto do tipo Aluno com dois campos: nome e notas\n",
    "    b=Aluno() #faz o mesmo que o anterior\n",
    "    \n",
    "    print('a =', a)\n",
    "    print('b =', b)\n",
    "    print()\n",
    "    \n",
    "    a.nome=\"João\"\n",
    "    a.notas.append(7.6)\n",
    "    \n",
    "    b.nome=\"Maria\"\n",
    "    b.notas.append(8.5)\n",
    "    \n",
    "    print(\"a.nome =\", a.nome)\n",
    "    print(\"a.notas =\", a.notas)\n",
    "    print(\"a =\", a)\n",
    "    print()\n",
    "    \n",
    "    print(\"b.nome =\", b.nome)\n",
    "    print(\"b.notas =\", b.notas)\n",
    "    print(\"b =\", b)    \n",
    "    \n",
    "################################################################################################################################\n",
    "main()"
   ]
  },
  {
   "cell_type": "markdown",
   "metadata": {},
   "source": [
    "### 18.2.3: Variáveis da Classe x Variáveis da Instância ###"
   ]
  },
  {
   "cell_type": "markdown",
   "metadata": {},
   "source": [
    "As variáveis da classe são compartilhadas por todos os objetos daquela classe, enquanto que as da instância pertencem a CADA um dos objetos do tipo da classe.\n",
    "\n",
    "Veja o exemplo abaixo para entender melhor."
   ]
  },
  {
   "cell_type": "code",
   "execution_count": 8,
   "metadata": {},
   "outputs": [
    {
     "name": "stdout",
     "output_type": "stream",
     "text": [
      "a = <__main__.Aluno object at 0x0000017163219D30>\n",
      "b = <__main__.Aluno object at 0x00000171632197F0>\n",
      "\n",
      "a.nome = João\n",
      "a.notas = [7.6, 8.5]\n",
      "a = <__main__.Aluno object at 0x0000017163219D30>\n",
      "\n",
      "b.nome = Maria\n",
      "b.notas = [7.6, 8.5]\n",
      "b = <__main__.Aluno object at 0x00000171632197F0>\n",
      "\n",
      "Repare que, a variável notas da Classe é compartilhada para todos os objetos\n"
     ]
    }
   ],
   "source": [
    "#EXEMPLO 18.3: Explorando as diferenças\n",
    "\n",
    "################################################################################################################################\n",
    "class Aluno:\n",
    "    notas=[]\n",
    "    def __init__(self):\n",
    "        self.nome=\"\"\n",
    "\n",
    "################################################################################################################################        \n",
    "def main():\n",
    "    a=Aluno() #cria um objeto do tipo Aluno com dois campos: nome e notas\n",
    "    b=Aluno() #faz o mesmo que o anterior\n",
    "    \n",
    "    print('a =', a)\n",
    "    print('b =', b)\n",
    "    print()\n",
    "    \n",
    "    a.nome=\"João\"\n",
    "    a.notas.append(7.6)\n",
    "    \n",
    "    b.nome=\"Maria\"\n",
    "    b.notas.append(8.5)\n",
    "    \n",
    "    print(\"a.nome =\", a.nome)\n",
    "    print(\"a.notas =\", a.notas)\n",
    "    print(\"a =\", a)\n",
    "    print()\n",
    "    \n",
    "    print(\"b.nome =\", b.nome)\n",
    "    print(\"b.notas =\", b.notas)\n",
    "    print(\"b =\", b)    \n",
    "    \n",
    "################################################################################################################################\n",
    "main()\n",
    "print()\n",
    "\n",
    "print('Repare que, a variável notas da Classe é compartilhada para todos os objetos')"
   ]
  },
  {
   "cell_type": "markdown",
   "metadata": {},
   "source": [
    "## 18.3: Lendo e escrevendo Classes ##"
   ]
  },
  {
   "cell_type": "markdown",
   "metadata": {},
   "source": [
    "Assim como a escrita (visto acima), a leitura dos campos de um objeto do tipo classe deve ser feita campo a campo, como se fossem variáveis independentes."
   ]
  },
  {
   "cell_type": "code",
   "execution_count": 9,
   "metadata": {},
   "outputs": [
    {
     "name": "stdout",
     "output_type": "stream",
     "text": [
      "a = <__main__.Aluno object at 0x00000171632C0B70>\n",
      "b = <__main__.Aluno object at 0x00000171632C0C88>\n",
      "\n",
      "Digite um nome: Osvaldinho\n",
      "Digite a nota correspondente: 8\n",
      "\n",
      "Digite um nome: Pâmela\n",
      "Digite a nota correspondente: 9.8\n",
      "\n",
      "a.nome = Osvaldinho\n",
      "a.notas = [8.0]\n",
      "a = <__main__.Aluno object at 0x00000171632C0B70>\n",
      "\n",
      "b.nome = Pâmela\n",
      "b.notas = [9.8]\n",
      "b = <__main__.Aluno object at 0x00000171632C0C88>\n"
     ]
    }
   ],
   "source": [
    "#EXEMPLO 18.4: Lendo os campos de uma classe\n",
    "\n",
    "################################################################################################################################\n",
    "class Aluno:\n",
    "    def __init__(self):\n",
    "        self.nome=\"\"\n",
    "        self.notas=[]\n",
    "\n",
    "################################################################################################################################        \n",
    "def main():\n",
    "    a=Aluno() #cria um objeto do tipo Aluno com dois campos: nome e notas\n",
    "    b=Aluno() #faz o mesmo que o anterior\n",
    "    \n",
    "    print('a =', a)\n",
    "    print('b =', b)\n",
    "    print()\n",
    "    \n",
    "    a.nome=input(\"Digite um nome: \")\n",
    "    a.notas.append(float(input(\"Digite a nota correspondente: \")))\n",
    "    print()\n",
    "    \n",
    "    b.nome=input(\"Digite um nome: \")\n",
    "    b.notas.append(float(input(\"Digite a nota correspondente: \")))\n",
    "    print()\n",
    "    \n",
    "    print(\"a.nome =\", a.nome)\n",
    "    print(\"a.notas =\", a.notas)\n",
    "    print(\"a =\", a)\n",
    "    print()\n",
    "    \n",
    "    print(\"b.nome =\", b.nome)\n",
    "    print(\"b.notas =\", b.notas)\n",
    "    print(\"b =\", b)    \n",
    "    \n",
    "################################################################################################################################\n",
    "main()"
   ]
  },
  {
   "cell_type": "markdown",
   "metadata": {},
   "source": [
    "### 18.3.1: Atribuição de Objetos ###"
   ]
  },
  {
   "cell_type": "markdown",
   "metadata": {},
   "source": [
    "Podemos atribuir um objeto a outro, isto é, podemos nos referir a um mesmo objeto a partir de duas variáveis diferentes.\n",
    "\n",
    "Para isso basta fazermos:\n",
    "\n",
    "< variableName1 > = < variableName2 >\n",
    "\n",
    "Após fazer a associação acima qualquer mudança nos valores de uma das variáveis altera o valor da outra."
   ]
  },
  {
   "cell_type": "code",
   "execution_count": 12,
   "metadata": {},
   "outputs": [
    {
     "name": "stdout",
     "output_type": "stream",
     "text": [
      "a = <__main__.Aluno object at 0x00000171632195C0>\n",
      "b = <__main__.Aluno object at 0x00000171632C7F98>\n",
      "\n",
      "################ ANTES DA ATRIBUIÇÃO ################\n",
      "\n",
      "a.nome = João\n",
      "a.notas = [7.6]\n",
      "a = <__main__.Aluno object at 0x00000171632195C0>\n",
      "\n",
      "b.nome = Maria\n",
      "b.notas = [8.5]\n",
      "b = <__main__.Aluno object at 0x00000171632C7F98>\n",
      "\n",
      "################ DEPOIS DA ATRIBUIÇÃO ################\n",
      "\n",
      "a=b\n",
      "a.nome = Maria\n",
      "a.notas= [8.5]\n",
      "b.nome = Maria\n",
      "b.notas = [8.5]\n",
      "\n",
      "a.nome = \"Robertinho\"\n",
      "\n",
      "a.nome = Robertinho\n",
      "a.notas= [8.5]\n",
      "b.nome = Robertinho\n",
      "b.notas = [8.5]\n"
     ]
    }
   ],
   "source": [
    "#EXEMPLO 18.5: Atribuição de objetos\n",
    "\n",
    "################################################################################################################################\n",
    "class Aluno:\n",
    "    def __init__(self):\n",
    "        self.nome=\"\"\n",
    "        self.notas=[]\n",
    "\n",
    "################################################################################################################################        \n",
    "def main():\n",
    "    a=Aluno() #cria um objeto do tipo Aluno com dois campos: nome e notas\n",
    "    b=Aluno() #faz o mesmo que o anterior\n",
    "    \n",
    "    print('a =', a)\n",
    "    print('b =', b)\n",
    "    print()\n",
    "    \n",
    "    a.nome=\"João\"\n",
    "    a.notas.append(7.6)\n",
    "    \n",
    "    b.nome=\"Maria\"\n",
    "    b.notas.append(8.5)\n",
    "    \n",
    "    print(\"################ ANTES DA ATRIBUIÇÃO ################\")\n",
    "    print()\n",
    "    \n",
    "    print(\"a.nome =\", a.nome)\n",
    "    print(\"a.notas =\", a.notas)\n",
    "    print(\"a =\", a)\n",
    "    print()\n",
    "    \n",
    "    print(\"b.nome =\", b.nome)\n",
    "    print(\"b.notas =\", b.notas)\n",
    "    print(\"b =\", b)    \n",
    "    print()\n",
    "    \n",
    "    print(\"################ DEPOIS DA ATRIBUIÇÃO ################\")\n",
    "    print()\n",
    "    \n",
    "    a=b\n",
    "    print('a=b')\n",
    "    print('a.nome =', a.nome)\n",
    "    print('a.notas=', a.notas)\n",
    "    print('b.nome =', b.nome)\n",
    "    print('b.notas =', b.notas)\n",
    "    print()\n",
    "    \n",
    "    a.nome=\"Robertinho\"\n",
    "    print('a.nome = \"Robertinho\"')\n",
    "    print()\n",
    "    \n",
    "    print('a.nome =', a.nome)\n",
    "    print('a.notas=', a.notas)\n",
    "    print('b.nome =', b.nome)\n",
    "    print('b.notas =', b.notas)\n",
    "################################################################################################################################\n",
    "main()"
   ]
  },
  {
   "cell_type": "markdown",
   "metadata": {},
   "source": [
    "### 18.3.2: Lista de Objetos ###"
   ]
  },
  {
   "cell_type": "markdown",
   "metadata": {},
   "source": [
    "Uma lista pode conter quaisquer objetos, inclusive os do tipo de Classes.\n",
    "\n",
    "Veja o exemplo abaixo."
   ]
  },
  {
   "cell_type": "code",
   "execution_count": 15,
   "metadata": {},
   "outputs": [
    {
     "name": "stdout",
     "output_type": "stream",
     "text": [
      "a = <__main__.Aluno object at 0x00000171632C7898>\n",
      "b = <__main__.Aluno object at 0x00000171632C7860>\n",
      "\n",
      "lista = [a, b] = [<__main__.Aluno object at 0x00000171632C7898>, <__main__.Aluno object at 0x00000171632C7860>]\n",
      "\n",
      "<__main__.Aluno object at 0x00000171632C7898>.nome = João\n",
      "<__main__.Aluno object at 0x00000171632C7898>.notas = [7.6]\n",
      "\n",
      "<__main__.Aluno object at 0x00000171632C7860>.nome = Maria\n",
      "<__main__.Aluno object at 0x00000171632C7860>.notas = [8.5]\n",
      "\n"
     ]
    }
   ],
   "source": [
    "#EXEMPLO 18.6: Classes em Listas\n",
    "\n",
    "################################################################################################################################\n",
    "class Aluno:\n",
    "    def __init__(self):\n",
    "        self.nome=\"\"\n",
    "        self.notas=[]\n",
    "\n",
    "################################################################################################################################        \n",
    "def main():\n",
    "    a=Aluno() #cria um objeto do tipo Aluno com dois campos: nome e notas\n",
    "    b=Aluno() #faz o mesmo que o anterior\n",
    "    \n",
    "    print('a =', a)\n",
    "    print('b =', b)\n",
    "    print()\n",
    "    \n",
    "    a.nome=\"João\"\n",
    "    a.notas.append(7.6)\n",
    "    \n",
    "    b.nome=\"Maria\"\n",
    "    b.notas.append(8.5)\n",
    "     \n",
    "    \n",
    "    lista=[a, b]\n",
    "    print('lista = [a, b] =', lista)\n",
    "    print()\n",
    "    \n",
    "    for i in lista:\n",
    "        print('{}.nome ='.format(i), i.nome)\n",
    "        print('{}.notas ='.format(i), i.notas)\n",
    "        print()\n",
    "\n",
    "################################################################################################################################\n",
    "main()"
   ]
  },
  {
   "cell_type": "markdown",
   "metadata": {},
   "source": [
    "### 18.3.3: Funções e Objetos ###"
   ]
  },
  {
   "cell_type": "markdown",
   "metadata": {},
   "source": [
    "Um classe, assim como outros objetos, também pode ser o retorno de uma função."
   ]
  },
  {
   "cell_type": "code",
   "execution_count": 3,
   "metadata": {},
   "outputs": [
    {
     "name": "stdout",
     "output_type": "stream",
     "text": [
      "Digite o nome do aluno:Teste1\n",
      "Digite a nota do aluno:10\n",
      "\n",
      "Digite o nome do aluno:Teste2\n",
      "Digite a nota do aluno:7\n",
      "\n",
      "Nome: Teste1\n",
      "Notas: [10.0]\n",
      "\n",
      "Nome: Teste2\n",
      "Notas: [7.0]\n"
     ]
    }
   ],
   "source": [
    "#EXEMPLO 18.7: Retornando uma classe em uma função\n",
    "\n",
    "################################################################################################################################\n",
    "class Aluno:\n",
    "    def __init__(self):\n",
    "        self.nome=''\n",
    "        self.notas=[]\n",
    "\n",
    "        \n",
    "################################################################################################################################\n",
    "def imprimeAluno(a):\n",
    "    print(\"Nome:\", a.nome)\n",
    "    print(\"Notas:\", a.notas)\n",
    "\n",
    "    \n",
    "################################################################################################################################\n",
    "def leAluno():\n",
    "    a=Aluno()\n",
    "    a.nome=input(\"Digite o nome do aluno:\")\n",
    "    a.notas.append(float(input(\"Digite a nota do aluno:\")))\n",
    "    return a\n",
    "\n",
    "################################################################################################################################\n",
    "def main():\n",
    "    a=leAluno()\n",
    "    print()\n",
    "    b=leAluno()\n",
    "    \n",
    "    print()\n",
    "    imprimeAluno(a)\n",
    "    print()\n",
    "    imprimeAluno(b)\n",
    "    \n",
    "\n",
    "################################################################################################################################\n",
    "main()"
   ]
  },
  {
   "cell_type": "markdown",
   "metadata": {},
   "source": [
    "## 18.4: Métodos da Classe ##"
   ]
  },
  {
   "cell_type": "markdown",
   "metadata": {},
   "source": [
    "É possível criar funções dentro de uma classe: essas funções são chamadas de métodos.\n",
    "\n",
    "Para criá-las usamos a seguinte sintaxe:\n",
    "\n",
    "def < methodName >(self):\n",
    "\n",
    "Para acessá-las utilizamos a mesma sintaxe utilizada para acessar as variáveis da classe ou seja:\n",
    "\n",
    "< variable>.< class >.< methodName >"
   ]
  },
  {
   "cell_type": "code",
   "execution_count": 6,
   "metadata": {},
   "outputs": [
    {
     "name": "stdout",
     "output_type": "stream",
     "text": [
      "Digite o nome do aluno:Teste3\n",
      "Digite a nota do aluno:8\n",
      "\n",
      "Digite o nome do aluno:Teste4\n",
      "Digite a nota do aluno:9\n",
      "\n",
      "Nome: Teste3\n",
      "Notas: [8.0]\n",
      "\n",
      "Nome: Teste4\n",
      "Notas: [9.0]\n"
     ]
    }
   ],
   "source": [
    "#EXEMPLO 18.8: Métodos em classes\n",
    "\n",
    "################################################################################################################################\n",
    "class Aluno:\n",
    "    def __init__(self):\n",
    "        self.nome=''\n",
    "        self.notas=[]\n",
    "\n",
    "        \n",
    "\n",
    "    def printAluno(self):\n",
    "        print(\"Nome:\", self.nome)\n",
    "        print(\"Notas:\", self.notas)\n",
    "\n",
    "\n",
    "\n",
    "    def input(self):\n",
    "        self.nome=input(\"Digite o nome do aluno:\")\n",
    "        self.notas.append(float(input(\"Digite a nota do aluno:\")))\n",
    "        return a\n",
    "\n",
    "################################################################################################################################\n",
    "a=Aluno()\n",
    "b=Aluno()\n",
    "\n",
    "a.input()\n",
    "print()\n",
    "b.input()\n",
    "print()\n",
    "\n",
    "a.printAluno()\n",
    "print()\n",
    "b.printAluno()"
   ]
  },
  {
   "cell_type": "code",
   "execution_count": 12,
   "metadata": {},
   "outputs": [
    {
     "name": "stdout",
     "output_type": "stream",
     "text": [
      "Imprimindo Cadastro\n",
      "\n",
      "Nome: AA\n",
      "Notas: []\n",
      "Nome: BB\n",
      "Notas: []\n",
      "\n",
      "Imprimindo Cadastro\n",
      "\n",
      "Nome: BB\n",
      "Notas: []\n"
     ]
    }
   ],
   "source": [
    "#EXEMPLO 18.9: Simulador de cadastro de alunos da turma\n",
    "\n",
    "'''o programa irá incluir ou excluir um aluno e imprimirá os dados do aluno no cadastro'''\n",
    "################################################################################################################################\n",
    "class Aluno:\n",
    "    def __init__(self):\n",
    "        self.nome=''\n",
    "        self.notas=[]\n",
    "\n",
    "        \n",
    "\n",
    "    def printAluno(self):\n",
    "        print(\"Nome:\", self.nome)\n",
    "        print(\"Notas:\", self.notas)\n",
    "\n",
    "\n",
    "\n",
    "    def input(self):\n",
    "        self.nome=input(\"Digite o nome do aluno:\")\n",
    "        self.notas.append(float(input(\"Digite a nota do aluno:\")))\n",
    "        return a\n",
    "\n",
    "\n",
    "################################################################################################################################\n",
    "class Cadastro:\n",
    "    def __init__(self):\n",
    "        self.cadastro=[]\n",
    "    \n",
    "    \n",
    "    def incluiAluno(self, a):\n",
    "        self.cadastro.append(a)\n",
    "    \n",
    "    \n",
    "    def excluiAluno(self, a):\n",
    "        for i in self.cadastro:\n",
    "            if i.nome == a.nome:\n",
    "                self.cadastro.remove(i)\n",
    "    \n",
    "    \n",
    "    def printCad(self):\n",
    "        print(\"Imprimindo Cadastro\")\n",
    "        print()\n",
    "        \n",
    "        for a in self.cadastro:\n",
    "            a.printAluno()\n",
    "    \n",
    "\n",
    "################################################################################################################################\n",
    "def main():\n",
    "    #cria uma classe Cadastro com o nome cad\n",
    "    cad=Cadastro()\n",
    "    \n",
    "    #cria classes para os alunos a e b\n",
    "    a=Aluno()\n",
    "    b=Aluno()\n",
    "    \n",
    "    #nomeia as variáveis a e b\n",
    "    a.nome=\"AA\"\n",
    "    b.nome=\"BB\"\n",
    "    \n",
    "    #inclui os alunos a e b na classe do Cadastro dos alunos\n",
    "    cad.incluiAluno(a)\n",
    "    cad.incluiAluno(b)\n",
    "    \n",
    "    #imprime o cadastro de todos os alunos\n",
    "    cad.printCad()\n",
    "    print()\n",
    "    \n",
    "    #cria um novo aluno e o nomeia com o mesmo nome de AA\n",
    "    c=Aluno()\n",
    "    c.nome=\"AA\"\n",
    "    \n",
    "    #após isso exclui o aluno c do cadastro.\n",
    "    cad.excluiAluno(c) #mesmo o C não sendo incluido no cadastro, como ele possui o mesmo nome que a, ele foi excluido.\n",
    "    cad.printCad()\n",
    "    \n",
    "################################################################################################################################\n",
    "main()"
   ]
  },
  {
   "cell_type": "code",
   "execution_count": null,
   "metadata": {},
   "outputs": [],
   "source": []
  }
 ],
 "metadata": {
  "kernelspec": {
   "display_name": "Python 3",
   "language": "python",
   "name": "python3"
  },
  "language_info": {
   "codemirror_mode": {
    "name": "ipython",
    "version": 3
   },
   "file_extension": ".py",
   "mimetype": "text/x-python",
   "name": "python",
   "nbconvert_exporter": "python",
   "pygments_lexer": "ipython3",
   "version": "3.7.2"
  }
 },
 "nbformat": 4,
 "nbformat_minor": 2
}
