{
 "cells": [
  {
   "cell_type": "markdown",
   "metadata": {},
   "source": [
    "# Aula 17 #"
   ]
  },
  {
   "cell_type": "markdown",
   "metadata": {},
   "source": [
    "### 17.1 Exceções ###"
   ]
  },
  {
   "cell_type": "markdown",
   "metadata": {},
   "source": [
    "#### 17.1.1: Definição e importância #### "
   ]
  },
  {
   "cell_type": "markdown",
   "metadata": {},
   "source": [
    "Exceções são objetos utilizados em Python para avisar que algum problema ocorreu durante a execução de algum comando e assim evitar que todo o resto do programa pare de ser executado, como quando acessamos uma posição inválida de uma lista, como no exemplo 17.1, abaixo."
   ]
  },
  {
   "cell_type": "code",
   "execution_count": 1,
   "metadata": {},
   "outputs": [
    {
     "name": "stdout",
     "output_type": "stream",
     "text": [
      "l = [1, 2, 3]\n",
      "l[3]="
     ]
    },
    {
     "ename": "IndexError",
     "evalue": "list index out of range",
     "output_type": "error",
     "traceback": [
      "\u001b[1;31m---------------------------------------------------------------------------\u001b[0m",
      "\u001b[1;31mIndexError\u001b[0m                                Traceback (most recent call last)",
      "\u001b[1;32m<ipython-input-1-3dd8a089d53f>\u001b[0m in \u001b[0;36m<module>\u001b[1;34m\u001b[0m\n\u001b[0;32m      4\u001b[0m \u001b[0mprint\u001b[0m\u001b[1;33m(\u001b[0m\u001b[1;34m'l ='\u001b[0m\u001b[1;33m,\u001b[0m \u001b[0ml\u001b[0m\u001b[1;33m)\u001b[0m\u001b[1;33m\u001b[0m\u001b[1;33m\u001b[0m\u001b[0m\n\u001b[0;32m      5\u001b[0m \u001b[0mprint\u001b[0m\u001b[1;33m(\u001b[0m\u001b[1;34m'l[3]='\u001b[0m\u001b[1;33m,\u001b[0m \u001b[0mend\u001b[0m\u001b[1;33m=\u001b[0m\u001b[1;34m''\u001b[0m\u001b[1;33m)\u001b[0m\u001b[1;33m\u001b[0m\u001b[1;33m\u001b[0m\u001b[0m\n\u001b[1;32m----> 6\u001b[1;33m \u001b[0mprint\u001b[0m\u001b[1;33m(\u001b[0m\u001b[0ml\u001b[0m\u001b[1;33m[\u001b[0m\u001b[1;36m3\u001b[0m\u001b[1;33m]\u001b[0m\u001b[1;33m)\u001b[0m\u001b[1;33m\u001b[0m\u001b[1;33m\u001b[0m\u001b[0m\n\u001b[0m\u001b[0;32m      7\u001b[0m \u001b[0ml\u001b[0m\u001b[1;33m.\u001b[0m\u001b[0mappend\u001b[0m\u001b[1;33m(\u001b[0m\u001b[1;36m4\u001b[0m\u001b[1;33m)\u001b[0m\u001b[1;33m\u001b[0m\u001b[1;33m\u001b[0m\u001b[0m\n\u001b[0;32m      8\u001b[0m \u001b[0mprint\u001b[0m\u001b[1;33m(\u001b[0m\u001b[1;34m'l'\u001b[0m\u001b[1;33m)\u001b[0m\u001b[1;33m\u001b[0m\u001b[1;33m\u001b[0m\u001b[0m\n",
      "\u001b[1;31mIndexError\u001b[0m: list index out of range"
     ]
    }
   ],
   "source": [
    "#EXEMPLO 17.1: IndexError\n",
    "\n",
    "l=[1, 2, 3]\n",
    "print('l =', l)\n",
    "print('l[3]=', end='')\n",
    "print(l[3])\n",
    "l.append(4)\n",
    "print('l')\n",
    "print('l[3]=',l[3])"
   ]
  },
  {
   "cell_type": "markdown",
   "metadata": {},
   "source": [
    "O programa acima, ao invés de ser paralisado completamente, poderia simplesmente enviar uma mensagem de erro para o usuário e continuar a execução do código, por exemplo. \n",
    "\n",
    "Para um programa não ser paralisado e encerrado por conta disso é importante identificarmos TODAS as possíveis falhas que ele possa a vir encontrar e então tratá-las de maneira adequada.\n",
    "\n",
    "Para fazer isso em Python, usamos a seguinte estrutura:\n",
    "\n",
    "\n",
    "try:\n",
    "\n",
    "        < comandos >\n",
    "        \n",
    "        \n",
    "except < errorName>:\n",
    "\n",
    "        < comandos >\n",
    "        \n",
    "        \n",
    "Essa estrutura faz o seguinte: \n",
    "\n",
    "1. caso os comandos em *try* gerem uma exceção, a execução do programa passa para o bloco *except* correspondente a exceção;\n",
    "\n",
    "\n",
    "2. caso não haja exceções, após executar o bloco *try* o fluxo segue;\n",
    "\n",
    "\n",
    "3. caso seja executado o bloco *except*, por meio de uma exceção em *try*, o fluxo também segue."
   ]
  },
  {
   "cell_type": "code",
   "execution_count": 2,
   "metadata": {},
   "outputs": [
    {
     "name": "stdout",
     "output_type": "stream",
     "text": [
      "Número inteiro 1: abcde\n",
      "Formato de entrada inválido\n",
      "Número inteiro 1: 9.8\n",
      "Formato de entrada inválido\n",
      "Número inteiro 1: 98\n",
      "\n",
      "Número inteiro 2: aosasosa20\n",
      "Formato de entrada inválido\n",
      "Número inteiro 2: 100\n",
      "\n",
      "Soma: 198\n"
     ]
    }
   ],
   "source": [
    "#EXEMPLO 17.2: Leitura de números inteiros\n",
    "\n",
    "def readInt(mesg): #função recebe uma string de leitura\n",
    "    while True: #cria um loop \"infinito\"\n",
    "        val=input(mesg) #le a entrada com a mensagem recebida\n",
    "        try:\n",
    "            val=int(val) #tenta verificar se é um inteiro\n",
    "            break #quebra o laço caso seja\n",
    "            \n",
    "        except ValueError: #caso não seja um inteiro\n",
    "            print('Formato de entrada inválido') #imprime a mensagem e volta ao começo do loop\n",
    "            \n",
    "    return val #retorna o valor\n",
    "\n",
    "def main():\n",
    "    x = readInt('Número inteiro 1: ')\n",
    "    print()\n",
    "    \n",
    "    y = readInt('Número inteiro 2: ')\n",
    "    print()\n",
    "    \n",
    "    print('Soma:', x+y)\n",
    "    \n",
    "main()"
   ]
  },
  {
   "cell_type": "code",
   "execution_count": 3,
   "metadata": {},
   "outputs": [
    {
     "name": "stdout",
     "output_type": "stream",
     "text": [
      "Soma de Inteiros\n",
      "\n",
      "Número inteiro 1: 9.8\n",
      "Formato de entrada inválido\n",
      "Número inteiro 1: abcdef\n",
      "Formato de entrada inválido\n",
      "Número inteiro 1: 99\n",
      "\n",
      "Número inteiro 2: 100\n",
      "\n",
      "Soma: 199\n",
      "\n",
      "#####################################################\n",
      "Soma de Floats\n",
      "\n",
      "Float 1: asdsas\n",
      "Formato de entrada inválido\n",
      "Float 1: 9\n",
      "\n",
      "Float 2: 9.8\n",
      "\n",
      "Soma:  18.8\n"
     ]
    }
   ],
   "source": [
    "#EXEMPLO 17.2: Generalizando a função acima para qualquer tipo de variável\n",
    "\n",
    "def readVal(mesg, xType): #função recebe uma string de leitura e um tipo de parâmetro \n",
    "    while True: #cria um loop \"infinito\"\n",
    "        val=input(mesg) #le a entrada com a mensagem recebida\n",
    "        try:\n",
    "            val=xType(val) #tenta verificar se é um inteiro\n",
    "            break #quebra o laço caso seja\n",
    "            \n",
    "        except ValueError: #caso não seja um inteiro\n",
    "            print('Formato de entrada inválido') #imprime a mensagem e volta ao começo do loop\n",
    "            \n",
    "    return val #retorna o valor\n",
    "\n",
    "\n",
    "def main():\n",
    "    print(\"Soma de Inteiros\")\n",
    "    print() \n",
    "    \n",
    "    x = readVal('Número inteiro 1: ', int)\n",
    "    print()\n",
    "    \n",
    "    y = readVal('Número inteiro 2: ', int)\n",
    "    print()\n",
    "    \n",
    "    print('Soma:', x+y)\n",
    "    print()\n",
    "\n",
    "    print(\"#####################################################\")\n",
    "    print(\"Soma de Floats\")\n",
    "    print()\n",
    "    \n",
    "    x=readVal('Float 1: ', float)\n",
    "    print()\n",
    "    \n",
    "    y=readVal('Float 2: ', float)\n",
    "    print()\n",
    "    \n",
    "    print('Soma: ', x+y)\n",
    "\n",
    "    \n",
    "main()"
   ]
  },
  {
   "cell_type": "markdown",
   "metadata": {},
   "source": [
    "### 17.2 Causando exceções ###"
   ]
  },
  {
   "cell_type": "markdown",
   "metadata": {},
   "source": [
    "De vez em quando, o programa pode rodar normalmente mesmo contendo algum tipo de erro: quando fazemos o produto interno de dois vetores de dimensões diferentes, por exemplo, caso utilizemos o tamanho do menor vetor como referência para a parada do loop do cálculo em questão, o produto será computado normalmente."
   ]
  },
  {
   "cell_type": "code",
   "execution_count": 14,
   "metadata": {},
   "outputs": [
    {
     "name": "stdout",
     "output_type": "stream",
     "text": [
      "v1:  [7, 6, 10, 1]\n",
      "v2:  [4, 1, 10, 9, 1]\n",
      "143\n"
     ]
    }
   ],
   "source": [
    "#EXEMPLO 17.3: Computando produto interno com erro\n",
    "\n",
    "def main():\n",
    "    l1=[random.randint(0,10) for i in range(4)]\n",
    "    l2=[random.randint(0,10) for i in range(5)]\n",
    "    \n",
    "    print('v1: ', l1)\n",
    "    print('v2: ', l2)\n",
    "    \n",
    "    sum=0\n",
    "    for i in range(len(l1)):\n",
    "        sum = sum + l1[i]*l2[i]\n",
    "        \n",
    "    print(sum)    \n",
    "\n",
    "main()"
   ]
  },
  {
   "cell_type": "markdown",
   "metadata": {},
   "source": [
    "Para tratar desses erros, é interessante definirmos alguns valores caso os erros em questão ocorram durante a execução de uma função. \n",
    "\n",
    "Para *lançar/causar* uma exceção usamos o romando **raise** da seguinte maneira:\n",
    "\n",
    "raise < exceptionName >(< arguments >)\n",
    "\n",
    "\n",
    "exeptionName deve ser o nome de alguma excecão já existente! \n",
    "\n",
    "Os argumentos dependem da exceção em questão, mas a maioria aceita uma string como descrição do problema.\n",
    "\n",
    "PRA TODA EXCEÇÃO LANÇADA DEVE HAVER UMA CLÁUSULA EXCEPT."
   ]
  },
  {
   "cell_type": "code",
   "execution_count": 16,
   "metadata": {},
   "outputs": [
    {
     "name": "stdout",
     "output_type": "stream",
     "text": [
      "v1:  [0, 4, 8, 9, 2]\n",
      "v2:  [4, 5, 8, 5]\n",
      "Dimensoes diferentes para o calculo\n"
     ]
    }
   ],
   "source": [
    "#EXEMPLO 17.4: Lançando UMA exceção\n",
    "import random\n",
    "\n",
    "def prodInt(v1, v2):\n",
    "    if len(v1) != len(v2):\n",
    "        raise ValueError('Dimensoes diferentes para o calculo')\n",
    "    \n",
    "    sum=0\n",
    "    for i in range(len(v1)):\n",
    "        sum = sum + v1[i]*v2[i]\n",
    "        \n",
    "    return sum\n",
    "\n",
    "def main():\n",
    "    l1=[random.randint(0,10) for i in range(5)]\n",
    "    l2=[random.randint(0,10) for i in range(4)]\n",
    "    \n",
    "    print('v1: ', l1)\n",
    "    print('v2: ', l2)\n",
    "    \n",
    "    try:\n",
    "        print(prodInt(l1, l2))\n",
    "        \n",
    "    except ValueError as msg:\n",
    "        print(msg)\n",
    "        \n",
    "main()"
   ]
  },
  {
   "cell_type": "code",
   "execution_count": 21,
   "metadata": {},
   "outputs": [
    {
     "name": "stdout",
     "output_type": "stream",
     "text": [
      "v1:  1\n",
      "v2:  [8, 2, 4, 0, 5]\n",
      "Operação definida apenas para listas\n"
     ]
    }
   ],
   "source": [
    "#EXEMPLO 17.5: Lançando DUAS exceções\n",
    "import random\n",
    "\n",
    "def prodInt(v1, v2):\n",
    "    \n",
    "    if type(v1)!=list or type(v2)!=list:\n",
    "        raise TypeError('Operação definida apenas para listas')\n",
    "    \n",
    "    \n",
    "    if len(v1) != len(v2):\n",
    "        raise ValueError('Dimensoes diferentes para o calculo')\n",
    "        \n",
    "    \n",
    "    sum=0\n",
    "    for i in range(len(v1)):\n",
    "        sum = sum + v1[i]*v2[i]\n",
    "        \n",
    "    return sum\n",
    "\n",
    "def main():\n",
    "    l1=[random.randint(0,10) for i in range(5)]\n",
    "    l2=[random.randint(0,10) for i in range(5)]\n",
    "    \n",
    "    l1=1\n",
    "    \n",
    "    print('v1: ', l1)\n",
    "    print('v2: ', l2)\n",
    "    \n",
    "    try:\n",
    "        print(prodInt(l1, l2))\n",
    "        \n",
    "    except ValueError as msg:\n",
    "        print(msg)\n",
    "        \n",
    "    except TypeError as msg:\n",
    "        print(msg)\n",
    "        \n",
    "main()"
   ]
  },
  {
   "cell_type": "code",
   "execution_count": null,
   "metadata": {},
   "outputs": [],
   "source": []
  }
 ],
 "metadata": {
  "kernelspec": {
   "display_name": "Python 3",
   "language": "python",
   "name": "python3"
  },
  "language_info": {
   "codemirror_mode": {
    "name": "ipython",
    "version": 3
   },
   "file_extension": ".py",
   "mimetype": "text/x-python",
   "name": "python",
   "nbconvert_exporter": "python",
   "pygments_lexer": "ipython3",
   "version": "3.7.2"
  }
 },
 "nbformat": 4,
 "nbformat_minor": 2
}
