{
 "cells": [
  {
   "cell_type": "code",
   "execution_count": null,
   "metadata": {},
   "outputs": [],
   "source": [
    "#circulo.py\n",
    "\n",
    "pi=3.14159\n",
    "\n",
    "def area(raio):\n",
    "    return pi*(raio**2)\n",
    "\n",
    "def circunferencia(raio):\n",
    "    return 2*pi*raio\n",
    "\n",
    "def superficieEsfera(raio):\n",
    "    return 4.0*area(raio)\n",
    "\n",
    "def volumeEsfera(raio):\n",
    "    return (4.0/3.0)*pi*(raio**3)"
   ]
  }
 ],
 "metadata": {
  "kernelspec": {
   "display_name": "Python 3",
   "language": "python",
   "name": "python3"
  },
  "language_info": {
   "codemirror_mode": {
    "name": "ipython",
    "version": 3
   },
   "file_extension": ".py",
   "mimetype": "text/x-python",
   "name": "python",
   "nbconvert_exporter": "python",
   "pygments_lexer": "ipython3",
   "version": "3.7.2"
  }
 },
 "nbformat": 4,
 "nbformat_minor": 2
}
