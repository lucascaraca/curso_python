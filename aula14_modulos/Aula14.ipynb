{
 "cells": [
  {
   "cell_type": "markdown",
   "metadata": {},
   "source": [
    "# AULA 14: Funções e Módulos #"
   ]
  },
  {
   "cell_type": "markdown",
   "metadata": {},
   "source": [
    "### 14.1: Módulos ###"
   ]
  },
  {
   "cell_type": "markdown",
   "metadata": {},
   "source": [
    "Vimos até o presente momento programas cujas funções ficam no mesmo arquivo, o que é legal para programas pequenos. \n",
    "\n",
    "Já para programas maiores é interessante dividí-lo em mais de um arquivo. Para isso, o Python permite a criação de programas em múltiplos arquivos através do que chamamos de *módulos*.\n",
    "\n",
    "Um *módulo* é um arquivo *.py* que contem algumas definições e comandos. O bloco do exemplo abaixo abaixo pode ser considerado um modulo."
   ]
  },
  {
   "cell_type": "code",
   "execution_count": 1,
   "metadata": {},
   "outputs": [],
   "source": [
    "#EXEMPLO 14.1: Crie um módulo com o cálculo das propriedades de um circulo. \n",
    "#Salve o programa como um arquivo .py de nome circulo.py\n",
    "\n",
    "\n",
    "pi=3.14159\n",
    "\n",
    "def area(raio):\n",
    "    return pi*(raio**2)\n",
    "\n",
    "def circunferencia(raio):\n",
    "    return 2*pi*raio\n",
    "\n",
    "def superficieEsfera(raio):\n",
    "    return 4.0*area(raio)\n",
    "\n",
    "def volumeEsfera(raio):\n",
    "    return (4.0/3.0)*pi*(raio**3)"
   ]
  },
  {
   "cell_type": "markdown",
   "metadata": {},
   "source": [
    "Com o arquivo do módulo salvo na mesma pasta do arquivo do programa principal, podemos acessá-lo através do comando *import*."
   ]
  },
  {
   "cell_type": "code",
   "execution_count": 3,
   "metadata": {},
   "outputs": [
    {
     "name": "stdout",
     "output_type": "stream",
     "text": [
      "circulo.pi = 3.14159\n",
      "circulo.area(3) = 28.27431\n",
      "circulo.circunferencia(3) = 18.849539999999998\n",
      "circulo.superficieEsfera(3) = 113.09724\n",
      "volumeEsfera(3) = 113.09723999999999\n"
     ]
    }
   ],
   "source": [
    "#EXEMPLO 14.2: Utilize o módulo circulo\n",
    "import circulo\n",
    "\n",
    "print('circulo.pi =', circulo.pi)\n",
    "print('circulo.area(3) =', circulo.area(3))\n",
    "print('circulo.circunferencia(3) =', circulo.circunferencia(3))\n",
    "print('circulo.superficieEsfera(3) =', circulo.superficieEsfera(3))\n",
    "print('volumeEsfera(3) =', volumeEsfera(3))"
   ]
  },
  {
   "cell_type": "markdown",
   "metadata": {},
   "source": [
    "### 14.2: Propriedades dos módulos ###"
   ]
  },
  {
   "cell_type": "markdown",
   "metadata": {},
   "source": [
    "1. Geralmente ficam em arquivos individuais, separando conteúdos que não estão no mesmo contexto;\n",
    "\n",
    "\n",
    "2. Cada módulo tem sua tabela de símbolos privada (nomes de funções, variáveis, etc);\n",
    "\n",
    "\n",
    "3. Ao usar o import, para referenciar objetos do módulo utilizamos a notação de ponto: circulo.pi, circulo.area(x), etc;\n",
    "\n",
    "\n",
    "4. Por conta da notação dita em 3), é evitado que o programador precise conhecer os nomes de todos os objetos em todos os módulos que são utilizados e, além disso, o uso dela evita que uma variável de um módulo tenha seu valor alterado (veja o exemplo 14.3);\n",
    "\n",
    "\n",
    "5. A notação de ponto pode ser alterada acrescentando um '*' após o nome do módulo na importação (veja o exemplo 14.4)."
   ]
  },
  {
   "cell_type": "code",
   "execution_count": 4,
   "metadata": {},
   "outputs": [
    {
     "name": "stdout",
     "output_type": "stream",
     "text": [
      "circulo.pi = 3.14159\n",
      "circulo.area(3) = 28.27431\n",
      "pi = 3\n"
     ]
    }
   ],
   "source": [
    "#EXEMPLO 14.3: Teste da notação de ponto\n",
    "\n",
    "import circulo\n",
    "pi=3\n",
    "\n",
    "print('circulo.pi =', circulo.pi)\n",
    "print('circulo.area(3) =', circulo.area(3))\n",
    "print('pi =', pi)"
   ]
  },
  {
   "cell_type": "code",
   "execution_count": 11,
   "metadata": {},
   "outputs": [
    {
     "name": "stdout",
     "output_type": "stream",
     "text": [
      "pi = 3.14159\n",
      "area(3) = 28.27431\n",
      "\n",
      "Alterando o valor de pi no programa principal...\n",
      "pi = 3\n"
     ]
    }
   ],
   "source": [
    "#EXEMPLO 14.4: Teste sem a notação de ponto\n",
    "\n",
    "from circulo import *\n",
    "print('pi =', pi)\n",
    "print('area(3) =', area(3))\n",
    "print()\n",
    "print('Alterando o valor de pi no programa principal...')\n",
    "pi=3\n",
    "print('pi =', pi)"
   ]
  },
  {
   "cell_type": "code",
   "execution_count": null,
   "metadata": {},
   "outputs": [],
   "source": []
  }
 ],
 "metadata": {
  "kernelspec": {
   "display_name": "Python 3",
   "language": "python",
   "name": "python3"
  },
  "language_info": {
   "codemirror_mode": {
    "name": "ipython",
    "version": 3
   },
   "file_extension": ".py",
   "mimetype": "text/x-python",
   "name": "python",
   "nbconvert_exporter": "python",
   "pygments_lexer": "ipython3",
   "version": "3.7.2"
  }
 },
 "nbformat": 4,
 "nbformat_minor": 2
}
