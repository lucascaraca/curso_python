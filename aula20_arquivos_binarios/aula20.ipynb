{
 "cells": [
  {
   "cell_type": "markdown",
   "metadata": {},
   "source": [
    "# AULA 21: Arquivos Binários #"
   ]
  },
  {
   "cell_type": "markdown",
   "metadata": {},
   "source": [
    "## 21.1: Arquivos Binários em Python ##"
   ]
  },
  {
   "cell_type": "markdown",
   "metadata": {},
   "source": [
    "### 21.1.1: Definição ###"
   ]
  },
  {
   "cell_type": "markdown",
   "metadata": {},
   "source": [
    "Como visto na aula anterior, um arquivo binário é uma sequência de bits sujeita às convenções do programa que o gerou, não sendo legíveis diretamente. Como exemplos temos os arquivos executáveis, os arquivos compactados e os documentos do Word.\n",
    "\n",
    "Por eles não serem legíveis diretamente e possuírem uma estrutura mais simples (são compostos por um conjunto de dígitos de *zeros* e *uns*), eles ocupam um espaço menor na memória do computador que os arquivos de texto. O número 123456789.00 ocupa 12 bytes de memória em sua forma textual - já na forma binária ele ocupa 8 bytes."
   ]
  },
  {
   "cell_type": "markdown",
   "metadata": {},
   "source": [
    "### 21.1.2: Abrindo um arquivo binário ###"
   ]
  },
  {
   "cell_type": "markdown",
   "metadata": {},
   "source": [
    "Para trabalhar com um arquivo binário em Python devemos associar este arquivo a uma variável.\n",
    "\n",
    "Para fazer isso, também utilizamos o comando ***open*** da seguinte maneira:\n",
    "\n",
    "< arqVar > = open(\"<arqName / arqPath>\", \"< mode >\").\n",
    "\n",
    "Para um arquivo binário os *modos* disponíveis são:\n",
    "\n",
    "1. ***rb***: para leitura do arquivo - caso o arquivo não exista este modo gera uma exceção no programa;\n",
    "\n",
    "\n",
    "2. ***wb***: para escrita do arquivo - caso o arquivo não exista no local indicado, um novo arquivo é criado. Caso exista ele é sobreposto;\n",
    "\n",
    "\n",
    "3. ***r+b***: para leitura e escrita - caso o arquivo não exista este modo gera uma exceção, caso exista ele não é sobreposto."
   ]
  },
  {
   "cell_type": "markdown",
   "metadata": {},
   "source": [
    "### 21.1.3: Lendo e Escrevendo no Arquivo ###"
   ]
  },
  {
   "cell_type": "markdown",
   "metadata": {},
   "source": [
    "Para ler e escrever objeto para um arquivo usamos o módulo/biblioteca ***pickle***.\n",
    "\n",
    "Usamos o método ***pickle.dump*** para escrever um objeto em um arquivo e o método ***pickle.load*** para ler um objeto em um arquivo.\n",
    "\n",
    "O método pickle.dump tem a seguinte sintaxe:\n",
    "\n",
    "    pickle.dump(< object >, < arqVar >)\n",
    "\n",
    "Já o método pickle.load tem a seguinte:\n",
    "\n",
    "    pickle.load(< arqVar >)\n"
   ]
  },
  {
   "cell_type": "code",
   "execution_count": 1,
   "metadata": {},
   "outputs": [],
   "source": [
    "#EXEMPLO 20.1: Escrita em um arquivo binário\n",
    "\n",
    "import pickle\n",
    "\n",
    "try:\n",
    "    #abre o arquivo teste.bin no modo escrita\n",
    "    arq=open(\"teste.bin\", \"wb\") \n",
    "    \n",
    "    l=[1, 2, 3]\n",
    "    \n",
    "    #armazena/escreve o objeto associado a variável l no arquivo aberto/criado\n",
    "    pickle.dump(l, arq)\n",
    "    \n",
    "    #fecha o arquivo\n",
    "    arq.close()\n",
    "    \n",
    "    \n",
    "except FileNotFoundError:\n",
    "    print(\"Arquivo não encontrado no caminho especificado.\")"
   ]
  },
  {
   "cell_type": "code",
   "execution_count": 2,
   "metadata": {},
   "outputs": [
    {
     "name": "stdout",
     "output_type": "stream",
     "text": [
      "[1, 2, 3]\n"
     ]
    }
   ],
   "source": [
    "#EXEMPLO 20.2: Leitura de um arquivo binário\n",
    "\n",
    "import pickle\n",
    "\n",
    "try:\n",
    "    #abre o arquivo teste.bin no modo leitura\n",
    "    arq=open(\"teste.bin\", \"rb\") \n",
    "    \n",
    "    #carrega/le o arquivo binário\n",
    "    l=pickle.load(arq)\n",
    "    \n",
    "    #imprime o arquivo\n",
    "    print(l)\n",
    "    \n",
    "    #fecha o arquivo\n",
    "    arq.close()\n",
    "    \n",
    "    \n",
    "except FileNotFoundError:\n",
    "    print(\"Arquivo não encontrado no caminho especificado.\")"
   ]
  },
  {
   "cell_type": "code",
   "execution_count": 4,
   "metadata": {},
   "outputs": [
    {
     "name": "stdout",
     "output_type": "stream",
     "text": [
      "\n",
      "\n",
      " ##### Escolha uma opção #####\n",
      "1. Incluir ALuno\n",
      "2. Excluir Aluno\n",
      "3. Incluir Nota\n",
      "4. Lostar Turma\n",
      "5. Sair\n",
      "\n",
      "Digite a opção desejada:4\n",
      "Imprimindo Cadastro\n",
      "\n",
      "\n",
      "\n",
      " ##### Escolha uma opção #####\n",
      "1. Incluir ALuno\n",
      "2. Excluir Aluno\n",
      "3. Incluir Nota\n",
      "4. Lostar Turma\n",
      "5. Sair\n",
      "\n",
      "Digite a opção desejada:1\n",
      "Digite o nome do aluno:Roberto\n",
      "\n",
      "\n",
      " ##### Escolha uma opção #####\n",
      "1. Incluir ALuno\n",
      "2. Excluir Aluno\n",
      "3. Incluir Nota\n",
      "4. Lostar Turma\n",
      "5. Sair\n",
      "\n",
      "Digite a opção desejada:4\n",
      "Imprimindo Cadastro\n",
      "\n",
      "Nome: Roberto\n",
      "Notas: []\n",
      "\n",
      "\n",
      " ##### Escolha uma opção #####\n",
      "1. Incluir ALuno\n",
      "2. Excluir Aluno\n",
      "3. Incluir Nota\n",
      "4. Lostar Turma\n",
      "5. Sair\n",
      "\n",
      "Digite a opção desejada:5\n",
      "Salvando Cadastro...\n"
     ]
    }
   ],
   "source": [
    "#EXEMPLO 20.3: Fazer o programa para inclusão, exclusão e tudo mais em um cadastro de alunos e salva os dados num arquivo antes de encerrar o programa\n",
    "\n",
    "\n",
    "################################################################################################################################\n",
    "class Aluno:\n",
    "    def __init__(self):\n",
    "        self.nome=''\n",
    "        self.notas=[]\n",
    "\n",
    "        \n",
    "\n",
    "    def printAluno(self):\n",
    "        print(\"Nome:\", self.nome)\n",
    "        print(\"Notas:\", self.notas)\n",
    "\n",
    "    \n",
    "    def incluiNota(self, nota):\n",
    "        self.notas.append(nota)\n",
    "\n",
    "\n",
    "################################################################################################################################\n",
    "class Cadastro:\n",
    "    def __init__(self):\n",
    "        self.cadastro=[]\n",
    "    \n",
    "    \n",
    "    def incluiAluno(self, a):\n",
    "        self.cadastro.append(a)\n",
    "    \n",
    "    \n",
    "    def excluiAluno(self, nome):\n",
    "        for i in self.cadastro:\n",
    "            if i.nome == nome:\n",
    "                self.cadastro.remove(i)\n",
    "    \n",
    "    \n",
    "    def printCad(self):\n",
    "        print(\"Imprimindo Cadastro\")\n",
    "        print()\n",
    "        \n",
    "        for a in self.cadastro:\n",
    "            a.printAluno()\n",
    "    \n",
    "\n",
    "################################################################################################################################\n",
    "#a função recebe um cadastro\n",
    "def menuPrincipal(cadastro):\n",
    "    while True:\n",
    "        print(\"\\n\\n ##### Escolha uma opção #####\")\n",
    "        print(\"1. Incluir ALuno\\n2. Excluir Aluno\")\n",
    "        print(\"3. Incluir Nota\\n4. Lostar Turma\\n5. Sair\")\n",
    "        \n",
    "        op=input(\"\\nDigite a opção desejada:\")\n",
    "        \n",
    "        if (op==\"1\"):\n",
    "            a=Aluno()\n",
    "            a.nome=input(\"Digite o nome do aluno:\")\n",
    "            cadastro.incluiAluno(a)\n",
    "            \n",
    "        elif (op==\"2\"):\n",
    "            nome=input(\"Digite o nome do aluno:\")\n",
    "            cadastro.excluiAluno(nome)\n",
    "            \n",
    "        elif (op==\"3\"):\n",
    "            nome=input(\"Digite o nome do aluno:\")\n",
    "            nota=float(input(\"Digite a nota:\"))\n",
    "            for a in cadastro.cadastro:\n",
    "                if (a.nome==nome):\n",
    "                    a.incluiNota(nota)\n",
    "                    break\n",
    "                    \n",
    "        elif (op==\"4\"):\n",
    "            cadastro.printCad()\n",
    "            \n",
    "        elif (op==\"5\"):\n",
    "            return\n",
    "        \n",
    "        else:\n",
    "            print(\"Opcao inválida\")\n",
    "\n",
    "\n",
    "################################################################################################################################\n",
    "def main():\n",
    "    try:\n",
    "        arq=open(\"cadastro.bin\", \"r+b\")\n",
    "        cadastro=pickle.load(arq)\n",
    "        menuPrincipal(cadastro)\n",
    "        print(\"Salvando Cadastro...\")\n",
    "        arq.seek(0, 0)\n",
    "        pickle.dump(cadastro, arq)\n",
    "        arq.close()\n",
    "        \n",
    "    except FileNotFoundError:\n",
    "        arq=open(\"cadastro.bin\", \"wb\") #cria o arquivo se ele não existir\n",
    "        cadastro=Cadastro()\n",
    "        menuPrincipal(cadastro)\n",
    "        print(\"Salvando Cadastro...\")\n",
    "        arq.seek(0, 0)\n",
    "        pickle.dump(cadastro, arq)\n",
    "        arq.close()\n",
    "        \n",
    "    except:\n",
    "        print(\"Problemas no arquivo cadastro.bin\")\n",
    "        \n",
    "################################################################################################################################\n",
    "main()"
   ]
  },
  {
   "cell_type": "code",
   "execution_count": null,
   "metadata": {},
   "outputs": [],
   "source": []
  }
 ],
 "metadata": {
  "kernelspec": {
   "display_name": "Python 3",
   "language": "python",
   "name": "python3"
  },
  "language_info": {
   "codemirror_mode": {
    "name": "ipython",
    "version": 3
   },
   "file_extension": ".py",
   "mimetype": "text/x-python",
   "name": "python",
   "nbconvert_exporter": "python",
   "pygments_lexer": "ipython3",
   "version": "3.7.2"
  }
 },
 "nbformat": 4,
 "nbformat_minor": 2
}
