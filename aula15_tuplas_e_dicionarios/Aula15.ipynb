{
 "cells": [
  {
   "cell_type": "markdown",
   "metadata": {},
   "source": [
    "# AULA 15: Tuplas e Dicionários #"
   ]
  },
  {
   "cell_type": "markdown",
   "metadata": {},
   "source": [
    "### 15.1: Tuplas ###"
   ]
  },
  {
   "cell_type": "markdown",
   "metadata": {},
   "source": [
    "Tuplas são similares a listas, isto é, uma sequência de dados de qualquer tipo. A diferença com relação as listas é que as tuplas são imutáveis.\n",
    "\n",
    "Declaramos tuplas de maneira similar a que declaramos listas, porém, ao invés de usarmos colchetes, utilizamos parênteses. Para acessarmos os elementos ou sub-sequências das duplas, utilizamos a mesma sintaxe das listas.\n",
    "\n",
    "*tupla = (< elemento1 >, < elemento 2 >, ..., <elemento (n-1) >)*"
   ]
  },
  {
   "cell_type": "code",
   "execution_count": 6,
   "metadata": {},
   "outputs": [
    {
     "name": "stdout",
     "output_type": "stream",
     "text": [
      "t = (1, 2, 5, 'carrossel')\n",
      "t[2] = 5\n",
      "t[1] = 2\n",
      "t[2:4] = (5, 'carrossel')\n"
     ]
    }
   ],
   "source": [
    "#EXEMPLO 15.1: Declarando e acessando os elementos de uma tupla\n",
    "\n",
    "t=(1, 2, 5,'carrossel')\n",
    "print('t =', t)\n",
    "print('t[2] =', t[2])\n",
    "print('t[1] =', t[1])\n",
    "print('t[2:4] =', t[2:4])"
   ]
  },
  {
   "cell_type": "code",
   "execution_count": 8,
   "metadata": {},
   "outputs": [
    {
     "name": "stdout",
     "output_type": "stream",
     "text": [
      "t = (1, 2, 5, 'carrossel')\n",
      "t[2]=90\n"
     ]
    },
    {
     "ename": "TypeError",
     "evalue": "'tuple' object does not support item assignment",
     "output_type": "error",
     "traceback": [
      "\u001b[1;31m---------------------------------------------------------------------------\u001b[0m",
      "\u001b[1;31mTypeError\u001b[0m                                 Traceback (most recent call last)",
      "\u001b[1;32m<ipython-input-8-e2007bdd6492>\u001b[0m in \u001b[0;36m<module>\u001b[1;34m\u001b[0m\n\u001b[0;32m      4\u001b[0m \u001b[0mprint\u001b[0m\u001b[1;33m(\u001b[0m\u001b[1;34m't ='\u001b[0m\u001b[1;33m,\u001b[0m \u001b[0mt\u001b[0m\u001b[1;33m)\u001b[0m\u001b[1;33m\u001b[0m\u001b[1;33m\u001b[0m\u001b[0m\n\u001b[0;32m      5\u001b[0m \u001b[0mprint\u001b[0m\u001b[1;33m(\u001b[0m\u001b[1;34m't[2]=90'\u001b[0m\u001b[1;33m)\u001b[0m\u001b[1;33m\u001b[0m\u001b[1;33m\u001b[0m\u001b[0m\n\u001b[1;32m----> 6\u001b[1;33m \u001b[0mt\u001b[0m\u001b[1;33m[\u001b[0m\u001b[1;36m2\u001b[0m\u001b[1;33m]\u001b[0m\u001b[1;33m=\u001b[0m\u001b[1;36m90\u001b[0m\u001b[1;33m\u001b[0m\u001b[1;33m\u001b[0m\u001b[0m\n\u001b[0m",
      "\u001b[1;31mTypeError\u001b[0m: 'tuple' object does not support item assignment"
     ]
    }
   ],
   "source": [
    "#EXEMPLO 15.2: Testando a imutabilidade das tuplas\n",
    "\n",
    "t=(1, 2, 5,'carrossel')\n",
    "print('t =', t)\n",
    "print('t[2]=90')\n",
    "t[2]=90"
   ]
  },
  {
   "cell_type": "markdown",
   "metadata": {},
   "source": [
    "#### 15.1.1 Empacotamento e desempacotamento de Tuplas ####"
   ]
  },
  {
   "cell_type": "markdown",
   "metadata": {},
   "source": [
    "Os elementos de uma tupla podem ser acessados de forma implícita na atribuição (desempacotamento). Para isso declaramos uma tupla da seguinte maneira:\n",
    "\n",
    "\n",
    "*< variavel 1>, < variável 2 >, ... , <variável n > = ( <elemento 1 >, < elemento 2 >, ..., < elemento n > )*\n",
    "\n",
    "\n",
    "A variável *i* estará associada ao elemento *i*.\n",
    "\n",
    "\n",
    "Também é possível declarar uma tupla separando seus elementos apenas por vírgulas (empacotamento), da seguinte maneira:\n",
    "\n",
    "\n",
    "*< elemento 1 >, < elemento 2>, ..., < elemento n >"
   ]
  },
  {
   "cell_type": "code",
   "execution_count": 18,
   "metadata": {},
   "outputs": [
    {
     "name": "stdout",
     "output_type": "stream",
     "text": [
      "x, y, z = (3, 4, 5)\n",
      "x = 3\n",
      "y = 4\n",
      "z = 5\n"
     ]
    }
   ],
   "source": [
    "#EXEMPLO 15.3: Desempacotamento de uma tupla\n",
    "\n",
    "x, y, z = (3, 4, 5)\n",
    "a = x, y, z\n",
    "print('x, y, z =', a)\n",
    "print('x =', x)\n",
    "print ('y =', y)\n",
    "print('z =', z)\n"
   ]
  },
  {
   "cell_type": "code",
   "execution_count": 22,
   "metadata": {},
   "outputs": [
    {
     "name": "stdout",
     "output_type": "stream",
     "text": [
      "a = (9, 12, 7)\n"
     ]
    },
    {
     "data": {
      "text/plain": [
       "(67, 80, 90)"
      ]
     },
     "execution_count": 22,
     "metadata": {},
     "output_type": "execute_result"
    }
   ],
   "source": [
    "#EXEMPLO 15.4: Empacotamento de uma tupla\n",
    "\n",
    "a = 9, 12, 7\n",
    "print('a =', a)\n",
    "\n",
    "67, 80, 90"
   ]
  },
  {
   "cell_type": "markdown",
   "metadata": {},
   "source": [
    "### 15.2: Dicionários ###"
   ]
  },
  {
   "cell_type": "markdown",
   "metadata": {},
   "source": [
    "Em Python, *Dicionários* são estruturas de dados que associam uma chave com um valor qualquer. Esses valores podem ser de qualquer tipo, porém suas chaves devem ser dados imutáveis.\n",
    "\n",
    "Para a criação de um dicionário, escrevemos:\n",
    "\n",
    "< nomeDicionario > = {< chave 1 >: < dadoChave 1 >, < chave 2 >: < dadoChave 2 >, ..., < chave N >: < dadoChaveN >}\n",
    "\n",
    "\n",
    "\n",
    "O acesso a um dado do dicionário pode ser feito através de sua chave, da seguinte maneira:\n",
    "\n",
    "< nome dicionario > [ < chave > ]"
   ]
  },
  {
   "cell_type": "code",
   "execution_count": 1,
   "metadata": {},
   "outputs": [
    {
     "name": "stdout",
     "output_type": "stream",
     "text": [
      "Agenda telefônica\n",
      "tel = {'Arnaldo': 12345678, 'Rodrigo': 91011121, 'Fernanda': 14151617}\n",
      "type(tel) =  <class 'dict'>\n"
     ]
    }
   ],
   "source": [
    "#EXEMPLO 15.5: Declarando um dicionário.\n",
    "\n",
    "print('Agenda telefônica')\n",
    "tel={'Arnaldo': 12345678, \"Rodrigo\": 91011121, \"Fernanda\": 14151617}\n",
    "print('tel =', tel)\n",
    "print('type(tel) = ', type(tel))"
   ]
  },
  {
   "cell_type": "code",
   "execution_count": 2,
   "metadata": {},
   "outputs": [
    {
     "name": "stdout",
     "output_type": "stream",
     "text": [
      "Agenda telefônica\n",
      "tel = {'Arnaldo': 12345678, 'Rodrigo': 91011121, 'Fernanda': 14151617}\n",
      "tel[\"Fernanda\"] = 14151617\n"
     ]
    }
   ],
   "source": [
    "#EXEMPLO 15.6: Acessando o valor associada à uma chave no dicionário\n",
    "\n",
    "print('Agenda telefônica')\n",
    "tel={'Arnaldo': 12345678, \"Rodrigo\": 91011121, \"Fernanda\": 14151617}\n",
    "print('tel =', tel)\n",
    "print('tel[\"Fernanda\"] =', tel[\"Fernanda\"])"
   ]
  },
  {
   "cell_type": "markdown",
   "metadata": {},
   "source": [
    "#### 15.2.1: Trabalhando com dicionários ####"
   ]
  },
  {
   "cell_type": "markdown",
   "metadata": {},
   "source": [
    "Podemos alterar um valor associado à uma chave e também podemos incluir uma nova chave juntamente com seu valor.\n",
    "\n",
    "Para alterar um valor basta acessarmos a chave e atribuir um valor a ela da seguinte maneira:\n",
    "\n",
    "< nomeDicionario >[< chave >]= < novoValor >\n",
    "\n",
    "\n",
    "Já para adicionar uma chave com seu valor, escrevemos:\n",
    "< nomeDicionario >[< novaChave >] = < novoValor >"
   ]
  },
  {
   "cell_type": "code",
   "execution_count": 13,
   "metadata": {},
   "outputs": [
    {
     "name": "stdout",
     "output_type": "stream",
     "text": [
      "Agenda telefônica\n",
      "telInicial = {'Arnaldo': 12345678, 'Rodrigo': 91011121, 'Fernanda': 14151617}\n",
      "\n",
      "Alterando o valor associado a uma chave\n",
      "tel[\"Arnaldo\"] = 12345678\n",
      "tel[\"Arnaldo\"]alterado = 21222324\n",
      "tel(1) = {'Arnaldo': 21222324, 'Rodrigo': 91011121, 'Fernanda': 14151617}\n",
      "\n",
      "Adicionando um novo valor\n",
      "tel(1) =  {'Arnaldo': 21222324, 'Rodrigo': 91011121, 'Fernanda': 14151617}\n",
      "tel[\"Carlos\"] =  30313233\n",
      "tel(2) =  {'Arnaldo': 21222324, 'Rodrigo': 91011121, 'Fernanda': 14151617, 'Carlos': 30313233}\n"
     ]
    }
   ],
   "source": [
    "#EXEMPLO 15.7: Alterando um valor de uma chave e adicionando chave com seu valor a um dicionário.\n",
    "print('Agenda telefônica')\n",
    "tel={'Arnaldo': 12345678, \"Rodrigo\": 91011121, \"Fernanda\": 14151617}\n",
    "print('telInicial =', tel)\n",
    "\n",
    "print()\n",
    "print('Alterando o valor associado a uma chave')\n",
    "print('tel[\"Arnaldo\"] =', tel[\"Arnaldo\"])\n",
    "tel[\"Arnaldo\"]=21222324\n",
    "print('tel[\"Arnaldo\"]alterado =', tel[\"Arnaldo\"])\n",
    "print('tel(1) =', tel)\n",
    "\n",
    "print()\n",
    "print('Adicionando um novo valor')\n",
    "print('tel(1) = ', tel)\n",
    "tel['Carlos'] = 30313233\n",
    "print('tel[\"Carlos\"] = ', tel[\"Carlos\"])\n",
    "print('tel(2) = ', tel)"
   ]
  },
  {
   "cell_type": "markdown",
   "metadata": {},
   "source": [
    "#### 15.2.2: Operações em dicionários ####"
   ]
  },
  {
   "cell_type": "markdown",
   "metadata": {},
   "source": [
    "Quando utilizamos o laço *for*, a variável do laço passa por todas as chaves do dicionário e o operador *in* verifica se uma determinada chave se encontra no dicionário."
   ]
  },
  {
   "cell_type": "code",
   "execution_count": 16,
   "metadata": {},
   "outputs": [
    {
     "name": "stdout",
     "output_type": "stream",
     "text": [
      "tel= {'Arnaldo': 21222324, 'Rodrigo': 91011121, 'Fernanda': 14151617, 'Carlos': 30313233}\n",
      "\n",
      "Arnaldo\n",
      "Rodrigo\n",
      "Fernanda\n",
      "Carlos\n",
      "\n",
      "Arnaldo in tel = True\n",
      "Felipe in tel = False\n"
     ]
    }
   ],
   "source": [
    "#EXEMPLO 15.8: Utilizando o laço for e o operador in.\n",
    "\n",
    "print('tel=', tel)\n",
    "\n",
    "print()\n",
    "for i in tel:\n",
    "    print(i)\n",
    "\n",
    "print()\n",
    "print('Arnaldo in tel =', 'Arnaldo' in tel)\n",
    "print('Felipe in tel =', 'Felipe' in tel)"
   ]
  },
  {
   "cell_type": "markdown",
   "metadata": {},
   "source": [
    "O método *items* retorna tuplas dos pares chave-valor."
   ]
  },
  {
   "cell_type": "code",
   "execution_count": 17,
   "metadata": {},
   "outputs": [
    {
     "name": "stdout",
     "output_type": "stream",
     "text": [
      "tel= {'Arnaldo': 21222324, 'Rodrigo': 91011121, 'Fernanda': 14151617, 'Carlos': 30313233}\n",
      "\n",
      "tel.items()= dict_items([('Arnaldo', 21222324), ('Rodrigo', 91011121), ('Fernanda', 14151617), ('Carlos', 30313233)])\n"
     ]
    }
   ],
   "source": [
    "#EXEMPLO 15:9: O método items\n",
    "\n",
    "print('tel=', tel)\n",
    "\n",
    "print()\n",
    "print('tel.items()=', tel.items())"
   ]
  },
  {
   "cell_type": "code",
   "execution_count": 1,
   "metadata": {},
   "outputs": [
    {
     "name": "stdout",
     "output_type": "stream",
     "text": [
      "Digite uma string: lucas caraça de souza\n",
      "O caracter mais comum nessa string é:  a\n"
     ]
    }
   ],
   "source": [
    "#EXEMPLO 15.10: Crie uma função que dada uma string, retorne a letra mais comum nela.\n",
    "\n",
    "'''\n",
    "IDEIA 1: A função passa pela string s, armazenando em um dicionário\n",
    "cada caracter da string s como uma chave e associado a ela a quantidade de \n",
    "vezes que o caracter aparece.  \n",
    "'''\n",
    "def main():\n",
    "    str=input('Digite uma string: ')\n",
    "    print('O caracter mais comum nessa string é: ', contaLetra(str))\n",
    "\n",
    "\n",
    "################################################################\n",
    "def contaLetra(s):\n",
    "    \n",
    "    conta={} #cria-se um dicionário vazio\n",
    "    \n",
    "    for caracter in s: #passa pela string\n",
    "        if caracter in conta: #se o caracter está armazenado no dicionário, ele adiciona mais um ao valor da chave, que no caso é o caracter\n",
    "            conta[caracter]=conta[caracter] + 1\n",
    "            \n",
    "        else: #caso não esteja, o valor do caracter é 1\n",
    "            conta[caracter]=1\n",
    "    \n",
    "    \n",
    "    return letraMais(conta)\n",
    "    \n",
    "    \n",
    "###############################################################            \n",
    "def letraMais(dic):\n",
    "    \n",
    "    letraMais='' #valor inicial da letra mais comum\n",
    "    \n",
    "    for i in dic: #passa por todas as chaves\n",
    "        if letraMais=='': #caso o valor da letra mais comum seja o inicial\n",
    "            letraMais=i #a letra mais comum passa a ser a correspondente do primeiro caracter da string\n",
    "                        \n",
    "            \n",
    "        elif dic[i]>dic[letraMais]: #compara o valor da letra i com a anteriormente tida como a maior\n",
    "            letraMais=i #caso seja maior a qtde de vezes a letra mais comum passa a ser a nova\n",
    "            \n",
    "    return letraMais #retorna o valor da letra mais comum\n",
    "\n",
    "#################################################################    \n",
    "main()\n"
   ]
  },
  {
   "cell_type": "code",
   "execution_count": null,
   "metadata": {},
   "outputs": [],
   "source": []
  }
 ],
 "metadata": {
  "kernelspec": {
   "display_name": "Python 3",
   "language": "python",
   "name": "python3"
  },
  "language_info": {
   "codemirror_mode": {
    "name": "ipython",
    "version": 3
   },
   "file_extension": ".py",
   "mimetype": "text/x-python",
   "name": "python",
   "nbconvert_exporter": "python",
   "pygments_lexer": "ipython3",
   "version": "3.7.2"
  }
 },
 "nbformat": 4,
 "nbformat_minor": 2
}
