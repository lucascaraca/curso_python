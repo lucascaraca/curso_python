{
 "cells": [
  {
   "cell_type": "markdown",
   "metadata": {},
   "source": [
    "# AULA 06 #"
   ]
  },
  {
   "cell_type": "markdown",
   "metadata": {},
   "source": [
    "### 6.1: Exemplos com laços ###"
   ]
  },
  {
   "cell_type": "code",
   "execution_count": 2,
   "metadata": {},
   "outputs": [
    {
     "name": "stdout",
     "output_type": "stream",
     "text": [
      "####### MENU DE ESCOLHAS ####### \n",
      "\n",
      "\n",
      "1. Cadastre um produto.\n",
      "2. Buscar um produto\n",
      "3. Remover um produto\n",
      "4. Sair\n",
      "\n",
      "Entre com a opção desejada: 1\n",
      "Cadastrando... \n",
      "\n",
      "1. Cadastre um produto.\n",
      "2. Buscar um produto\n",
      "3. Remover um produto\n",
      "4. Sair\n",
      "\n",
      "Entre com a opção desejada: 2\n",
      "Buscando... \n",
      "\n",
      "1. Cadastre um produto.\n",
      "2. Buscar um produto\n",
      "3. Remover um produto\n",
      "4. Sair\n",
      "\n",
      "Entre com a opção desejada: 3\n",
      "Removendo... \n",
      "\n",
      "1. Cadastre um produto.\n",
      "2. Buscar um produto\n",
      "3. Remover um produto\n",
      "4. Sair\n",
      "\n",
      "Entre com a opção desejada: 4\n",
      "Seu programa será encerrado \n",
      "\n"
     ]
    }
   ],
   "source": [
    "#EXEMPLO 6.1: Menu de escolhas\n",
    "\n",
    "print('####### MENU DE ESCOLHAS #######', '\\n'*2)\n",
    "\n",
    "opcao=5\n",
    "\n",
    "while opcao != 4:\n",
    "    print('1. Cadastre um produto.')\n",
    "    print('2. Buscar um produto')\n",
    "    print('3. Remover um produto')\n",
    "    print('4. Sair')\n",
    "\n",
    "    opcao=int(input('\\nEntre com a opção desejada: '))\n",
    "\n",
    "    if opcao==1:\n",
    "        print('Cadastrando... \\n')\n",
    "\n",
    "    elif opcao==2:\n",
    "        print('Buscando... \\n')\n",
    "\n",
    "    elif opcao==3:\n",
    "        print('Removendo... \\n')\n",
    "\n",
    "    elif opcao==4:\n",
    "        print('Seu programa será encerrado \\n')\n",
    "\n",
    "    else:\n",
    "        print('Opção inválida!\\n')"
   ]
  },
  {
   "cell_type": "code",
   "execution_count": 10,
   "metadata": {},
   "outputs": [
    {
     "name": "stdout",
     "output_type": "stream",
     "text": [
      "1 1  1 2  1 3  1 4  1 5  1 6\n",
      "2 1  2 2  2 3  2 4  2 5  2 6\n",
      "3 1  3 2  3 3  3 4  3 5  3 6\n",
      "4 1  4 2  4 3  4 4  4 5  4 6\n",
      "5 1  5 2  5 3  5 4  5 5  5 6\n",
      "6 1  6 2  6 3  6 4  6 5  6 6\n",
      "7 1  7 2  7 3  7 4  7 5  7 6\n",
      "8 1  8 2  8 3  8 4  8 5  8 6\n",
      "9 1  9 2  9 3  9 4  9 5  9 6\n",
      "10 1  10 2  10 3  10 4  10 5  10 6\n",
      "11 1  11 2  11 3  11 4  11 5  11 6\n"
     ]
    }
   ],
   "source": [
    "#EXEMPLO 6.2: Laços encaixados - imprimir matriz 11x6\n",
    "\n",
    "for i in range(1,12):\n",
    "    for j in range(1,7):\n",
    "        if j!=6:\n",
    "            print(i, j, end='  ')\n",
    "        else:\n",
    "            print(i, j)"
   ]
  },
  {
   "cell_type": "code",
   "execution_count": 12,
   "metadata": {},
   "outputs": [
    {
     "name": "stdout",
     "output_type": "stream",
     "text": [
      "Digite o valor da constante C: 10\n",
      "\n",
      " As soluções inteiras de x1 + x2 = 10 são: \n",
      "\n",
      "0 + 10 = 10\n",
      "1 + 9 = 10\n",
      "2 + 8 = 10\n",
      "3 + 7 = 10\n",
      "4 + 6 = 10\n",
      "5 + 5 = 10\n",
      "6 + 4 = 10\n",
      "7 + 3 = 10\n",
      "8 + 2 = 10\n",
      "9 + 1 = 10\n",
      "10 + 0 = 10\n"
     ]
    }
   ],
   "source": [
    "#EXEMPLO 6.3: Determinar as soluções inteiras de um sistema linear do tipo: x1+x2=C\n",
    "\n",
    "C=int(input('Digite o valor da constante C: '))\n",
    "print('\\n As soluções inteiras de x1 + x2 = {} são: \\n'.format(C))\n",
    "for x1 in range(0, C+1):\n",
    "    for x2 in range (0, C+1):\n",
    "        if (x1+x2==C):\n",
    "            print(x1, \"+\", x2, \"=\", C)"
   ]
  },
  {
   "cell_type": "code",
   "execution_count": 15,
   "metadata": {},
   "outputs": [
    {
     "name": "stdout",
     "output_type": "stream",
     "text": [
      "Digite o número n: \n",
      "20\n",
      "Os números primos de 0 à 20 são os seguintes: \n",
      "2\n",
      "3\n",
      "5\n",
      "7\n",
      "11\n",
      "13\n",
      "17\n",
      "19\n",
      "O número de primos entre 0 e 20 é: 8\n"
     ]
    }
   ],
   "source": [
    "#EXEMPLO 6.4:  Impressão dos números primos de 0 a n. Testando apenas os números ímpares, com excessão do 2. E imprimindo o número total de primos.\n",
    "\n",
    "n=int(input('Digite o número n: \\n'))\n",
    "\n",
    "print('Os números primos de {} à {} são os seguintes: '.format(0, n))\n",
    "\n",
    "if(n>0):\n",
    "    #imprime o 2, como o primeiro primo.\n",
    "    print(2)\n",
    "    #com a impressão do 2, a variável que conta o número de primos se inicia com 1.\n",
    "    PI=1\n",
    "    #atribuimos então o primeiro candidato a primo\n",
    "    c=3\n",
    "    while c<=n:\n",
    "        #criamos a varíavel para o divisor a fim de ele ser testado!\n",
    "        div=3\n",
    "        #assumimos que o número é primo\n",
    "        eprimo=1\n",
    "        #loop que vai testar se o número é primo ou não, através de sua divisão pelos divisores.\n",
    "        while(div<=c/2) and eprimo==1:\n",
    "            if(c%div==0):\n",
    "                eprimo=0\n",
    "            #como o candidato  é impar ele não é divisivel por 2 nem por seus múltiplos,\n",
    "            #por isso só testamos divisores impares também!\n",
    "\n",
    "            div=div+2\n",
    "\n",
    "        #se mesmo após sair do loop e primo continuar valendo 1\n",
    "        if(eprimo==1):\n",
    "            #imprimiremos o número primo\n",
    "            print(c)\n",
    "            #e o número de primos é adicionado em 1\n",
    "            PI=PI+1\n",
    "        c=c+2\n",
    "    print('O número de primos entre {} e {} é: {}'.format(0, n, PI))\n",
    "\n",
    "else:\n",
    "    print('Você digitou um número não inteiro maior que zero, OTARIO! \\nTHAU')"
   ]
  }
 ],
 "metadata": {
  "kernelspec": {
   "display_name": "Python 3",
   "language": "python",
   "name": "python3"
  },
  "language_info": {
   "codemirror_mode": {
    "name": "ipython",
    "version": 3
   },
   "file_extension": ".py",
   "mimetype": "text/x-python",
   "name": "python",
   "nbconvert_exporter": "python",
   "pygments_lexer": "ipython3",
   "version": "3.7.2"
  }
 },
 "nbformat": 4,
 "nbformat_minor": 2
}
