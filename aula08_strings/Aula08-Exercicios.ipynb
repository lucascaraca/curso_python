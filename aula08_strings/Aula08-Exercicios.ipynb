{
 "cells": [
  {
   "cell_type": "markdown",
   "metadata": {},
   "source": [
    "022.: A) Escreva um programa que lê uma string e imprime Palindromo” caso a string seja um palindromo e “Nao Palindromo”caso contrário, assumindo que a entrada é dada sem acentos e com letras minúsculas.\n",
    "\n",
    "B) faça o mesmo para quando o usuario usa letras maiúsculas e minusculas"
   ]
  },
  {
   "cell_type": "code",
   "execution_count": 2,
   "metadata": {},
   "outputs": [
    {
     "name": "stdout",
     "output_type": "stream",
     "text": [
      "##PALÍNDROMO A## \n",
      "Digite uma string em letras minúsculas e sem acentos: Ovo\n",
      "Ovo\n",
      "Ovo\n",
      "ovO\n",
      "Nao Palindromo\n"
     ]
    }
   ],
   "source": [
    "# A)\n",
    "print('##PALÍNDROMO A## ')\n",
    "st=input('Digite uma string em letras minúsculas e sem acentos: ')\n",
    "print(st)\n",
    "\n",
    "st=st.replace(' ', '')\n",
    "print(st)\n",
    "invSt=''\n",
    "\n",
    "#enquanto i estiver entre o tamanho de st - 1 (posição do último elemento da string) e -1\n",
    "#diminua 1 no valor de i e armazene esses valores numa nova string\n",
    "for i in range(len(st)-1, -1, -1):\n",
    "    invSt=invSt + st[i]\n",
    "\n",
    "print (invSt)\n",
    "\n",
    "if invSt==st:\n",
    "    print('Palindromo')\n",
    "else:\n",
    "    print('Nao Palindromo')"
   ]
  },
  {
   "cell_type": "code",
   "execution_count": 1,
   "metadata": {},
   "outputs": [
    {
     "name": "stdout",
     "output_type": "stream",
     "text": [
      "##PALÍNDROMO B## \n",
      "Digite uma string em letras minúsculas e sem acentos: Ovo\n",
      "Ovo\n",
      "ovo\n",
      "ovo\n",
      "Palindromo\n"
     ]
    }
   ],
   "source": [
    "#B)\n",
    "\n",
    "print('##PALÍNDROMO B## ')\n",
    "st=input('Digite uma string em letras minúsculas e sem acentos: ')\n",
    "print(st)\n",
    "\n",
    "\n",
    "st=st.lower() #acrescentamos essa linha para deixar todas as letras da string minusculas\n",
    "\n",
    "\n",
    "st=st.replace(' ', '')\n",
    "print(st)\n",
    "invSt=''\n",
    "\n",
    "\n",
    "for i in range(len(st)-1, -1, -1):\n",
    "    invSt=invSt + st[i]\n",
    "\n",
    "print (invSt)\n",
    "\n",
    "if invSt==st:\n",
    "    print('Palindromo')\n",
    "else:\n",
    "    print('Nao Palindromo')"
   ]
  },
  {
   "cell_type": "markdown",
   "metadata": {},
   "source": [
    "023.:\n",
    "\n",
    "A)O usuário entra cinco números separados por brancos. Imprima a média deles.\n",
    "\n",
    "B) O usuário entra com vários números separados por branco ou virgula, por exemplo “3,4 5 6, 9” . Imprima\n",
    "a média deles."
   ]
  },
  {
   "cell_type": "code",
   "execution_count": 3,
   "metadata": {},
   "outputs": [
    {
     "name": "stdout",
     "output_type": "stream",
     "text": [
      "## A) Média ##\n",
      "\n",
      "Digite os números que deseja calcular a média separados por espaços: 7 8 10 5 6 \n",
      "Os números digitados foram: 7 8 10 5 6 \n",
      "A conversão da string digitada em lista é: ['7', '8', '10', '5', '6']\n",
      "A média dos números digitados é: 7.2\n"
     ]
    }
   ],
   "source": [
    "#A)\n",
    "\n",
    "print('## A) Média ##\\n')\n",
    "\n",
    "st=input('Digite os números que deseja calcular a média separados por espaços: ')\n",
    "print('Os números digitados foram: {}'.format(st))\n",
    "\n",
    "st=st.split()\n",
    "print('A conversão da string digitada em lista é: {}'.format(st))\n",
    "soma=0\n",
    "\n",
    "for i in range(len(st)):\n",
    "    soma=soma+float(st[i])\n",
    "\n",
    "print('A média dos números digitados é: {}'.format(soma/len(st)))"
   ]
  },
  {
   "cell_type": "code",
   "execution_count": 4,
   "metadata": {},
   "outputs": [
    {
     "name": "stdout",
     "output_type": "stream",
     "text": [
      "Digite os números que deseja calcular a média separados por vírgulas ou espaços: 8, 1 , 9 01 , 9 0,123\n",
      "A string digitada foi st1=8, 1 , 9 01 , 9 0,123\n",
      "Substituindo todas as vírgulas de st1 por espaços em branco, temos st1=8  1   9 01   9 0 123\n",
      "Transformando st1 em lista, utilizando espaços em branco como separação temos: ['8', '1', '9', '01', '9', '0', '123']\n",
      "A média dos números digitados é: 21.571428571428573\n"
     ]
    }
   ],
   "source": [
    "#B)\n",
    "\n",
    "st1=input('Digite os números que deseja calcular a média separados por vírgulas ou espaços: ')\n",
    "\n",
    "print('A string digitada foi st1={}'.format(st1))\n",
    "st1=st1.replace(',', ' ')\n",
    "\n",
    "print('Substituindo todas as vírgulas de st1 por espaços em branco, temos st1={}'.format(st1))\n",
    "\n",
    "st1=st1.split()\n",
    "print('Transformando st1 em lista, utilizando espaços em branco como separação temos: {}'.format(st1))\n",
    "\n",
    "soma=0\n",
    "for i in range(len(st1)):\n",
    "    soma=soma+float(st1[i])\n",
    "\n",
    "print('A média dos números digitados é: {}'.format(soma/len(st1)))"
   ]
  },
  {
   "cell_type": "code",
   "execution_count": null,
   "metadata": {},
   "outputs": [],
   "source": []
  }
 ],
 "metadata": {
  "kernelspec": {
   "display_name": "Python 3",
   "language": "python",
   "name": "python3"
  },
  "language_info": {
   "codemirror_mode": {
    "name": "ipython",
    "version": 3
   },
   "file_extension": ".py",
   "mimetype": "text/x-python",
   "name": "python",
   "nbconvert_exporter": "python",
   "pygments_lexer": "ipython3",
   "version": "3.7.2"
  }
 },
 "nbformat": 4,
 "nbformat_minor": 2
}
