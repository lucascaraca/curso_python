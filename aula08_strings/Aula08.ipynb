{
 "cells": [
  {
   "cell_type": "markdown",
   "metadata": {},
   "source": [
    "# Aula 08 #"
   ]
  },
  {
   "cell_type": "markdown",
   "metadata": {},
   "source": [
    "## 8.1: Strings ##"
   ]
  },
  {
   "cell_type": "markdown",
   "metadata": {},
   "source": [
    "Em Python strings são listas imutáveis e que são representadas por uma sequência de caracteres entre aspas (simples ou dulplas).\n",
    "Como são listas, podemos acessar cada um de seus caracteres, mas não podemos modificá-los.\n",
    "obs.: o espaço é reconhecido como um caracter!"
   ]
  },
  {
   "cell_type": "code",
   "execution_count": 2,
   "metadata": {},
   "outputs": [
    {
     "name": "stdout",
     "output_type": "stream",
     "text": [
      "ola como vai voce?\n",
      "O 5o caracter de \"ola como vai voce?\" é \"c\"\n",
      "OU... a[4]=c, onde a=ola como vai voce?\n"
     ]
    }
   ],
   "source": [
    "#EXEMPLO 8.1: Acessando a posição 4 de uma string\n",
    "\n",
    "a='ola como vai voce?'\n",
    "print(a)\n",
    "print('O 5o caracter de \"{}\" é \"{}\"'.format(a, a[4]))\n",
    "print('OU... a[4]={}, onde a={}'.format(a[4], a))"
   ]
  },
  {
   "cell_type": "code",
   "execution_count": 5,
   "metadata": {},
   "outputs": [
    {
     "name": "stdout",
     "output_type": "stream",
     "text": [
      " \\ n (sem o espaço) pula uma linha! no comando print\n",
      "abc\n",
      "efc\n"
     ]
    }
   ],
   "source": [
    "#EXEMPLO 8.2: Pulando uma linha dentro de uma string\n",
    "print(' \\ n (sem o espaço) pula uma linha! no comando print')\n",
    "a='abc\\nefc'\n",
    "print(a)"
   ]
  },
  {
   "cell_type": "markdown",
   "metadata": {},
   "source": [
    "### 8.2: Operações com strings ###"
   ]
  },
  {
   "cell_type": "markdown",
   "metadata": {},
   "source": [
    "Soma ou concatenação: da mesma maneira que nas listas o operador + concatena duas strings.\n",
    "\n",
    "Repetição ou multiplicação: o operador * repete a string n vezes."
   ]
  },
  {
   "cell_type": "code",
   "execution_count": 6,
   "metadata": {},
   "outputs": [
    {
     "name": "stdout",
     "output_type": "stream",
     "text": [
      "a=abc e b=def\n",
      "a+b=abcdef\n",
      "3*a=abcabcabc\n",
      "4*b=defdefdefdef\n"
     ]
    }
   ],
   "source": [
    "#EXEMPLO 8.3: Soma e multiplicação de strings\n",
    "\n",
    "a='abc'\n",
    "b='def'\n",
    "print('a={} e b={}'.format(a, b))\n",
    "print('a+b={}'.format(a+b))\n",
    "print('3*a={}'.format(3*a))\n",
    "print('4*b={}'.format(4*b))"
   ]
  },
  {
   "cell_type": "markdown",
   "metadata": {},
   "source": [
    "### 8.3: Funções úteis para strings ###"
   ]
  },
  {
   "cell_type": "markdown",
   "metadata": {},
   "source": [
    "**strip**: retorna uma string sem os brancos e mudanças de linhas no início e final de uma string. Usamos esse método da seguinte maneira:\n",
    "\n",
    "< string >.strip()\n",
    "\n",
    "\n",
    "**in**: verifica se uma substring qualquer é parte de uma outra string, retornando verdadeiro ou falso. Usamos da seguinte maneira:\n",
    "\n",
    "< substring > in < string >\n",
    "\n",
    "\n",
    "**find**: o método find retorna a posição onde a substring começa na string. Ele retorna -1 quando não ocorre na string. Usamos da seguinte maneira:\n",
    "\n",
    "< string >.find('substring')\n",
    "\n",
    "\n",
    "**slipt(< sep >)**: separa uma string usando 'sep' como separador e retorna uma lista das substrings. Para usar esse método escrevemos:\n",
    "\n",
    "< string >.split(< sep >)\n",
    "\n",
    "\n",
    "**slipt()**: separa uma string usando espaço, \\n e tab como indicadores de separação.\n",
    "\n",
    "\n",
    "**replace**: o método replace troca todas as ocorrências de uma substring em uma string. Escrevemos:\n",
    "\n",
    "< string >.replace(< substring >, < novasubstring >)\n",
    "\n",
    "\n",
    "**list**: transforma uma string em uma lista, cujos elementos são strings. Para utilizá-la escrevemos:\n",
    "\n",
    "list(< string >)\n",
    "\n",
    "\n",
    "**join**: recebe uma lista e transforma em uma string utilizando o separador str (OQUE É ISSO?) Escrevemos:\n",
    "\n",
    "str=< str >\n",
    "str.join(< lista >)"
   ]
  },
  {
   "cell_type": "code",
   "execution_count": 8,
   "metadata": {},
   "outputs": [
    {
     "name": "stdout",
     "output_type": "stream",
     "text": [
      "a=         Roberto de Nori não   \n",
      "            Roberto de Niro   \n",
      "a.strip=Roberto de Nori não   \n",
      "            Roberto de Niro\n"
     ]
    }
   ],
   "source": [
    "#EXEMPLO 8.4: Strip\n",
    "a='         Roberto de Nori não   \\n            Roberto de Niro   '\n",
    "print('a={}'.format(a))\n",
    "print('a.strip={}'.format(a.strip()))"
   ]
  },
  {
   "cell_type": "code",
   "execution_count": 9,
   "metadata": {},
   "outputs": [
    {
     "name": "stdout",
     "output_type": "stream",
     "text": [
      "sb=list\n",
      "st=listening\n",
      "sb in st=True\n"
     ]
    }
   ],
   "source": [
    "#EXEMPLO 8.5: In\n",
    "\n",
    "sb='list'\n",
    "st='listening'\n",
    "print('sb={}\\nst={}'.format(sb, st))\n",
    "print('sb in st={}'.format(sb in st))"
   ]
  },
  {
   "cell_type": "code",
   "execution_count": 10,
   "metadata": {},
   "outputs": [
    {
     "name": "stdout",
     "output_type": "stream",
     "text": [
      "st.find(sb)=0\n",
      "st.find(a)=-1\n"
     ]
    }
   ],
   "source": [
    "#EXEMPLO 8.6: Find\n",
    "\n",
    "sb='list'\n",
    "st='listening'\n",
    "print('st.find(sb)={}'.format(st.find(sb)))\n",
    "print('st.find(a)={}'.format(st.find('a')))"
   ]
  },
  {
   "cell_type": "code",
   "execution_count": 12,
   "metadata": {},
   "outputs": [
    {
     "name": "stdout",
     "output_type": "stream",
     "text": [
      "Vamos usar o caracter \"d\" como indicador de separação!\n",
      "a=asdsjisd ijasjiad ijadashuda \n",
      " s\n",
      "a.split(d)=['as', 'sjis', ' ijasjia', ' ija', 'ashu', 'a \\n s']\n",
      "a.split()=['asdsjisd', 'ijasjiad', 'ijadashuda', 's']\n",
      "Observe que no segundo os espaços e \"\\ n\" é que separam a string na lista.\n"
     ]
    }
   ],
   "source": [
    "#EXEMPLO 8.7: Split\n",
    "\n",
    "print('Vamos usar o caracter \"d\" como indicador de separação!')\n",
    "a='asdsjisd ijasjiad ijadashuda \\n s'\n",
    "print('a={}'.format(a))\n",
    "print('a.split(d)={}'.format(a.split('d')))\n",
    "print('a.split()={}'.format(a.split()))\n",
    "print('Observe que no segundo os espaços e \"\\ n\" é que separam a string na lista.')"
   ]
  },
  {
   "cell_type": "code",
   "execution_count": 13,
   "metadata": {},
   "outputs": [
    {
     "name": "stdout",
     "output_type": "stream",
     "text": [
      "a=listening\n",
      "a.replace(\"list\", \"Neymar\")=Neymarening\n"
     ]
    }
   ],
   "source": [
    "#EXEMPLO 8.8: Replace\n",
    "\n",
    "a='listening'\n",
    "print('a={}'.format(a))\n",
    "print('a.replace(\"list\", \"Neymar\")={}'.format(a.replace('list', 'Neymar')))"
   ]
  },
  {
   "cell_type": "code",
   "execution_count": 14,
   "metadata": {},
   "outputs": [
    {
     "name": "stdout",
     "output_type": "stream",
     "text": [
      "a=NEYMAR É TOP\n",
      "list(a)=['N', 'E', 'Y', 'M', 'A', 'R', ' ', 'É', ' ', 'T', 'O', 'P']\n",
      "Note que os espaços em branco são tidos como caracteres!\n"
     ]
    }
   ],
   "source": [
    "#EXEMPLO 8.9: List\n",
    "\n",
    "a='NEYMAR É TOP'\n",
    "print('a={}'.format(a))\n",
    "print('list(a)={}'.format(list(a)))\n",
    "print('Note que os espaços em branco são tidos como caracteres!')"
   ]
  },
  {
   "cell_type": "code",
   "execution_count": 15,
   "metadata": {},
   "outputs": [
    {
     "name": "stdout",
     "output_type": "stream",
     "text": [
      "a=['a', 'b', ' c', 'd', ' e', 'f']\n",
      "str=\"\"\n",
      "str.join(a)=ab cd ef\n",
      "str=\" \"\n",
      "str.join(a)=a b  c d  e f\n",
      "Join não ficou claro!!\n"
     ]
    }
   ],
   "source": [
    "#EXEMPLO 8.10: Join\n",
    "\n",
    "a=['a', 'b', ' c', 'd',' e','f']\n",
    "str=''\n",
    "print('a={}'.format(a))\n",
    "print('str=\"\"')\n",
    "print('str.join(a)={}'.format(str.join(a)))\n",
    "str=\" \"\n",
    "print('str=\" \"')\n",
    "print('str.join(a)={}'.format(str.join(a)))\n",
    "print('Join não ficou claro!!')"
   ]
  },
  {
   "cell_type": "code",
   "execution_count": 18,
   "metadata": {
    "scrolled": true
   },
   "outputs": [
    {
     "name": "stdout",
     "output_type": "stream",
     "text": [
      "Digite um texto: como eh que as coisas sao assim ? tao malucas e sensatas\n",
      "Antes do método replace!\n",
      "como eh que as coisas sao assim ? tao malucas e sensatas\n",
      "Depois do método replace!\n",
      "como eh que as coisas sao assim  tao malucas e sensatas\n",
      "O número de palavras digitadas é: 11\n"
     ]
    }
   ],
   "source": [
    "#EXEMPLO 8.11: Faça um programa que leia um texto e:\n",
    "#a) conte o número de palavras nele;\n",
    "#b) faça a busca de todas as ocorrências de uma palavra no texto.\n",
    "\n",
    "\n",
    "#criamos uma variável para armazenar o texto da pessoa\n",
    "st=input('Digite um texto: ')\n",
    "#criamos um vetor com todos os sinais de pontuação\n",
    "pontuacao=['.', ',', ':', ';', '!', '?', ']', '[', '{', '}', '|',\"'\", '/', '-', '_']\n",
    "\n",
    "print('Antes do método replace!')\n",
    "print(st)\n",
    "#agora percorreremos o vetor pontuacao e utilizaremos a função replace, para substituir todos seus compo-\n",
    "#nentes por um espaço em branco\n",
    "\n",
    "for pont in pontuacao:\n",
    "    st=st.replace(pont, '')\n",
    "\n",
    "print('Depois do método replace!')\n",
    "print(st)\n",
    "\n",
    "#usamos agora o método split() que transforma uma string num vetor, onde cada elemento é delimitado pelos\n",
    "#espaços da string e também a função len() que devolve o tamanho do vetor em questão.\n",
    "\n",
    "numPal=len(st.split())\n",
    "print('O número de palavras digitadas é: {}'.format(numPal))"
   ]
  }
 ],
 "metadata": {
  "kernelspec": {
   "display_name": "Python 3",
   "language": "python",
   "name": "python3"
  },
  "language_info": {
   "codemirror_mode": {
    "name": "ipython",
    "version": 3
   },
   "file_extension": ".py",
   "mimetype": "text/x-python",
   "name": "python",
   "nbconvert_exporter": "python",
   "pygments_lexer": "ipython3",
   "version": "3.7.2"
  }
 },
 "nbformat": 4,
 "nbformat_minor": 2
}
