{
 "cells": [
  {
   "cell_type": "markdown",
   "metadata": {},
   "source": [
    "# Aula 07 #"
   ]
  },
  {
   "cell_type": "markdown",
   "metadata": {},
   "source": [
    "### 7.1: Listas ###"
   ]
  },
  {
   "cell_type": "markdown",
   "metadata": {},
   "source": [
    "#### 7.1.1: Definição ####"
   ]
  },
  {
   "cell_type": "markdown",
   "metadata": {},
   "source": [
    "Listas são construções de linguagem de programação que servem para armazenar diversos dados de forma simplificada. Listas em Python são o análogo dos vetores em C.\n",
    "\n",
    "É basicamente uma variável que armazena uma grande quantidade de dados.\n",
    "Ex: se precisássemos armazenar 100 notas, deveríamos criar uma variável pra cada nota? (MUITO inviável)\n",
    "\n",
    "Propriedades de listas:\n",
    ". elas possuem índices inteiros, onde cada um armazena um dado.\n",
    ". cada dado é acessado por meio do índice associado a ele.\n",
    ". podemos editá-las: incluindo, removendo ou alterando dados\n",
    "\n",
    "Declaração de uma lista:\n",
    "<identificador/nome da variável>=[dado1, dado2, ..., dadoN]"
   ]
  },
  {
   "cell_type": "code",
   "execution_count": 1,
   "metadata": {},
   "outputs": [
    {
     "name": "stdout",
     "output_type": "stream",
     "text": [
      "[-9, 7, 3, 10, -100]\n",
      "['roberto', 2, 56.9, 10]\n",
      "['ana', 'beatriz', 'romoaldo', 'lessie']\n",
      "[10, [10, 900], 'romoaldo']\n",
      "[['roberto', 2, 56.9, 10], 2, 4]\n",
      "[[[-9, 7, 3, 10, -100]], [['roberto', 2, 56.9, 10], 2, 4]]\n"
     ]
    }
   ],
   "source": [
    "#EXEMPLO 7.1: Declarando e imprimindo listas\n",
    "\n",
    "x=[-9, 7, 3, 10, -100] #de inteiros\n",
    "y=['roberto', 2, 56.90, 10] #mista\n",
    "z=['ana', 'beatriz', 'romoaldo', 'lessie'] #strings\n",
    "w=[10,[10,900],'romoaldo'] #lista com lista dentro\n",
    "q=[y, 2, 4]\n",
    "r=[[x], q]\n",
    "print(x)\n",
    "print(y)\n",
    "print(z)\n",
    "print(w)\n",
    "print(q)\n",
    "print(r)"
   ]
  },
  {
   "cell_type": "markdown",
   "metadata": {},
   "source": [
    "#### 7.1.2. Índices e acesso de dados ####"
   ]
  },
  {
   "cell_type": "markdown",
   "metadata": {},
   "source": [
    "Os índices de uma lista \"correm\" de 0 à n-1, onde n é o número de dados dessa lista. Para acessar o dado correspondente a uma determinada posição, digitamos:\n",
    "\n",
    "<identificador/nome da variável>[posição]\n",
    "\n",
    "obs.: índices negativos se referem a lista da direita para a esquerda (começa em -1) "
   ]
  },
  {
   "cell_type": "code",
   "execution_count": 8,
   "metadata": {},
   "outputs": [
    {
     "name": "stdout",
     "output_type": "stream",
     "text": [
      "x = [-9, 7, 3, 10, -100]\n",
      "x[3] = 10\n",
      "Modificando a lista\n",
      "x =  [-9, 7, 3, 10, 100]\n"
     ]
    }
   ],
   "source": [
    "#EXEMPLO 7.2: Imprimindo e alterando um dado de uma lista \n",
    "x=[-9, 7, 3, 10, -100]\n",
    "print('x =', x)\n",
    "print('x[3] =',x[3])\n",
    "\n",
    "print(\"Modificando a lista\")\n",
    "x[4]=100\n",
    "print('x = ', x)"
   ]
  },
  {
   "cell_type": "code",
   "execution_count": 11,
   "metadata": {},
   "outputs": [
    {
     "name": "stdout",
     "output_type": "stream",
     "text": [
      "l =  [1, 2, 3, 4, 5, 4]\n",
      "5*l =  [5, 10, 15, 20, 25, 20]\n"
     ]
    }
   ],
   "source": [
    "#EXEMPLO 7.3: Multiplicando uma lista por uma constante\n",
    "\n",
    "l=[1, 2, 3, 4, 5, 4]\n",
    "\n",
    "print('l = ', l)\n",
    "\n",
    "for i in range(6):\n",
    "    l[i]=5*l[i]\n",
    "print('5*l = ', l)"
   ]
  },
  {
   "cell_type": "code",
   "execution_count": 12,
   "metadata": {},
   "outputs": [
    {
     "name": "stdout",
     "output_type": "stream",
     "text": [
      "l =  [1, 2, 3, 4]\n",
      "l[-1] =  4\n",
      "l[-2] =  3\n",
      "l[-3] =  2\n",
      "l[-4] =  1\n"
     ]
    }
   ],
   "source": [
    "#EXEMPLO 7.4: Acesso com índices negativos\n",
    "\n",
    "l=[1, 2, 3, 4]\n",
    "print('l = ', l)\n",
    "print('l[-1] = ', l[-1])\n",
    "print('l[-2] = ', l[-2])\n",
    "print('l[-3] = ', l[-3])\n",
    "print('l[-4] = ', l[-4])"
   ]
  },
  {
   "cell_type": "markdown",
   "metadata": {},
   "source": [
    "### 7.2: Funções úteis ###"
   ]
  },
  {
   "cell_type": "markdown",
   "metadata": {},
   "source": [
    "len(< lista >): retorna a dimensão/número de itens da lista. É normalmente usada em conjunto com o laço 'for'.\n",
    "\n",
    "< lista >.append(< dado >): insere um dado no final da lista.\n",
    "ps.: o formato dessa função é diferente das usuais, pois ela vem depois de um ponto/comando; a este tipo de função damos o nome de método. As diferenças entre métodos e funções serão explicadas numa aula posterior.\n",
    "\n",
    "< lista >.insert(< índice >, < dado >): insere um dado antes da posição indicada pelo índice.\n",
    "\n",
    "del < lista >[< índice/posição >]: deleta o dado na posição indicada.\n",
    "\n",
    "< lista >.remove(< dado >): remove o dado indicado da lista; importante: o dado deve existir na lista."
   ]
  },
  {
   "cell_type": "code",
   "execution_count": 14,
   "metadata": {},
   "outputs": [
    {
     "name": "stdout",
     "output_type": "stream",
     "text": [
      "l =  [1, 2, 3, 4]\n",
      "1 2 3 4 \n",
      "\n",
      "\n"
     ]
    }
   ],
   "source": [
    "#EXEMPLO 7.5: Imprimindo os elementos de l\n",
    "l=[1, 2, 3, 4]\n",
    "print('l = ', l)\n",
    "for i in range(len(l)):\n",
    "    print(l[i], end=' ')\n",
    "print('\\n'*2)"
   ]
  },
  {
   "cell_type": "code",
   "execution_count": 15,
   "metadata": {},
   "outputs": [
    {
     "name": "stdout",
     "output_type": "stream",
     "text": [
      "antes:  [1, 2, 3, 4]\n",
      "depois:  [1, 2, 3, 4, 10]\n"
     ]
    }
   ],
   "source": [
    "#EXEMPLO 7.6: Acrescentando um dado a l\n",
    "print('antes: ', l)\n",
    "l.append(10)\n",
    "print('depois: ', l)"
   ]
  },
  {
   "cell_type": "code",
   "execution_count": 16,
   "metadata": {},
   "outputs": [
    {
     "name": "stdout",
     "output_type": "stream",
     "text": [
      "antes:  [1, 2, 3, 4, 10]\n",
      "depois:  [1, 900, 2, 3, 4, 10]\n"
     ]
    }
   ],
   "source": [
    "#EXEMPLO 7.7: Inserindo um dado na posição 1\n",
    "print('antes: ', l)\n",
    "l.insert(1, 900)\n",
    "print('depois: ', l)"
   ]
  },
  {
   "cell_type": "code",
   "execution_count": 18,
   "metadata": {},
   "outputs": [
    {
     "name": "stdout",
     "output_type": "stream",
     "text": [
      "antes:  [1, 900, 3, 4, 10]\n",
      "depois  [1, 900, 4, 10]\n"
     ]
    }
   ],
   "source": [
    "#EXEMPLO 7.8: Deletando um dado da posição 2\n",
    "\n",
    "print('antes: ', l)\n",
    "del l[2]\n",
    "print('depois ', l)"
   ]
  },
  {
   "cell_type": "code",
   "execution_count": 19,
   "metadata": {},
   "outputs": [
    {
     "name": "stdout",
     "output_type": "stream",
     "text": [
      "antes:  [1, 900, 4, 10]\n",
      "depois:  [1, 900, 10]\n"
     ]
    }
   ],
   "source": [
    "#EXEMPLO 7.9: Deletando um valor específico\n",
    "\n",
    "print('antes: ', l)\n",
    "l.remove(4)\n",
    "print('depois: ', l)"
   ]
  },
  {
   "cell_type": "markdown",
   "metadata": {},
   "source": [
    "### 7.3: Operações com listas ### "
   ]
  },
  {
   "cell_type": "markdown",
   "metadata": {},
   "source": [
    "slicing: obter uma sublista composta dos elementos entre os indices i e j de uma lista; o comando é dado por:\n",
    "< lista >[i:j] - imprime os dados do item i até o j-1\n",
    "\n",
    "soma ou concatenação: gera uma nova lista, composta pela junção dos elementos de uma lista com os da outra.\n",
    "o comando de soma é dado por:\n",
    "< lista1 >+< lista2 >, onde o resultado é uma nova lista dos elementos da segunda lista grudados com o da pri-\n",
    "meira\n",
    "\n",
    "repetição ou multiplicação: gera uma nova lista, repetindo n vezes uma lista já criada. o comando é dado \n",
    "por:\n",
    "< NovaLista >=n*< VelhaLista >, onde n é um inteiro maior que zero."
   ]
  },
  {
   "cell_type": "code",
   "execution_count": 21,
   "metadata": {},
   "outputs": [
    {
     "name": "stdout",
     "output_type": "stream",
     "text": [
      "x= [1, 'cachorro', 90, 'leão', 'gamba maldito', '007', 0.93]\n",
      "x[1:5]= ['cachorro', 90, 'leão', 'gamba maldito']\n"
     ]
    }
   ],
   "source": [
    "#EXEMPLO 7.10: Criando uma sublista\n",
    "\n",
    "x=[1, 'cachorro', 90, 'leão', 'gamba maldito', '007', 0.93]\n",
    "print('x=', x)\n",
    "y=x[1:5]\n",
    "print('x[1:5]=', y)"
   ]
  },
  {
   "cell_type": "code",
   "execution_count": 26,
   "metadata": {},
   "outputs": [
    {
     "name": "stdout",
     "output_type": "stream",
     "text": [
      "l1= [10, 20, 40, 50, 123]\n",
      "l2= ['robação', 'seriedade', 'compromisso', 'lazer']\n",
      "l1+l2= [10, 20, 40, 50, 123, 'robação', 'seriedade', 'compromisso', 'lazer']\n"
     ]
    }
   ],
   "source": [
    "#EXEMPLO 7.11: Somando duas listas\n",
    "\n",
    "l1=[10, 20, 40, 50, 123]\n",
    "l2=['robação', 'seriedade', 'compromisso', 'lazer']\n",
    "print('l1=', l1)\n",
    "print('l2=', l2)\n",
    "l3=l1+l2\n",
    "print('l1+l2=', l3)"
   ]
  },
  {
   "cell_type": "code",
   "execution_count": 28,
   "metadata": {},
   "outputs": [
    {
     "name": "stdout",
     "output_type": "stream",
     "text": [
      "l= ['oi', 'td']\n",
      "3*l= ['oi', 'td', 'oi', 'td', 'oi', 'td']\n"
     ]
    }
   ],
   "source": [
    "#EXEMPLO 7.12: Repetição dos elementos de uma lista\n",
    "\n",
    "l=['oi', 'td']\n",
    "print('l=', l)\n",
    "l=3*l\n",
    "print('3*l=', l)"
   ]
  },
  {
   "cell_type": "code",
   "execution_count": 30,
   "metadata": {},
   "outputs": [
    {
     "name": "stdout",
     "output_type": "stream",
     "text": [
      "Entre com a dimensão dos vetores: 2\n",
      "Entre com as coordenadas do vetor1: \n",
      "v1[1]=2\n",
      "v1[2]=2\n",
      "Entre com as coordenadadas do vetor2: \n",
      "v2[1]=2\n",
      "v2[2]=2\n",
      "v1[].v2[]=8.0\n"
     ]
    }
   ],
   "source": [
    "#EXEMPLO 7.13: Fazer um programa que calcule o produto interno de dois vetores de dimensão n\n",
    "\n",
    "acu=0.0\n",
    "n=int(input('Entre com a dimensão dos vetores: '))\n",
    "v1=n*[0]\n",
    "v2=n*[0]\n",
    "\n",
    "print('Entre com as coordenadas do vetor1: ')\n",
    "\n",
    "for j in range(n):\n",
    "    v1[j]=float(input('v1[{}]='.format(1+j)))\n",
    "\n",
    "print('Entre com as coordenadadas do vetor2: ')\n",
    "\n",
    "for i in range(n):\n",
    "    v2[i]=float(input('v2[{}]='.format(1+i)))\n",
    "\n",
    "i=0\n",
    "while i<n:\n",
    "    acu=acu+v1[i]*v2[i]\n",
    "    i=i+1\n",
    "\n",
    "print('v1[].v2[]={}'.format(acu))\n",
    "#OBS.: é possível fazer de outra forma, iniciando dois vetores vazios e usando o comando append para adicionar elementos no loop for"
   ]
  },
  {
   "cell_type": "code",
   "execution_count": 31,
   "metadata": {},
   "outputs": [
    {
     "name": "stdout",
     "output_type": "stream",
     "text": [
      "O elemento v1[0] é igual ao elemento v2[0]\n",
      "O elemento v1[0] é igual ao elemento v2[1]\n",
      "O elemento v1[1] é igual ao elemento v2[0]\n",
      "O elemento v1[1] é igual ao elemento v2[1]\n"
     ]
    }
   ],
   "source": [
    "#EXEMPLO 7.14: Procurando elementos iguais\n",
    "\n",
    "ei=0\n",
    "for i in range(n):\n",
    "    for j in range(n):\n",
    "        if v1[i]==v2[j]:\n",
    "            ei=1\n",
    "            print('O elemento v1[{}] é igual ao elemento v2[{}]'.format(i, j))\n",
    "if ei==0:\n",
    "    print('Não há elementos iguais.')"
   ]
  },
  {
   "cell_type": "code",
   "execution_count": null,
   "metadata": {},
   "outputs": [],
   "source": []
  }
 ],
 "metadata": {
  "kernelspec": {
   "display_name": "Python 3",
   "language": "python",
   "name": "python3"
  },
  "language_info": {
   "codemirror_mode": {
    "name": "ipython",
    "version": 3
   },
   "file_extension": ".py",
   "mimetype": "text/x-python",
   "name": "python",
   "nbconvert_exporter": "python",
   "pygments_lexer": "ipython3",
   "version": "3.7.2"
  }
 },
 "nbformat": 4,
 "nbformat_minor": 2
}
