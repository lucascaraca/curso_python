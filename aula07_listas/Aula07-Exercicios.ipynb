{
 "cells": [
  {
   "cell_type": "markdown",
   "metadata": {},
   "source": [
    "019.: Escreva um programa que lê 10 números inteiros e os salva em uma lista. Em seguida o programa deve encontrar a posição do maior elemento da lista e imprimir esta posição."
   ]
  },
  {
   "cell_type": "code",
   "execution_count": 1,
   "metadata": {},
   "outputs": [
    {
     "name": "stdout",
     "output_type": "stream",
     "text": [
      "Dim(v)= 4\n",
      "v[0]=9\n",
      "v[1]=9.8\n",
      "v[2]=1000.6\n",
      "v[3]=1000.7\n",
      "O maior valor é o 1000.7, que se encontra na posição 3.\n"
     ]
    }
   ],
   "source": [
    "#criamos uma lista vazia\n",
    "v=[]\n",
    "\n",
    "#pedimos ao usuário para digitar sua dimensão\n",
    "n=int(input('Dim(v)= '))\n",
    "\n",
    "#recebemos os valores e os armazenamos em v através do método append\n",
    "for i in range(n):\n",
    "    v.append(float(input('v[{}]='.format(i))))\n",
    "\n",
    "#assumimos que o maior valor se encontra na posição 0.\n",
    "maior=v[0]\n",
    "pos=0\n",
    "for i in range(n):\n",
    "    for j in range(i+1, n):\n",
    "        if v[j]>v[i]:\n",
    "            maior=v[j]\n",
    "            pos=j\n",
    "print('O maior valor é o {}, que se encontra na posição {}.'.format(maior, pos))"
   ]
  },
  {
   "cell_type": "markdown",
   "metadata": {},
   "source": [
    "020.: Escreva um programa que lê 10 números ponto flutuante e os salva em uma lista. Em seguida o programa deve calcular a média dos valores armazenados na lista e imprimir este valor"
   ]
  },
  {
   "cell_type": "code",
   "execution_count": 2,
   "metadata": {},
   "outputs": [
    {
     "name": "stdout",
     "output_type": "stream",
     "text": [
      "Dim(v)= 4\n",
      "v[0]=10\n",
      "v[1]=20\n",
      "v[2]=30\n",
      "v[3]=40\n",
      "media=25.0\n"
     ]
    }
   ],
   "source": [
    "#criamos uma lista vazia\n",
    "v=[]\n",
    "\n",
    "#pedimos ao usuário para digitar sua dimensão\n",
    "n=int(input('Dim(v)= '))\n",
    "\n",
    "#recebemos os valores e os armazenamos em v através do método append\n",
    "for i in range(n):\n",
    "    v.append(float(input('v[{}]='.format(i))))\n",
    "\n",
    "soma=0\n",
    "\n",
    "for i in range(n):\n",
    "    soma=soma+v[i]\n",
    "\n",
    "print('media={}'.format(soma/n))"
   ]
  },
  {
   "cell_type": "markdown",
   "metadata": {},
   "source": [
    "021.: Escreva um programa que lê 10 números inteiros e os salva em uma lista. Em seguida o programa deve ler um outro número inteiro C . O programa deve então encontrar dois números de posições distintas da lista cuja multiplicação seja C e imprimı́-los. Caso não existam tais números, o programa deve informar isto."
   ]
  },
  {
   "cell_type": "code",
   "execution_count": 3,
   "metadata": {},
   "outputs": [
    {
     "name": "stdout",
     "output_type": "stream",
     "text": [
      "Dim(v)=3\n",
      "v[0]=2\n",
      "v[1]=3\n",
      "v[2]=4\n",
      "C=6\n",
      "Os números que multiplicados resultam em 6 são: 2.0 e 3.0\n"
     ]
    }
   ],
   "source": [
    "#mesmos comentários dos exercícios anteriores\n",
    "v=[]\n",
    "n=int(input('Dim(v)='))\n",
    "\n",
    "for i in range(n):\n",
    "    v.append(float(input('v[{}]='.format(i))))\n",
    "\n",
    "c=int(input('C='))\n",
    "t=0\n",
    "#o loop abaixo pegara cada um dos elementos i do vetor e irá testá-los com os elementos nas posições j>i\n",
    "#a fim de verificar se multiplicados resultam em c\n",
    "for i in range(n):\n",
    "    for j in range(i, n):\n",
    "        #caso resulte em c, o programa irá imprimir os valores e mudará o valor de t (indicadora) para 1\n",
    "        if v[i]*v[j]==c:\n",
    "            print('Os números que multiplicados resultam em {} são: {} e {}'.format(c,v[i],v[j]))\n",
    "            t=1\n",
    "#se após o loop acima t continuar valendo 0 (sendo falso), o programa imprime que não há multiplos de c\n",
    "if t==0:\n",
    "    print('Não há tais números na lista')"
   ]
  },
  {
   "cell_type": "code",
   "execution_count": null,
   "metadata": {},
   "outputs": [],
   "source": []
  }
 ],
 "metadata": {
  "kernelspec": {
   "display_name": "Python 3",
   "language": "python",
   "name": "python3"
  },
  "language_info": {
   "codemirror_mode": {
    "name": "ipython",
    "version": 3
   },
   "file_extension": ".py",
   "mimetype": "text/x-python",
   "name": "python",
   "nbconvert_exporter": "python",
   "pygments_lexer": "ipython3",
   "version": "3.7.2"
  }
 },
 "nbformat": 4,
 "nbformat_minor": 2
}
